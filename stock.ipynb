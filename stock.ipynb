{
 "metadata": {
  "language_info": {
   "codemirror_mode": {
    "name": "ipython",
    "version": 3
   },
   "file_extension": ".py",
   "mimetype": "text/x-python",
   "name": "python",
   "nbconvert_exporter": "python",
   "pygments_lexer": "ipython3",
   "version": "3.7.3"
  },
  "orig_nbformat": 2,
  "kernelspec": {
   "name": "python373jvsc74a57bd049e3b2259e78df9cfdab8a0147e70af135d67b84d369900a8e7b867539ba6049",
   "display_name": "Python 3.7.3 64-bit ('base': conda)"
  }
 },
 "nbformat": 4,
 "nbformat_minor": 2,
 "cells": [
  {
   "cell_type": "code",
   "execution_count": 4,
   "metadata": {},
   "outputs": [],
   "source": [
    "import numpy as np \n",
    "import pandas as pd \n",
    "import warnings\n",
    "import seaborn as sn\n",
    "warnings.filterwarnings(\"ignore\")"
   ]
  },
  {
   "cell_type": "code",
   "execution_count": 5,
   "metadata": {},
   "outputs": [
    {
     "output_type": "stream",
     "name": "stderr",
     "text": [
      "UsageError: Line magic function `%matplotlib.inline` not found.\n"
     ]
    }
   ],
   "source": [
    "import matplotlib.pyplot as plt \n",
    "%matplotlib.inline\n"
   ]
  },
  {
   "cell_type": "code",
   "execution_count": 10,
   "metadata": {},
   "outputs": [
    {
     "output_type": "execute_result",
     "data": {
      "text/plain": [
       "         Date  Label                                               Top1  \\\n",
       "0  2000-01-03      0  A 'hindrance to operations': extracts from the...   \n",
       "1  2000-01-04      0                                          Scorecard   \n",
       "2  2000-01-05      0                  Coventry caught on counter by Flo   \n",
       "3  2000-01-06      1                      Pilgrim knows how to progress   \n",
       "4  2000-01-07      1                               Hitches and Horlocks   \n",
       "\n",
       "                                 Top2  \\\n",
       "0                           Scorecard   \n",
       "1                 The best lake scene   \n",
       "2  United's rivals on the road to Rio   \n",
       "3                 Thatcher facing ban   \n",
       "4      Beckham off but United survive   \n",
       "\n",
       "                                            Top3  \\\n",
       "0                Hughes' instant hit buoys Blues   \n",
       "1                  Leader: German sleaze inquiry   \n",
       "2  Thatcher issues defence before trial by video   \n",
       "3        McIlroy calls for Irish fighting spirit   \n",
       "4                        Breast cancer screening   \n",
       "\n",
       "                                            Top4  \\\n",
       "0       Jack gets his skates on at ice-cold Alex   \n",
       "1                                  Cheerio, boyo   \n",
       "2  Police help Smith lay down the law at Everton   \n",
       "3                Leicester bin stadium blueprint   \n",
       "4                                    Alan Parker   \n",
       "\n",
       "                                          Top5  \\\n",
       "0       Chaos as Maracana builds up for United   \n",
       "1                     The main recommendations   \n",
       "2  Tale of Trautmann bears two more retellings   \n",
       "3               United braced for Mexican wave   \n",
       "4      Guardian readers: are you all whingers?   \n",
       "\n",
       "                                                Top6  \\\n",
       "0  Depleted Leicester prevail as Elliott spoils E...   \n",
       "1                             Has Cubie killed fees?   \n",
       "2                                England on the rack   \n",
       "3  Auntie back in fashion, even if the dress look...   \n",
       "4                                   Hollywood Beyond   \n",
       "\n",
       "                                              Top7  \\\n",
       "0                 Hungry Spurs sense rich pickings   \n",
       "1                           Has Cubie killed fees?   \n",
       "2  Pakistan retaliate with call for video of Walsh   \n",
       "3                    Shoaib appeal goes to the top   \n",
       "4                               Ashes and diamonds   \n",
       "\n",
       "                                                Top8  ...  \\\n",
       "0                  Gunners so wide of an easy target  ...   \n",
       "1                             Has Cubie killed fees?  ...   \n",
       "2               Cullinan continues his Cape monopoly  ...   \n",
       "3  Hussain hurt by 'shambles' but lays blame on e...  ...   \n",
       "4                   Whingers - a formidable minority  ...   \n",
       "\n",
       "                                               Top16  \\\n",
       "0           Flintoff injury piles on woe for England   \n",
       "1                               On the critical list   \n",
       "2                        South Melbourne (Australia)   \n",
       "3  Putin admits Yeltsin quit to give him a head s...   \n",
       "4                             Most everywhere:  UDIs   \n",
       "\n",
       "                                               Top17  \\\n",
       "0  Hunters threaten Jospin with new battle of the...   \n",
       "1                          The timing of their lives   \n",
       "2                                    Necaxa (Mexico)   \n",
       "3         BBC worst hit as digital TV begins to bite   \n",
       "4                       Most wanted:  Chloe lunettes   \n",
       "\n",
       "                                            Top18  \\\n",
       "0             Kohl's successor drawn into scandal   \n",
       "1                                     Dear doctor   \n",
       "2                             Real Madrid (Spain)   \n",
       "3                     How much can you pay for...   \n",
       "4  Return of the cane 'completely off the agenda'   \n",
       "\n",
       "                                               Top19  \\\n",
       "0               The difference between men and women   \n",
       "1  Irish court halts IRA man's extradition to Nor...   \n",
       "2                          Raja Casablanca (Morocco)   \n",
       "3                                 Christmas glitches   \n",
       "4                   From Sleepy Hollow to Greeneland   \n",
       "\n",
       "                                               Top20  \\\n",
       "0                Sara Denver, nurse turned solicitor   \n",
       "1  Burundi peace initiative fades after rebels re...   \n",
       "2                               Corinthians (Brazil)   \n",
       "3  Upending a table, Chopping a line and Scoring ...   \n",
       "4              Blunkett outlines vision for over 11s   \n",
       "\n",
       "                                               Top21  \\\n",
       "0     Diana's landmine crusade put Tories in a panic   \n",
       "1               PE points the way forward to the ECB   \n",
       "2                                 Tony's pet project   \n",
       "3   Scientific evidence 'unreliable', defence claims   \n",
       "4  Embattled Dobson attacks 'play now, pay later'...   \n",
       "\n",
       "                                               Top22  \\\n",
       "0  Yeltsin's resignation caught opposition flat-f...   \n",
       "1  Campaigners keep up pressure on Nazi war crime...   \n",
       "2                            Al Nassr (Saudi Arabia)   \n",
       "3     Fusco wins judicial review in extradition case   \n",
       "4                                  Doom and the Dome   \n",
       "\n",
       "                             Top23  \\\n",
       "0                 Russian roulette   \n",
       "1                   Jane Ratcliffe   \n",
       "2                Ideal Holmes show   \n",
       "3    Rebels thwart Russian advance   \n",
       "4  What is the north-south divide?   \n",
       "\n",
       "                                               Top24  \\\n",
       "0                                           Sold out   \n",
       "1  Yet more things you wouldn't know without the ...   \n",
       "2               Pinochet leaves hospital after tests   \n",
       "3               Blair orders shake-up of failing NHS   \n",
       "4                          Aitken released from jail   \n",
       "\n",
       "                          Top25  \n",
       "0            Recovering a title  \n",
       "1  Millennium bug fails to bite  \n",
       "2                  Useful links  \n",
       "3   Lessons of law's hard heart  \n",
       "4                    Gone aloft  \n",
       "\n",
       "[5 rows x 27 columns]"
      ],
      "text/html": "<div>\n<style scoped>\n    .dataframe tbody tr th:only-of-type {\n        vertical-align: middle;\n    }\n\n    .dataframe tbody tr th {\n        vertical-align: top;\n    }\n\n    .dataframe thead th {\n        text-align: right;\n    }\n</style>\n<table border=\"1\" class=\"dataframe\">\n  <thead>\n    <tr style=\"text-align: right;\">\n      <th></th>\n      <th>Date</th>\n      <th>Label</th>\n      <th>Top1</th>\n      <th>Top2</th>\n      <th>Top3</th>\n      <th>Top4</th>\n      <th>Top5</th>\n      <th>Top6</th>\n      <th>Top7</th>\n      <th>Top8</th>\n      <th>...</th>\n      <th>Top16</th>\n      <th>Top17</th>\n      <th>Top18</th>\n      <th>Top19</th>\n      <th>Top20</th>\n      <th>Top21</th>\n      <th>Top22</th>\n      <th>Top23</th>\n      <th>Top24</th>\n      <th>Top25</th>\n    </tr>\n  </thead>\n  <tbody>\n    <tr>\n      <th>0</th>\n      <td>2000-01-03</td>\n      <td>0</td>\n      <td>A 'hindrance to operations': extracts from the...</td>\n      <td>Scorecard</td>\n      <td>Hughes' instant hit buoys Blues</td>\n      <td>Jack gets his skates on at ice-cold Alex</td>\n      <td>Chaos as Maracana builds up for United</td>\n      <td>Depleted Leicester prevail as Elliott spoils E...</td>\n      <td>Hungry Spurs sense rich pickings</td>\n      <td>Gunners so wide of an easy target</td>\n      <td>...</td>\n      <td>Flintoff injury piles on woe for England</td>\n      <td>Hunters threaten Jospin with new battle of the...</td>\n      <td>Kohl's successor drawn into scandal</td>\n      <td>The difference between men and women</td>\n      <td>Sara Denver, nurse turned solicitor</td>\n      <td>Diana's landmine crusade put Tories in a panic</td>\n      <td>Yeltsin's resignation caught opposition flat-f...</td>\n      <td>Russian roulette</td>\n      <td>Sold out</td>\n      <td>Recovering a title</td>\n    </tr>\n    <tr>\n      <th>1</th>\n      <td>2000-01-04</td>\n      <td>0</td>\n      <td>Scorecard</td>\n      <td>The best lake scene</td>\n      <td>Leader: German sleaze inquiry</td>\n      <td>Cheerio, boyo</td>\n      <td>The main recommendations</td>\n      <td>Has Cubie killed fees?</td>\n      <td>Has Cubie killed fees?</td>\n      <td>Has Cubie killed fees?</td>\n      <td>...</td>\n      <td>On the critical list</td>\n      <td>The timing of their lives</td>\n      <td>Dear doctor</td>\n      <td>Irish court halts IRA man's extradition to Nor...</td>\n      <td>Burundi peace initiative fades after rebels re...</td>\n      <td>PE points the way forward to the ECB</td>\n      <td>Campaigners keep up pressure on Nazi war crime...</td>\n      <td>Jane Ratcliffe</td>\n      <td>Yet more things you wouldn't know without the ...</td>\n      <td>Millennium bug fails to bite</td>\n    </tr>\n    <tr>\n      <th>2</th>\n      <td>2000-01-05</td>\n      <td>0</td>\n      <td>Coventry caught on counter by Flo</td>\n      <td>United's rivals on the road to Rio</td>\n      <td>Thatcher issues defence before trial by video</td>\n      <td>Police help Smith lay down the law at Everton</td>\n      <td>Tale of Trautmann bears two more retellings</td>\n      <td>England on the rack</td>\n      <td>Pakistan retaliate with call for video of Walsh</td>\n      <td>Cullinan continues his Cape monopoly</td>\n      <td>...</td>\n      <td>South Melbourne (Australia)</td>\n      <td>Necaxa (Mexico)</td>\n      <td>Real Madrid (Spain)</td>\n      <td>Raja Casablanca (Morocco)</td>\n      <td>Corinthians (Brazil)</td>\n      <td>Tony's pet project</td>\n      <td>Al Nassr (Saudi Arabia)</td>\n      <td>Ideal Holmes show</td>\n      <td>Pinochet leaves hospital after tests</td>\n      <td>Useful links</td>\n    </tr>\n    <tr>\n      <th>3</th>\n      <td>2000-01-06</td>\n      <td>1</td>\n      <td>Pilgrim knows how to progress</td>\n      <td>Thatcher facing ban</td>\n      <td>McIlroy calls for Irish fighting spirit</td>\n      <td>Leicester bin stadium blueprint</td>\n      <td>United braced for Mexican wave</td>\n      <td>Auntie back in fashion, even if the dress look...</td>\n      <td>Shoaib appeal goes to the top</td>\n      <td>Hussain hurt by 'shambles' but lays blame on e...</td>\n      <td>...</td>\n      <td>Putin admits Yeltsin quit to give him a head s...</td>\n      <td>BBC worst hit as digital TV begins to bite</td>\n      <td>How much can you pay for...</td>\n      <td>Christmas glitches</td>\n      <td>Upending a table, Chopping a line and Scoring ...</td>\n      <td>Scientific evidence 'unreliable', defence claims</td>\n      <td>Fusco wins judicial review in extradition case</td>\n      <td>Rebels thwart Russian advance</td>\n      <td>Blair orders shake-up of failing NHS</td>\n      <td>Lessons of law's hard heart</td>\n    </tr>\n    <tr>\n      <th>4</th>\n      <td>2000-01-07</td>\n      <td>1</td>\n      <td>Hitches and Horlocks</td>\n      <td>Beckham off but United survive</td>\n      <td>Breast cancer screening</td>\n      <td>Alan Parker</td>\n      <td>Guardian readers: are you all whingers?</td>\n      <td>Hollywood Beyond</td>\n      <td>Ashes and diamonds</td>\n      <td>Whingers - a formidable minority</td>\n      <td>...</td>\n      <td>Most everywhere:  UDIs</td>\n      <td>Most wanted:  Chloe lunettes</td>\n      <td>Return of the cane 'completely off the agenda'</td>\n      <td>From Sleepy Hollow to Greeneland</td>\n      <td>Blunkett outlines vision for over 11s</td>\n      <td>Embattled Dobson attacks 'play now, pay later'...</td>\n      <td>Doom and the Dome</td>\n      <td>What is the north-south divide?</td>\n      <td>Aitken released from jail</td>\n      <td>Gone aloft</td>\n    </tr>\n  </tbody>\n</table>\n<p>5 rows × 27 columns</p>\n</div>"
     },
     "metadata": {},
     "execution_count": 10
    }
   ],
   "source": [
    "df=pd.read_csv('Data.csv',encoding='ISO-8859-1')\n",
    "df.head()"
   ]
  },
  {
   "cell_type": "code",
   "execution_count": 13,
   "metadata": {},
   "outputs": [],
   "source": [
    "train=df[df['Date']<'20150101']\n",
    "test=df[df['Date']>'20141231']"
   ]
  },
  {
   "cell_type": "code",
   "execution_count": 14,
   "metadata": {},
   "outputs": [
    {
     "output_type": "execute_result",
     "data": {
      "text/plain": [
       "         Date  Label                                               Top1  \\\n",
       "0  2000-01-03      0  A 'hindrance to operations': extracts from the...   \n",
       "1  2000-01-04      0                                          Scorecard   \n",
       "2  2000-01-05      0                  Coventry caught on counter by Flo   \n",
       "3  2000-01-06      1                      Pilgrim knows how to progress   \n",
       "4  2000-01-07      1                               Hitches and Horlocks   \n",
       "\n",
       "                                 Top2  \\\n",
       "0                           Scorecard   \n",
       "1                 The best lake scene   \n",
       "2  United's rivals on the road to Rio   \n",
       "3                 Thatcher facing ban   \n",
       "4      Beckham off but United survive   \n",
       "\n",
       "                                            Top3  \\\n",
       "0                Hughes' instant hit buoys Blues   \n",
       "1                  Leader: German sleaze inquiry   \n",
       "2  Thatcher issues defence before trial by video   \n",
       "3        McIlroy calls for Irish fighting spirit   \n",
       "4                        Breast cancer screening   \n",
       "\n",
       "                                            Top4  \\\n",
       "0       Jack gets his skates on at ice-cold Alex   \n",
       "1                                  Cheerio, boyo   \n",
       "2  Police help Smith lay down the law at Everton   \n",
       "3                Leicester bin stadium blueprint   \n",
       "4                                    Alan Parker   \n",
       "\n",
       "                                          Top5  \\\n",
       "0       Chaos as Maracana builds up for United   \n",
       "1                     The main recommendations   \n",
       "2  Tale of Trautmann bears two more retellings   \n",
       "3               United braced for Mexican wave   \n",
       "4      Guardian readers: are you all whingers?   \n",
       "\n",
       "                                                Top6  \\\n",
       "0  Depleted Leicester prevail as Elliott spoils E...   \n",
       "1                             Has Cubie killed fees?   \n",
       "2                                England on the rack   \n",
       "3  Auntie back in fashion, even if the dress look...   \n",
       "4                                   Hollywood Beyond   \n",
       "\n",
       "                                              Top7  \\\n",
       "0                 Hungry Spurs sense rich pickings   \n",
       "1                           Has Cubie killed fees?   \n",
       "2  Pakistan retaliate with call for video of Walsh   \n",
       "3                    Shoaib appeal goes to the top   \n",
       "4                               Ashes and diamonds   \n",
       "\n",
       "                                                Top8  ...  \\\n",
       "0                  Gunners so wide of an easy target  ...   \n",
       "1                             Has Cubie killed fees?  ...   \n",
       "2               Cullinan continues his Cape monopoly  ...   \n",
       "3  Hussain hurt by 'shambles' but lays blame on e...  ...   \n",
       "4                   Whingers - a formidable minority  ...   \n",
       "\n",
       "                                               Top16  \\\n",
       "0           Flintoff injury piles on woe for England   \n",
       "1                               On the critical list   \n",
       "2                        South Melbourne (Australia)   \n",
       "3  Putin admits Yeltsin quit to give him a head s...   \n",
       "4                             Most everywhere:  UDIs   \n",
       "\n",
       "                                               Top17  \\\n",
       "0  Hunters threaten Jospin with new battle of the...   \n",
       "1                          The timing of their lives   \n",
       "2                                    Necaxa (Mexico)   \n",
       "3         BBC worst hit as digital TV begins to bite   \n",
       "4                       Most wanted:  Chloe lunettes   \n",
       "\n",
       "                                            Top18  \\\n",
       "0             Kohl's successor drawn into scandal   \n",
       "1                                     Dear doctor   \n",
       "2                             Real Madrid (Spain)   \n",
       "3                     How much can you pay for...   \n",
       "4  Return of the cane 'completely off the agenda'   \n",
       "\n",
       "                                               Top19  \\\n",
       "0               The difference between men and women   \n",
       "1  Irish court halts IRA man's extradition to Nor...   \n",
       "2                          Raja Casablanca (Morocco)   \n",
       "3                                 Christmas glitches   \n",
       "4                   From Sleepy Hollow to Greeneland   \n",
       "\n",
       "                                               Top20  \\\n",
       "0                Sara Denver, nurse turned solicitor   \n",
       "1  Burundi peace initiative fades after rebels re...   \n",
       "2                               Corinthians (Brazil)   \n",
       "3  Upending a table, Chopping a line and Scoring ...   \n",
       "4              Blunkett outlines vision for over 11s   \n",
       "\n",
       "                                               Top21  \\\n",
       "0     Diana's landmine crusade put Tories in a panic   \n",
       "1               PE points the way forward to the ECB   \n",
       "2                                 Tony's pet project   \n",
       "3   Scientific evidence 'unreliable', defence claims   \n",
       "4  Embattled Dobson attacks 'play now, pay later'...   \n",
       "\n",
       "                                               Top22  \\\n",
       "0  Yeltsin's resignation caught opposition flat-f...   \n",
       "1  Campaigners keep up pressure on Nazi war crime...   \n",
       "2                            Al Nassr (Saudi Arabia)   \n",
       "3     Fusco wins judicial review in extradition case   \n",
       "4                                  Doom and the Dome   \n",
       "\n",
       "                             Top23  \\\n",
       "0                 Russian roulette   \n",
       "1                   Jane Ratcliffe   \n",
       "2                Ideal Holmes show   \n",
       "3    Rebels thwart Russian advance   \n",
       "4  What is the north-south divide?   \n",
       "\n",
       "                                               Top24  \\\n",
       "0                                           Sold out   \n",
       "1  Yet more things you wouldn't know without the ...   \n",
       "2               Pinochet leaves hospital after tests   \n",
       "3               Blair orders shake-up of failing NHS   \n",
       "4                          Aitken released from jail   \n",
       "\n",
       "                          Top25  \n",
       "0            Recovering a title  \n",
       "1  Millennium bug fails to bite  \n",
       "2                  Useful links  \n",
       "3   Lessons of law's hard heart  \n",
       "4                    Gone aloft  \n",
       "\n",
       "[5 rows x 27 columns]"
      ],
      "text/html": "<div>\n<style scoped>\n    .dataframe tbody tr th:only-of-type {\n        vertical-align: middle;\n    }\n\n    .dataframe tbody tr th {\n        vertical-align: top;\n    }\n\n    .dataframe thead th {\n        text-align: right;\n    }\n</style>\n<table border=\"1\" class=\"dataframe\">\n  <thead>\n    <tr style=\"text-align: right;\">\n      <th></th>\n      <th>Date</th>\n      <th>Label</th>\n      <th>Top1</th>\n      <th>Top2</th>\n      <th>Top3</th>\n      <th>Top4</th>\n      <th>Top5</th>\n      <th>Top6</th>\n      <th>Top7</th>\n      <th>Top8</th>\n      <th>...</th>\n      <th>Top16</th>\n      <th>Top17</th>\n      <th>Top18</th>\n      <th>Top19</th>\n      <th>Top20</th>\n      <th>Top21</th>\n      <th>Top22</th>\n      <th>Top23</th>\n      <th>Top24</th>\n      <th>Top25</th>\n    </tr>\n  </thead>\n  <tbody>\n    <tr>\n      <th>0</th>\n      <td>2000-01-03</td>\n      <td>0</td>\n      <td>A 'hindrance to operations': extracts from the...</td>\n      <td>Scorecard</td>\n      <td>Hughes' instant hit buoys Blues</td>\n      <td>Jack gets his skates on at ice-cold Alex</td>\n      <td>Chaos as Maracana builds up for United</td>\n      <td>Depleted Leicester prevail as Elliott spoils E...</td>\n      <td>Hungry Spurs sense rich pickings</td>\n      <td>Gunners so wide of an easy target</td>\n      <td>...</td>\n      <td>Flintoff injury piles on woe for England</td>\n      <td>Hunters threaten Jospin with new battle of the...</td>\n      <td>Kohl's successor drawn into scandal</td>\n      <td>The difference between men and women</td>\n      <td>Sara Denver, nurse turned solicitor</td>\n      <td>Diana's landmine crusade put Tories in a panic</td>\n      <td>Yeltsin's resignation caught opposition flat-f...</td>\n      <td>Russian roulette</td>\n      <td>Sold out</td>\n      <td>Recovering a title</td>\n    </tr>\n    <tr>\n      <th>1</th>\n      <td>2000-01-04</td>\n      <td>0</td>\n      <td>Scorecard</td>\n      <td>The best lake scene</td>\n      <td>Leader: German sleaze inquiry</td>\n      <td>Cheerio, boyo</td>\n      <td>The main recommendations</td>\n      <td>Has Cubie killed fees?</td>\n      <td>Has Cubie killed fees?</td>\n      <td>Has Cubie killed fees?</td>\n      <td>...</td>\n      <td>On the critical list</td>\n      <td>The timing of their lives</td>\n      <td>Dear doctor</td>\n      <td>Irish court halts IRA man's extradition to Nor...</td>\n      <td>Burundi peace initiative fades after rebels re...</td>\n      <td>PE points the way forward to the ECB</td>\n      <td>Campaigners keep up pressure on Nazi war crime...</td>\n      <td>Jane Ratcliffe</td>\n      <td>Yet more things you wouldn't know without the ...</td>\n      <td>Millennium bug fails to bite</td>\n    </tr>\n    <tr>\n      <th>2</th>\n      <td>2000-01-05</td>\n      <td>0</td>\n      <td>Coventry caught on counter by Flo</td>\n      <td>United's rivals on the road to Rio</td>\n      <td>Thatcher issues defence before trial by video</td>\n      <td>Police help Smith lay down the law at Everton</td>\n      <td>Tale of Trautmann bears two more retellings</td>\n      <td>England on the rack</td>\n      <td>Pakistan retaliate with call for video of Walsh</td>\n      <td>Cullinan continues his Cape monopoly</td>\n      <td>...</td>\n      <td>South Melbourne (Australia)</td>\n      <td>Necaxa (Mexico)</td>\n      <td>Real Madrid (Spain)</td>\n      <td>Raja Casablanca (Morocco)</td>\n      <td>Corinthians (Brazil)</td>\n      <td>Tony's pet project</td>\n      <td>Al Nassr (Saudi Arabia)</td>\n      <td>Ideal Holmes show</td>\n      <td>Pinochet leaves hospital after tests</td>\n      <td>Useful links</td>\n    </tr>\n    <tr>\n      <th>3</th>\n      <td>2000-01-06</td>\n      <td>1</td>\n      <td>Pilgrim knows how to progress</td>\n      <td>Thatcher facing ban</td>\n      <td>McIlroy calls for Irish fighting spirit</td>\n      <td>Leicester bin stadium blueprint</td>\n      <td>United braced for Mexican wave</td>\n      <td>Auntie back in fashion, even if the dress look...</td>\n      <td>Shoaib appeal goes to the top</td>\n      <td>Hussain hurt by 'shambles' but lays blame on e...</td>\n      <td>...</td>\n      <td>Putin admits Yeltsin quit to give him a head s...</td>\n      <td>BBC worst hit as digital TV begins to bite</td>\n      <td>How much can you pay for...</td>\n      <td>Christmas glitches</td>\n      <td>Upending a table, Chopping a line and Scoring ...</td>\n      <td>Scientific evidence 'unreliable', defence claims</td>\n      <td>Fusco wins judicial review in extradition case</td>\n      <td>Rebels thwart Russian advance</td>\n      <td>Blair orders shake-up of failing NHS</td>\n      <td>Lessons of law's hard heart</td>\n    </tr>\n    <tr>\n      <th>4</th>\n      <td>2000-01-07</td>\n      <td>1</td>\n      <td>Hitches and Horlocks</td>\n      <td>Beckham off but United survive</td>\n      <td>Breast cancer screening</td>\n      <td>Alan Parker</td>\n      <td>Guardian readers: are you all whingers?</td>\n      <td>Hollywood Beyond</td>\n      <td>Ashes and diamonds</td>\n      <td>Whingers - a formidable minority</td>\n      <td>...</td>\n      <td>Most everywhere:  UDIs</td>\n      <td>Most wanted:  Chloe lunettes</td>\n      <td>Return of the cane 'completely off the agenda'</td>\n      <td>From Sleepy Hollow to Greeneland</td>\n      <td>Blunkett outlines vision for over 11s</td>\n      <td>Embattled Dobson attacks 'play now, pay later'...</td>\n      <td>Doom and the Dome</td>\n      <td>What is the north-south divide?</td>\n      <td>Aitken released from jail</td>\n      <td>Gone aloft</td>\n    </tr>\n  </tbody>\n</table>\n<p>5 rows × 27 columns</p>\n</div>"
     },
     "metadata": {},
     "execution_count": 14
    }
   ],
   "source": [
    "train.head()"
   ]
  },
  {
   "cell_type": "code",
   "execution_count": 15,
   "metadata": {},
   "outputs": [
    {
     "output_type": "execute_result",
     "data": {
      "text/plain": [
       "            Date  Label                                               Top1  \\\n",
       "3723  2015-01-02      1  Most cases of cancer are the result of sheer b...   \n",
       "3724  2015-01-05      0  Moscow-&gt;Beijing high speed train will reduc...   \n",
       "3725  2015-01-06      0                    US oil falls below $50 a barrel   \n",
       "3726  2015-01-07      1                'Shots fired' at French magazine HQ   \n",
       "3727  2015-01-08      1  New Charlie Hebdo issue to come out next week:...   \n",
       "\n",
       "                                                   Top2  \\\n",
       "3723  Iran dismissed United States efforts to fight ...   \n",
       "3724  Two ancient tombs were discovered in Egypt on ...   \n",
       "3725  Toyota gives away 5,680 fuel cell patents to b...   \n",
       "3726    90% of Bibi Netanyahus Campaign Funds From U.S.   \n",
       "3727  Ahmed Merabet, Cop Killed In Paris Attacks, Wa...   \n",
       "\n",
       "                                                   Top3  \\\n",
       "3723  Poll: One in 8 Germans would join anti-Muslim ...   \n",
       "3724  China complains to Pyongyang after N Korean so...   \n",
       "3725  Young Indian couple who had been granted polic...   \n",
       "3726  ISIS behead street magician for entertaining c...   \n",
       "3727  Youngest Suspect in Charlie Hebdo Attack Turns...   \n",
       "\n",
       "                                                   Top4  \\\n",
       "3723  UK royal family's Prince Andrew named in US la...   \n",
       "3724  Scotland Headed Towards Being Fossil Fuel-Free...   \n",
       "3725  A senior figure in Islamic States self-declare...   \n",
       "3726  Denmark sets new world record in renewable ene...   \n",
       "3727  Grenades thrown at a mosque in Le Mans, west o...   \n",
       "\n",
       "                                                   Top5  \\\n",
       "3723  Some 40 asylum-seekers refused to leave the bu...   \n",
       "3724  Prime Minister Shinzo Abe said Monday he will ...   \n",
       "3725  Fukushima rice passes radiation tests for 1st ...   \n",
       "3726  ISIS Closes Schools In Syria, Leaving 670000 C...   \n",
       "3727  Danish newspaper to print Charlie Hebdo cartoo...   \n",
       "\n",
       "                                                   Top6  \\\n",
       "3723  Pakistani boat blows self up after India navy ...   \n",
       "3724  Sex slave at centre of Prince Andrew scandal f...   \n",
       "3725  Nearly all Spanish parties guilty of financial...   \n",
       "3726  The European Union wants Turkey to explain how...   \n",
       "3727  Muslim politician from India offers $8M to Cha...   \n",
       "\n",
       "                                                   Top7  \\\n",
       "3723  Sweden hit by third mosque arson attack in a week   \n",
       "3724  Gay relative of Hamas founder faces deportatio...   \n",
       "3725             King Abdullah to abdicate Saudi Throne   \n",
       "3726  10 people have died in a shooting at the headq...   \n",
       "3727  Vladimir Putin has condemned a deadly terroris...   \n",
       "\n",
       "                                                   Top8  ...  \\\n",
       "3723         940 cars set alight during French New Year  ...   \n",
       "3724  The number of female drug addicts in Iran has ...  ...   \n",
       "3725    Taliban Commander Caught Networking On LinkedIn  ...   \n",
       "3726  Most Earth-like planet ever discovered could b...  ...   \n",
       "3727  Turkey is trying to hide any evidence that hol...  ...   \n",
       "\n",
       "                                                  Top16  \\\n",
       "3723  Ukrainian minister threatens TV channel with c...   \n",
       "3724  The Islamic State has approved a 2015 budget o...   \n",
       "3725  Thousands of Indians have fled from their home...   \n",
       "3726  Discovery of witnesss mutilated body feeds cla...   \n",
       "3727  Thousands in Europe hold up Pens in Solidarity...   \n",
       "\n",
       "                                                  Top17  \\\n",
       "3723  Palestinian President Mahmoud Abbas has entere...   \n",
       "3724  Iceland To Withdraw EU Application, Lift Capit...   \n",
       "3725  Turkey sacks judges who oversaw Erdogan corrup...   \n",
       "3726  Radical Islam a growing threat to sub-Saharan ...   \n",
       "3727  Journalists race to show solidarity with 'Char...   \n",
       "\n",
       "                                                  Top18  \\\n",
       "3723  Israeli security center publishes names of 50 ...   \n",
       "3724  Blackfield Capital Founder Goes Missing: The v...   \n",
       "3725  SpaceX Falcon 9 launch and recovery has been a...   \n",
       "3726  Tony Blair may 'face war crime charges' over I...   \n",
       "3727  Antibiotics: US discovery labelled 'game-chang...   \n",
       "\n",
       "                                                  Top19  \\\n",
       "3723  The year 2014 was the deadliest year yet in Sy...   \n",
       "3724  Rocket stage crashes back to Earth in rural Ch...   \n",
       "3725      CNN: Americans charged in botched Gambia coup   \n",
       "3726  Benjamin Netanyahu says settlements unlikely t...   \n",
       "3727  The Charlie Hebdo attack condemned by Saudi Ar...   \n",
       "\n",
       "                                                  Top20  \\\n",
       "3723  A Secret underground complex built by the Nazi...   \n",
       "3724  2 Dead as Aircraft Bombs Greek Tanker in Libya...   \n",
       "3725          Islamic State 'Police' Official Beheaded.   \n",
       "3726  Tasmania moves to allow corporations to sue pr...   \n",
       "3727  Brisbane man wearing \"I'm with stupid\" t-shirt...   \n",
       "\n",
       "                                                  Top21  \\\n",
       "3723  Restrictions on Web Freedom a Major Global Iss...   \n",
       "3724  Belgian murderer Frank Van Den Bleeken to die ...   \n",
       "3725  Libya bans Palestinians from country to preven...   \n",
       "3726  Indonesia search chief: Tail section of AirAsi...   \n",
       "3727  Fourth Russian General Commits Suicide in Less...   \n",
       "\n",
       "                                                  Top22  \\\n",
       "3723  Austrian journalist Erich Mchel delivered a pr...   \n",
       "3724  Czech President criticizes Ukrainian PM; says ...   \n",
       "3725  A judicial inquiry was opened in France on Mon...   \n",
       "3726  North Korean Defector: \"Bureau 121\" Hackers lo...   \n",
       "3727  Meteorite turns night into day over Bucharest,...   \n",
       "\n",
       "                                                  Top23  \\\n",
       "3723    Thousands of Ukraine nationalists march in Kiev   \n",
       "3724  3 Vietnamese jets join search for 16 missing F...   \n",
       "3725  Video has captured the moment a cameraman was ...   \n",
       "3726  Female suicide bomber attacks police station i...   \n",
       "3727  Israeli doctors implant Syrian man with titani...   \n",
       "\n",
       "                                                  Top24  \\\n",
       "3723  Chinas New Years Resolution: No More Harvestin...   \n",
       "3724  France seeks end to Russia sanctions over Ukraine   \n",
       "3725  Syria has complained to the United Nations tha...   \n",
       "3726  IS to turn Syria schools into religious indoct...   \n",
       "3727  Unusual Metal Recovered from Ancient Greek Shi...   \n",
       "\n",
       "                                                  Top25  \n",
       "3723  Authorities Pull Plug on Russia's Last Politic...  \n",
       "3724                      China scraps rare earths caps  \n",
       "3725  Tests over, India set to make the iris of bigg...  \n",
       "3726   Ebola vaccine trials in Halifax so far a success  \n",
       "3727  Young mother let terrorists into Charlie Hebdo...  \n",
       "\n",
       "[5 rows x 27 columns]"
      ],
      "text/html": "<div>\n<style scoped>\n    .dataframe tbody tr th:only-of-type {\n        vertical-align: middle;\n    }\n\n    .dataframe tbody tr th {\n        vertical-align: top;\n    }\n\n    .dataframe thead th {\n        text-align: right;\n    }\n</style>\n<table border=\"1\" class=\"dataframe\">\n  <thead>\n    <tr style=\"text-align: right;\">\n      <th></th>\n      <th>Date</th>\n      <th>Label</th>\n      <th>Top1</th>\n      <th>Top2</th>\n      <th>Top3</th>\n      <th>Top4</th>\n      <th>Top5</th>\n      <th>Top6</th>\n      <th>Top7</th>\n      <th>Top8</th>\n      <th>...</th>\n      <th>Top16</th>\n      <th>Top17</th>\n      <th>Top18</th>\n      <th>Top19</th>\n      <th>Top20</th>\n      <th>Top21</th>\n      <th>Top22</th>\n      <th>Top23</th>\n      <th>Top24</th>\n      <th>Top25</th>\n    </tr>\n  </thead>\n  <tbody>\n    <tr>\n      <th>3723</th>\n      <td>2015-01-02</td>\n      <td>1</td>\n      <td>Most cases of cancer are the result of sheer b...</td>\n      <td>Iran dismissed United States efforts to fight ...</td>\n      <td>Poll: One in 8 Germans would join anti-Muslim ...</td>\n      <td>UK royal family's Prince Andrew named in US la...</td>\n      <td>Some 40 asylum-seekers refused to leave the bu...</td>\n      <td>Pakistani boat blows self up after India navy ...</td>\n      <td>Sweden hit by third mosque arson attack in a week</td>\n      <td>940 cars set alight during French New Year</td>\n      <td>...</td>\n      <td>Ukrainian minister threatens TV channel with c...</td>\n      <td>Palestinian President Mahmoud Abbas has entere...</td>\n      <td>Israeli security center publishes names of 50 ...</td>\n      <td>The year 2014 was the deadliest year yet in Sy...</td>\n      <td>A Secret underground complex built by the Nazi...</td>\n      <td>Restrictions on Web Freedom a Major Global Iss...</td>\n      <td>Austrian journalist Erich Mchel delivered a pr...</td>\n      <td>Thousands of Ukraine nationalists march in Kiev</td>\n      <td>Chinas New Years Resolution: No More Harvestin...</td>\n      <td>Authorities Pull Plug on Russia's Last Politic...</td>\n    </tr>\n    <tr>\n      <th>3724</th>\n      <td>2015-01-05</td>\n      <td>0</td>\n      <td>Moscow-&amp;gt;Beijing high speed train will reduc...</td>\n      <td>Two ancient tombs were discovered in Egypt on ...</td>\n      <td>China complains to Pyongyang after N Korean so...</td>\n      <td>Scotland Headed Towards Being Fossil Fuel-Free...</td>\n      <td>Prime Minister Shinzo Abe said Monday he will ...</td>\n      <td>Sex slave at centre of Prince Andrew scandal f...</td>\n      <td>Gay relative of Hamas founder faces deportatio...</td>\n      <td>The number of female drug addicts in Iran has ...</td>\n      <td>...</td>\n      <td>The Islamic State has approved a 2015 budget o...</td>\n      <td>Iceland To Withdraw EU Application, Lift Capit...</td>\n      <td>Blackfield Capital Founder Goes Missing: The v...</td>\n      <td>Rocket stage crashes back to Earth in rural Ch...</td>\n      <td>2 Dead as Aircraft Bombs Greek Tanker in Libya...</td>\n      <td>Belgian murderer Frank Van Den Bleeken to die ...</td>\n      <td>Czech President criticizes Ukrainian PM; says ...</td>\n      <td>3 Vietnamese jets join search for 16 missing F...</td>\n      <td>France seeks end to Russia sanctions over Ukraine</td>\n      <td>China scraps rare earths caps</td>\n    </tr>\n    <tr>\n      <th>3725</th>\n      <td>2015-01-06</td>\n      <td>0</td>\n      <td>US oil falls below $50 a barrel</td>\n      <td>Toyota gives away 5,680 fuel cell patents to b...</td>\n      <td>Young Indian couple who had been granted polic...</td>\n      <td>A senior figure in Islamic States self-declare...</td>\n      <td>Fukushima rice passes radiation tests for 1st ...</td>\n      <td>Nearly all Spanish parties guilty of financial...</td>\n      <td>King Abdullah to abdicate Saudi Throne</td>\n      <td>Taliban Commander Caught Networking On LinkedIn</td>\n      <td>...</td>\n      <td>Thousands of Indians have fled from their home...</td>\n      <td>Turkey sacks judges who oversaw Erdogan corrup...</td>\n      <td>SpaceX Falcon 9 launch and recovery has been a...</td>\n      <td>CNN: Americans charged in botched Gambia coup</td>\n      <td>Islamic State 'Police' Official Beheaded.</td>\n      <td>Libya bans Palestinians from country to preven...</td>\n      <td>A judicial inquiry was opened in France on Mon...</td>\n      <td>Video has captured the moment a cameraman was ...</td>\n      <td>Syria has complained to the United Nations tha...</td>\n      <td>Tests over, India set to make the iris of bigg...</td>\n    </tr>\n    <tr>\n      <th>3726</th>\n      <td>2015-01-07</td>\n      <td>1</td>\n      <td>'Shots fired' at French magazine HQ</td>\n      <td>90% of Bibi Netanyahus Campaign Funds From U.S.</td>\n      <td>ISIS behead street magician for entertaining c...</td>\n      <td>Denmark sets new world record in renewable ene...</td>\n      <td>ISIS Closes Schools In Syria, Leaving 670000 C...</td>\n      <td>The European Union wants Turkey to explain how...</td>\n      <td>10 people have died in a shooting at the headq...</td>\n      <td>Most Earth-like planet ever discovered could b...</td>\n      <td>...</td>\n      <td>Discovery of witnesss mutilated body feeds cla...</td>\n      <td>Radical Islam a growing threat to sub-Saharan ...</td>\n      <td>Tony Blair may 'face war crime charges' over I...</td>\n      <td>Benjamin Netanyahu says settlements unlikely t...</td>\n      <td>Tasmania moves to allow corporations to sue pr...</td>\n      <td>Indonesia search chief: Tail section of AirAsi...</td>\n      <td>North Korean Defector: \"Bureau 121\" Hackers lo...</td>\n      <td>Female suicide bomber attacks police station i...</td>\n      <td>IS to turn Syria schools into religious indoct...</td>\n      <td>Ebola vaccine trials in Halifax so far a success</td>\n    </tr>\n    <tr>\n      <th>3727</th>\n      <td>2015-01-08</td>\n      <td>1</td>\n      <td>New Charlie Hebdo issue to come out next week:...</td>\n      <td>Ahmed Merabet, Cop Killed In Paris Attacks, Wa...</td>\n      <td>Youngest Suspect in Charlie Hebdo Attack Turns...</td>\n      <td>Grenades thrown at a mosque in Le Mans, west o...</td>\n      <td>Danish newspaper to print Charlie Hebdo cartoo...</td>\n      <td>Muslim politician from India offers $8M to Cha...</td>\n      <td>Vladimir Putin has condemned a deadly terroris...</td>\n      <td>Turkey is trying to hide any evidence that hol...</td>\n      <td>...</td>\n      <td>Thousands in Europe hold up Pens in Solidarity...</td>\n      <td>Journalists race to show solidarity with 'Char...</td>\n      <td>Antibiotics: US discovery labelled 'game-chang...</td>\n      <td>The Charlie Hebdo attack condemned by Saudi Ar...</td>\n      <td>Brisbane man wearing \"I'm with stupid\" t-shirt...</td>\n      <td>Fourth Russian General Commits Suicide in Less...</td>\n      <td>Meteorite turns night into day over Bucharest,...</td>\n      <td>Israeli doctors implant Syrian man with titani...</td>\n      <td>Unusual Metal Recovered from Ancient Greek Shi...</td>\n      <td>Young mother let terrorists into Charlie Hebdo...</td>\n    </tr>\n  </tbody>\n</table>\n<p>5 rows × 27 columns</p>\n</div>"
     },
     "metadata": {},
     "execution_count": 15
    }
   ],
   "source": [
    "test.head()"
   ]
  },
  {
   "cell_type": "code",
   "execution_count": 16,
   "metadata": {},
   "outputs": [],
   "source": [
    "data=train.iloc[:,2:27]"
   ]
  },
  {
   "cell_type": "code",
   "execution_count": 17,
   "metadata": {},
   "outputs": [
    {
     "output_type": "execute_result",
     "data": {
      "text/plain": [
       "                                                Top1  \\\n",
       "0  A 'hindrance to operations': extracts from the...   \n",
       "1                                          Scorecard   \n",
       "2                  Coventry caught on counter by Flo   \n",
       "3                      Pilgrim knows how to progress   \n",
       "4                               Hitches and Horlocks   \n",
       "\n",
       "                                 Top2  \\\n",
       "0                           Scorecard   \n",
       "1                 The best lake scene   \n",
       "2  United's rivals on the road to Rio   \n",
       "3                 Thatcher facing ban   \n",
       "4      Beckham off but United survive   \n",
       "\n",
       "                                            Top3  \\\n",
       "0                Hughes' instant hit buoys Blues   \n",
       "1                  Leader: German sleaze inquiry   \n",
       "2  Thatcher issues defence before trial by video   \n",
       "3        McIlroy calls for Irish fighting spirit   \n",
       "4                        Breast cancer screening   \n",
       "\n",
       "                                            Top4  \\\n",
       "0       Jack gets his skates on at ice-cold Alex   \n",
       "1                                  Cheerio, boyo   \n",
       "2  Police help Smith lay down the law at Everton   \n",
       "3                Leicester bin stadium blueprint   \n",
       "4                                    Alan Parker   \n",
       "\n",
       "                                          Top5  \\\n",
       "0       Chaos as Maracana builds up for United   \n",
       "1                     The main recommendations   \n",
       "2  Tale of Trautmann bears two more retellings   \n",
       "3               United braced for Mexican wave   \n",
       "4      Guardian readers: are you all whingers?   \n",
       "\n",
       "                                                Top6  \\\n",
       "0  Depleted Leicester prevail as Elliott spoils E...   \n",
       "1                             Has Cubie killed fees?   \n",
       "2                                England on the rack   \n",
       "3  Auntie back in fashion, even if the dress look...   \n",
       "4                                   Hollywood Beyond   \n",
       "\n",
       "                                              Top7  \\\n",
       "0                 Hungry Spurs sense rich pickings   \n",
       "1                           Has Cubie killed fees?   \n",
       "2  Pakistan retaliate with call for video of Walsh   \n",
       "3                    Shoaib appeal goes to the top   \n",
       "4                               Ashes and diamonds   \n",
       "\n",
       "                                                Top8  \\\n",
       "0                  Gunners so wide of an easy target   \n",
       "1                             Has Cubie killed fees?   \n",
       "2               Cullinan continues his Cape monopoly   \n",
       "3  Hussain hurt by 'shambles' but lays blame on e...   \n",
       "4                   Whingers - a formidable minority   \n",
       "\n",
       "                                                Top9  \\\n",
       "0      Derby raise a glass to Strupar's debut double   \n",
       "1  Hopkins 'furious' at Foster's lack of Hannibal...   \n",
       "2             McGrath puts India out of their misery   \n",
       "3                      England's decade of disasters   \n",
       "4                             Alan Parker - part two   \n",
       "\n",
       "                                      Top10  ...  \\\n",
       "0  Southgate strikes, Leeds pay the penalty  ...   \n",
       "1                    Has Cubie killed fees?  ...   \n",
       "2            Blair Witch bandwagon rolls on  ...   \n",
       "3      Revenge is sweet for jubilant Cronje  ...   \n",
       "4                 Thuggery, Toxins and Ties  ...   \n",
       "\n",
       "                                               Top16  \\\n",
       "0           Flintoff injury piles on woe for England   \n",
       "1                               On the critical list   \n",
       "2                        South Melbourne (Australia)   \n",
       "3  Putin admits Yeltsin quit to give him a head s...   \n",
       "4                             Most everywhere:  UDIs   \n",
       "\n",
       "                                               Top17  \\\n",
       "0  Hunters threaten Jospin with new battle of the...   \n",
       "1                          The timing of their lives   \n",
       "2                                    Necaxa (Mexico)   \n",
       "3         BBC worst hit as digital TV begins to bite   \n",
       "4                       Most wanted:  Chloe lunettes   \n",
       "\n",
       "                                            Top18  \\\n",
       "0             Kohl's successor drawn into scandal   \n",
       "1                                     Dear doctor   \n",
       "2                             Real Madrid (Spain)   \n",
       "3                     How much can you pay for...   \n",
       "4  Return of the cane 'completely off the agenda'   \n",
       "\n",
       "                                               Top19  \\\n",
       "0               The difference between men and women   \n",
       "1  Irish court halts IRA man's extradition to Nor...   \n",
       "2                          Raja Casablanca (Morocco)   \n",
       "3                                 Christmas glitches   \n",
       "4                   From Sleepy Hollow to Greeneland   \n",
       "\n",
       "                                               Top20  \\\n",
       "0                Sara Denver, nurse turned solicitor   \n",
       "1  Burundi peace initiative fades after rebels re...   \n",
       "2                               Corinthians (Brazil)   \n",
       "3  Upending a table, Chopping a line and Scoring ...   \n",
       "4              Blunkett outlines vision for over 11s   \n",
       "\n",
       "                                               Top21  \\\n",
       "0     Diana's landmine crusade put Tories in a panic   \n",
       "1               PE points the way forward to the ECB   \n",
       "2                                 Tony's pet project   \n",
       "3   Scientific evidence 'unreliable', defence claims   \n",
       "4  Embattled Dobson attacks 'play now, pay later'...   \n",
       "\n",
       "                                               Top22  \\\n",
       "0  Yeltsin's resignation caught opposition flat-f...   \n",
       "1  Campaigners keep up pressure on Nazi war crime...   \n",
       "2                            Al Nassr (Saudi Arabia)   \n",
       "3     Fusco wins judicial review in extradition case   \n",
       "4                                  Doom and the Dome   \n",
       "\n",
       "                             Top23  \\\n",
       "0                 Russian roulette   \n",
       "1                   Jane Ratcliffe   \n",
       "2                Ideal Holmes show   \n",
       "3    Rebels thwart Russian advance   \n",
       "4  What is the north-south divide?   \n",
       "\n",
       "                                               Top24  \\\n",
       "0                                           Sold out   \n",
       "1  Yet more things you wouldn't know without the ...   \n",
       "2               Pinochet leaves hospital after tests   \n",
       "3               Blair orders shake-up of failing NHS   \n",
       "4                          Aitken released from jail   \n",
       "\n",
       "                          Top25  \n",
       "0            Recovering a title  \n",
       "1  Millennium bug fails to bite  \n",
       "2                  Useful links  \n",
       "3   Lessons of law's hard heart  \n",
       "4                    Gone aloft  \n",
       "\n",
       "[5 rows x 25 columns]"
      ],
      "text/html": "<div>\n<style scoped>\n    .dataframe tbody tr th:only-of-type {\n        vertical-align: middle;\n    }\n\n    .dataframe tbody tr th {\n        vertical-align: top;\n    }\n\n    .dataframe thead th {\n        text-align: right;\n    }\n</style>\n<table border=\"1\" class=\"dataframe\">\n  <thead>\n    <tr style=\"text-align: right;\">\n      <th></th>\n      <th>Top1</th>\n      <th>Top2</th>\n      <th>Top3</th>\n      <th>Top4</th>\n      <th>Top5</th>\n      <th>Top6</th>\n      <th>Top7</th>\n      <th>Top8</th>\n      <th>Top9</th>\n      <th>Top10</th>\n      <th>...</th>\n      <th>Top16</th>\n      <th>Top17</th>\n      <th>Top18</th>\n      <th>Top19</th>\n      <th>Top20</th>\n      <th>Top21</th>\n      <th>Top22</th>\n      <th>Top23</th>\n      <th>Top24</th>\n      <th>Top25</th>\n    </tr>\n  </thead>\n  <tbody>\n    <tr>\n      <th>0</th>\n      <td>A 'hindrance to operations': extracts from the...</td>\n      <td>Scorecard</td>\n      <td>Hughes' instant hit buoys Blues</td>\n      <td>Jack gets his skates on at ice-cold Alex</td>\n      <td>Chaos as Maracana builds up for United</td>\n      <td>Depleted Leicester prevail as Elliott spoils E...</td>\n      <td>Hungry Spurs sense rich pickings</td>\n      <td>Gunners so wide of an easy target</td>\n      <td>Derby raise a glass to Strupar's debut double</td>\n      <td>Southgate strikes, Leeds pay the penalty</td>\n      <td>...</td>\n      <td>Flintoff injury piles on woe for England</td>\n      <td>Hunters threaten Jospin with new battle of the...</td>\n      <td>Kohl's successor drawn into scandal</td>\n      <td>The difference between men and women</td>\n      <td>Sara Denver, nurse turned solicitor</td>\n      <td>Diana's landmine crusade put Tories in a panic</td>\n      <td>Yeltsin's resignation caught opposition flat-f...</td>\n      <td>Russian roulette</td>\n      <td>Sold out</td>\n      <td>Recovering a title</td>\n    </tr>\n    <tr>\n      <th>1</th>\n      <td>Scorecard</td>\n      <td>The best lake scene</td>\n      <td>Leader: German sleaze inquiry</td>\n      <td>Cheerio, boyo</td>\n      <td>The main recommendations</td>\n      <td>Has Cubie killed fees?</td>\n      <td>Has Cubie killed fees?</td>\n      <td>Has Cubie killed fees?</td>\n      <td>Hopkins 'furious' at Foster's lack of Hannibal...</td>\n      <td>Has Cubie killed fees?</td>\n      <td>...</td>\n      <td>On the critical list</td>\n      <td>The timing of their lives</td>\n      <td>Dear doctor</td>\n      <td>Irish court halts IRA man's extradition to Nor...</td>\n      <td>Burundi peace initiative fades after rebels re...</td>\n      <td>PE points the way forward to the ECB</td>\n      <td>Campaigners keep up pressure on Nazi war crime...</td>\n      <td>Jane Ratcliffe</td>\n      <td>Yet more things you wouldn't know without the ...</td>\n      <td>Millennium bug fails to bite</td>\n    </tr>\n    <tr>\n      <th>2</th>\n      <td>Coventry caught on counter by Flo</td>\n      <td>United's rivals on the road to Rio</td>\n      <td>Thatcher issues defence before trial by video</td>\n      <td>Police help Smith lay down the law at Everton</td>\n      <td>Tale of Trautmann bears two more retellings</td>\n      <td>England on the rack</td>\n      <td>Pakistan retaliate with call for video of Walsh</td>\n      <td>Cullinan continues his Cape monopoly</td>\n      <td>McGrath puts India out of their misery</td>\n      <td>Blair Witch bandwagon rolls on</td>\n      <td>...</td>\n      <td>South Melbourne (Australia)</td>\n      <td>Necaxa (Mexico)</td>\n      <td>Real Madrid (Spain)</td>\n      <td>Raja Casablanca (Morocco)</td>\n      <td>Corinthians (Brazil)</td>\n      <td>Tony's pet project</td>\n      <td>Al Nassr (Saudi Arabia)</td>\n      <td>Ideal Holmes show</td>\n      <td>Pinochet leaves hospital after tests</td>\n      <td>Useful links</td>\n    </tr>\n    <tr>\n      <th>3</th>\n      <td>Pilgrim knows how to progress</td>\n      <td>Thatcher facing ban</td>\n      <td>McIlroy calls for Irish fighting spirit</td>\n      <td>Leicester bin stadium blueprint</td>\n      <td>United braced for Mexican wave</td>\n      <td>Auntie back in fashion, even if the dress look...</td>\n      <td>Shoaib appeal goes to the top</td>\n      <td>Hussain hurt by 'shambles' but lays blame on e...</td>\n      <td>England's decade of disasters</td>\n      <td>Revenge is sweet for jubilant Cronje</td>\n      <td>...</td>\n      <td>Putin admits Yeltsin quit to give him a head s...</td>\n      <td>BBC worst hit as digital TV begins to bite</td>\n      <td>How much can you pay for...</td>\n      <td>Christmas glitches</td>\n      <td>Upending a table, Chopping a line and Scoring ...</td>\n      <td>Scientific evidence 'unreliable', defence claims</td>\n      <td>Fusco wins judicial review in extradition case</td>\n      <td>Rebels thwart Russian advance</td>\n      <td>Blair orders shake-up of failing NHS</td>\n      <td>Lessons of law's hard heart</td>\n    </tr>\n    <tr>\n      <th>4</th>\n      <td>Hitches and Horlocks</td>\n      <td>Beckham off but United survive</td>\n      <td>Breast cancer screening</td>\n      <td>Alan Parker</td>\n      <td>Guardian readers: are you all whingers?</td>\n      <td>Hollywood Beyond</td>\n      <td>Ashes and diamonds</td>\n      <td>Whingers - a formidable minority</td>\n      <td>Alan Parker - part two</td>\n      <td>Thuggery, Toxins and Ties</td>\n      <td>...</td>\n      <td>Most everywhere:  UDIs</td>\n      <td>Most wanted:  Chloe lunettes</td>\n      <td>Return of the cane 'completely off the agenda'</td>\n      <td>From Sleepy Hollow to Greeneland</td>\n      <td>Blunkett outlines vision for over 11s</td>\n      <td>Embattled Dobson attacks 'play now, pay later'...</td>\n      <td>Doom and the Dome</td>\n      <td>What is the north-south divide?</td>\n      <td>Aitken released from jail</td>\n      <td>Gone aloft</td>\n    </tr>\n  </tbody>\n</table>\n<p>5 rows × 25 columns</p>\n</div>"
     },
     "metadata": {},
     "execution_count": 17
    }
   ],
   "source": [
    "data.head()"
   ]
  },
  {
   "cell_type": "code",
   "execution_count": 18,
   "metadata": {},
   "outputs": [
    {
     "output_type": "execute_result",
     "data": {
      "text/plain": [
       "Index(['Top1', 'Top2', 'Top3', 'Top4', 'Top5', 'Top6', 'Top7', 'Top8', 'Top9',\n",
       "       'Top10', 'Top11', 'Top12', 'Top13', 'Top14', 'Top15', 'Top16', 'Top17',\n",
       "       'Top18', 'Top19', 'Top20', 'Top21', 'Top22', 'Top23', 'Top24', 'Top25'],\n",
       "      dtype='object')"
      ]
     },
     "metadata": {},
     "execution_count": 18
    }
   ],
   "source": [
    "data.columns"
   ]
  },
  {
   "cell_type": "code",
   "execution_count": 19,
   "metadata": {},
   "outputs": [],
   "source": [
    "data.replace('[^a-zA-Z]',' ',inplace=True)"
   ]
  },
  {
   "cell_type": "code",
   "execution_count": 20,
   "metadata": {},
   "outputs": [
    {
     "output_type": "execute_result",
     "data": {
      "text/plain": [
       "                                                Top1  \\\n",
       "0  A 'hindrance to operations': extracts from the...   \n",
       "1                                          Scorecard   \n",
       "2                  Coventry caught on counter by Flo   \n",
       "3                      Pilgrim knows how to progress   \n",
       "4                               Hitches and Horlocks   \n",
       "\n",
       "                                 Top2  \\\n",
       "0                           Scorecard   \n",
       "1                 The best lake scene   \n",
       "2  United's rivals on the road to Rio   \n",
       "3                 Thatcher facing ban   \n",
       "4      Beckham off but United survive   \n",
       "\n",
       "                                            Top3  \\\n",
       "0                Hughes' instant hit buoys Blues   \n",
       "1                  Leader: German sleaze inquiry   \n",
       "2  Thatcher issues defence before trial by video   \n",
       "3        McIlroy calls for Irish fighting spirit   \n",
       "4                        Breast cancer screening   \n",
       "\n",
       "                                            Top4  \\\n",
       "0       Jack gets his skates on at ice-cold Alex   \n",
       "1                                  Cheerio, boyo   \n",
       "2  Police help Smith lay down the law at Everton   \n",
       "3                Leicester bin stadium blueprint   \n",
       "4                                    Alan Parker   \n",
       "\n",
       "                                          Top5  \\\n",
       "0       Chaos as Maracana builds up for United   \n",
       "1                     The main recommendations   \n",
       "2  Tale of Trautmann bears two more retellings   \n",
       "3               United braced for Mexican wave   \n",
       "4      Guardian readers: are you all whingers?   \n",
       "\n",
       "                                                Top6  \\\n",
       "0  Depleted Leicester prevail as Elliott spoils E...   \n",
       "1                             Has Cubie killed fees?   \n",
       "2                                England on the rack   \n",
       "3  Auntie back in fashion, even if the dress look...   \n",
       "4                                   Hollywood Beyond   \n",
       "\n",
       "                                              Top7  \\\n",
       "0                 Hungry Spurs sense rich pickings   \n",
       "1                           Has Cubie killed fees?   \n",
       "2  Pakistan retaliate with call for video of Walsh   \n",
       "3                    Shoaib appeal goes to the top   \n",
       "4                               Ashes and diamonds   \n",
       "\n",
       "                                                Top8  \\\n",
       "0                  Gunners so wide of an easy target   \n",
       "1                             Has Cubie killed fees?   \n",
       "2               Cullinan continues his Cape monopoly   \n",
       "3  Hussain hurt by 'shambles' but lays blame on e...   \n",
       "4                   Whingers - a formidable minority   \n",
       "\n",
       "                                                Top9  \\\n",
       "0      Derby raise a glass to Strupar's debut double   \n",
       "1  Hopkins 'furious' at Foster's lack of Hannibal...   \n",
       "2             McGrath puts India out of their misery   \n",
       "3                      England's decade of disasters   \n",
       "4                             Alan Parker - part two   \n",
       "\n",
       "                                      Top10  ...  \\\n",
       "0  Southgate strikes, Leeds pay the penalty  ...   \n",
       "1                    Has Cubie killed fees?  ...   \n",
       "2            Blair Witch bandwagon rolls on  ...   \n",
       "3      Revenge is sweet for jubilant Cronje  ...   \n",
       "4                 Thuggery, Toxins and Ties  ...   \n",
       "\n",
       "                                               Top16  \\\n",
       "0           Flintoff injury piles on woe for England   \n",
       "1                               On the critical list   \n",
       "2                        South Melbourne (Australia)   \n",
       "3  Putin admits Yeltsin quit to give him a head s...   \n",
       "4                             Most everywhere:  UDIs   \n",
       "\n",
       "                                               Top17  \\\n",
       "0  Hunters threaten Jospin with new battle of the...   \n",
       "1                          The timing of their lives   \n",
       "2                                    Necaxa (Mexico)   \n",
       "3         BBC worst hit as digital TV begins to bite   \n",
       "4                       Most wanted:  Chloe lunettes   \n",
       "\n",
       "                                            Top18  \\\n",
       "0             Kohl's successor drawn into scandal   \n",
       "1                                     Dear doctor   \n",
       "2                             Real Madrid (Spain)   \n",
       "3                     How much can you pay for...   \n",
       "4  Return of the cane 'completely off the agenda'   \n",
       "\n",
       "                                               Top19  \\\n",
       "0               The difference between men and women   \n",
       "1  Irish court halts IRA man's extradition to Nor...   \n",
       "2                          Raja Casablanca (Morocco)   \n",
       "3                                 Christmas glitches   \n",
       "4                   From Sleepy Hollow to Greeneland   \n",
       "\n",
       "                                               Top20  \\\n",
       "0                Sara Denver, nurse turned solicitor   \n",
       "1  Burundi peace initiative fades after rebels re...   \n",
       "2                               Corinthians (Brazil)   \n",
       "3  Upending a table, Chopping a line and Scoring ...   \n",
       "4              Blunkett outlines vision for over 11s   \n",
       "\n",
       "                                               Top21  \\\n",
       "0     Diana's landmine crusade put Tories in a panic   \n",
       "1               PE points the way forward to the ECB   \n",
       "2                                 Tony's pet project   \n",
       "3   Scientific evidence 'unreliable', defence claims   \n",
       "4  Embattled Dobson attacks 'play now, pay later'...   \n",
       "\n",
       "                                               Top22  \\\n",
       "0  Yeltsin's resignation caught opposition flat-f...   \n",
       "1  Campaigners keep up pressure on Nazi war crime...   \n",
       "2                            Al Nassr (Saudi Arabia)   \n",
       "3     Fusco wins judicial review in extradition case   \n",
       "4                                  Doom and the Dome   \n",
       "\n",
       "                             Top23  \\\n",
       "0                 Russian roulette   \n",
       "1                   Jane Ratcliffe   \n",
       "2                Ideal Holmes show   \n",
       "3    Rebels thwart Russian advance   \n",
       "4  What is the north-south divide?   \n",
       "\n",
       "                                               Top24  \\\n",
       "0                                           Sold out   \n",
       "1  Yet more things you wouldn't know without the ...   \n",
       "2               Pinochet leaves hospital after tests   \n",
       "3               Blair orders shake-up of failing NHS   \n",
       "4                          Aitken released from jail   \n",
       "\n",
       "                          Top25  \n",
       "0            Recovering a title  \n",
       "1  Millennium bug fails to bite  \n",
       "2                  Useful links  \n",
       "3   Lessons of law's hard heart  \n",
       "4                    Gone aloft  \n",
       "\n",
       "[5 rows x 25 columns]"
      ],
      "text/html": "<div>\n<style scoped>\n    .dataframe tbody tr th:only-of-type {\n        vertical-align: middle;\n    }\n\n    .dataframe tbody tr th {\n        vertical-align: top;\n    }\n\n    .dataframe thead th {\n        text-align: right;\n    }\n</style>\n<table border=\"1\" class=\"dataframe\">\n  <thead>\n    <tr style=\"text-align: right;\">\n      <th></th>\n      <th>Top1</th>\n      <th>Top2</th>\n      <th>Top3</th>\n      <th>Top4</th>\n      <th>Top5</th>\n      <th>Top6</th>\n      <th>Top7</th>\n      <th>Top8</th>\n      <th>Top9</th>\n      <th>Top10</th>\n      <th>...</th>\n      <th>Top16</th>\n      <th>Top17</th>\n      <th>Top18</th>\n      <th>Top19</th>\n      <th>Top20</th>\n      <th>Top21</th>\n      <th>Top22</th>\n      <th>Top23</th>\n      <th>Top24</th>\n      <th>Top25</th>\n    </tr>\n  </thead>\n  <tbody>\n    <tr>\n      <th>0</th>\n      <td>A 'hindrance to operations': extracts from the...</td>\n      <td>Scorecard</td>\n      <td>Hughes' instant hit buoys Blues</td>\n      <td>Jack gets his skates on at ice-cold Alex</td>\n      <td>Chaos as Maracana builds up for United</td>\n      <td>Depleted Leicester prevail as Elliott spoils E...</td>\n      <td>Hungry Spurs sense rich pickings</td>\n      <td>Gunners so wide of an easy target</td>\n      <td>Derby raise a glass to Strupar's debut double</td>\n      <td>Southgate strikes, Leeds pay the penalty</td>\n      <td>...</td>\n      <td>Flintoff injury piles on woe for England</td>\n      <td>Hunters threaten Jospin with new battle of the...</td>\n      <td>Kohl's successor drawn into scandal</td>\n      <td>The difference between men and women</td>\n      <td>Sara Denver, nurse turned solicitor</td>\n      <td>Diana's landmine crusade put Tories in a panic</td>\n      <td>Yeltsin's resignation caught opposition flat-f...</td>\n      <td>Russian roulette</td>\n      <td>Sold out</td>\n      <td>Recovering a title</td>\n    </tr>\n    <tr>\n      <th>1</th>\n      <td>Scorecard</td>\n      <td>The best lake scene</td>\n      <td>Leader: German sleaze inquiry</td>\n      <td>Cheerio, boyo</td>\n      <td>The main recommendations</td>\n      <td>Has Cubie killed fees?</td>\n      <td>Has Cubie killed fees?</td>\n      <td>Has Cubie killed fees?</td>\n      <td>Hopkins 'furious' at Foster's lack of Hannibal...</td>\n      <td>Has Cubie killed fees?</td>\n      <td>...</td>\n      <td>On the critical list</td>\n      <td>The timing of their lives</td>\n      <td>Dear doctor</td>\n      <td>Irish court halts IRA man's extradition to Nor...</td>\n      <td>Burundi peace initiative fades after rebels re...</td>\n      <td>PE points the way forward to the ECB</td>\n      <td>Campaigners keep up pressure on Nazi war crime...</td>\n      <td>Jane Ratcliffe</td>\n      <td>Yet more things you wouldn't know without the ...</td>\n      <td>Millennium bug fails to bite</td>\n    </tr>\n    <tr>\n      <th>2</th>\n      <td>Coventry caught on counter by Flo</td>\n      <td>United's rivals on the road to Rio</td>\n      <td>Thatcher issues defence before trial by video</td>\n      <td>Police help Smith lay down the law at Everton</td>\n      <td>Tale of Trautmann bears two more retellings</td>\n      <td>England on the rack</td>\n      <td>Pakistan retaliate with call for video of Walsh</td>\n      <td>Cullinan continues his Cape monopoly</td>\n      <td>McGrath puts India out of their misery</td>\n      <td>Blair Witch bandwagon rolls on</td>\n      <td>...</td>\n      <td>South Melbourne (Australia)</td>\n      <td>Necaxa (Mexico)</td>\n      <td>Real Madrid (Spain)</td>\n      <td>Raja Casablanca (Morocco)</td>\n      <td>Corinthians (Brazil)</td>\n      <td>Tony's pet project</td>\n      <td>Al Nassr (Saudi Arabia)</td>\n      <td>Ideal Holmes show</td>\n      <td>Pinochet leaves hospital after tests</td>\n      <td>Useful links</td>\n    </tr>\n    <tr>\n      <th>3</th>\n      <td>Pilgrim knows how to progress</td>\n      <td>Thatcher facing ban</td>\n      <td>McIlroy calls for Irish fighting spirit</td>\n      <td>Leicester bin stadium blueprint</td>\n      <td>United braced for Mexican wave</td>\n      <td>Auntie back in fashion, even if the dress look...</td>\n      <td>Shoaib appeal goes to the top</td>\n      <td>Hussain hurt by 'shambles' but lays blame on e...</td>\n      <td>England's decade of disasters</td>\n      <td>Revenge is sweet for jubilant Cronje</td>\n      <td>...</td>\n      <td>Putin admits Yeltsin quit to give him a head s...</td>\n      <td>BBC worst hit as digital TV begins to bite</td>\n      <td>How much can you pay for...</td>\n      <td>Christmas glitches</td>\n      <td>Upending a table, Chopping a line and Scoring ...</td>\n      <td>Scientific evidence 'unreliable', defence claims</td>\n      <td>Fusco wins judicial review in extradition case</td>\n      <td>Rebels thwart Russian advance</td>\n      <td>Blair orders shake-up of failing NHS</td>\n      <td>Lessons of law's hard heart</td>\n    </tr>\n    <tr>\n      <th>4</th>\n      <td>Hitches and Horlocks</td>\n      <td>Beckham off but United survive</td>\n      <td>Breast cancer screening</td>\n      <td>Alan Parker</td>\n      <td>Guardian readers: are you all whingers?</td>\n      <td>Hollywood Beyond</td>\n      <td>Ashes and diamonds</td>\n      <td>Whingers - a formidable minority</td>\n      <td>Alan Parker - part two</td>\n      <td>Thuggery, Toxins and Ties</td>\n      <td>...</td>\n      <td>Most everywhere:  UDIs</td>\n      <td>Most wanted:  Chloe lunettes</td>\n      <td>Return of the cane 'completely off the agenda'</td>\n      <td>From Sleepy Hollow to Greeneland</td>\n      <td>Blunkett outlines vision for over 11s</td>\n      <td>Embattled Dobson attacks 'play now, pay later'...</td>\n      <td>Doom and the Dome</td>\n      <td>What is the north-south divide?</td>\n      <td>Aitken released from jail</td>\n      <td>Gone aloft</td>\n    </tr>\n  </tbody>\n</table>\n<p>5 rows × 25 columns</p>\n</div>"
     },
     "metadata": {},
     "execution_count": 20
    }
   ],
   "source": [
    "data.head()"
   ]
  },
  {
   "cell_type": "code",
   "execution_count": 21,
   "metadata": {},
   "outputs": [
    {
     "output_type": "execute_result",
     "data": {
      "text/plain": [
       "['0',\n",
       " '1',\n",
       " '2',\n",
       " '3',\n",
       " '4',\n",
       " '5',\n",
       " '6',\n",
       " '7',\n",
       " '8',\n",
       " '9',\n",
       " '10',\n",
       " '11',\n",
       " '12',\n",
       " '13',\n",
       " '14',\n",
       " '15',\n",
       " '16',\n",
       " '17',\n",
       " '18',\n",
       " '19',\n",
       " '20',\n",
       " '21',\n",
       " '22',\n",
       " '23',\n",
       " '24']"
      ]
     },
     "metadata": {},
     "execution_count": 21
    }
   ],
   "source": [
    "new_index=[str(i) for i in range(25)]\n",
    "new_index"
   ]
  },
  {
   "cell_type": "code",
   "execution_count": 22,
   "metadata": {},
   "outputs": [
    {
     "output_type": "execute_result",
     "data": {
      "text/plain": [
       "                                                   0  \\\n",
       "0  A 'hindrance to operations': extracts from the...   \n",
       "1                                          Scorecard   \n",
       "2                  Coventry caught on counter by Flo   \n",
       "3                      Pilgrim knows how to progress   \n",
       "4                               Hitches and Horlocks   \n",
       "\n",
       "                                    1  \\\n",
       "0                           Scorecard   \n",
       "1                 The best lake scene   \n",
       "2  United's rivals on the road to Rio   \n",
       "3                 Thatcher facing ban   \n",
       "4      Beckham off but United survive   \n",
       "\n",
       "                                               2  \\\n",
       "0                Hughes' instant hit buoys Blues   \n",
       "1                  Leader: German sleaze inquiry   \n",
       "2  Thatcher issues defence before trial by video   \n",
       "3        McIlroy calls for Irish fighting spirit   \n",
       "4                        Breast cancer screening   \n",
       "\n",
       "                                               3  \\\n",
       "0       Jack gets his skates on at ice-cold Alex   \n",
       "1                                  Cheerio, boyo   \n",
       "2  Police help Smith lay down the law at Everton   \n",
       "3                Leicester bin stadium blueprint   \n",
       "4                                    Alan Parker   \n",
       "\n",
       "                                             4  \\\n",
       "0       Chaos as Maracana builds up for United   \n",
       "1                     The main recommendations   \n",
       "2  Tale of Trautmann bears two more retellings   \n",
       "3               United braced for Mexican wave   \n",
       "4      Guardian readers: are you all whingers?   \n",
       "\n",
       "                                                   5  \\\n",
       "0  Depleted Leicester prevail as Elliott spoils E...   \n",
       "1                             Has Cubie killed fees?   \n",
       "2                                England on the rack   \n",
       "3  Auntie back in fashion, even if the dress look...   \n",
       "4                                   Hollywood Beyond   \n",
       "\n",
       "                                                 6  \\\n",
       "0                 Hungry Spurs sense rich pickings   \n",
       "1                           Has Cubie killed fees?   \n",
       "2  Pakistan retaliate with call for video of Walsh   \n",
       "3                    Shoaib appeal goes to the top   \n",
       "4                               Ashes and diamonds   \n",
       "\n",
       "                                                   7  \\\n",
       "0                  Gunners so wide of an easy target   \n",
       "1                             Has Cubie killed fees?   \n",
       "2               Cullinan continues his Cape monopoly   \n",
       "3  Hussain hurt by 'shambles' but lays blame on e...   \n",
       "4                   Whingers - a formidable minority   \n",
       "\n",
       "                                                   8  \\\n",
       "0      Derby raise a glass to Strupar's debut double   \n",
       "1  Hopkins 'furious' at Foster's lack of Hannibal...   \n",
       "2             McGrath puts India out of their misery   \n",
       "3                      England's decade of disasters   \n",
       "4                             Alan Parker - part two   \n",
       "\n",
       "                                          9  ...  \\\n",
       "0  Southgate strikes, Leeds pay the penalty  ...   \n",
       "1                    Has Cubie killed fees?  ...   \n",
       "2            Blair Witch bandwagon rolls on  ...   \n",
       "3      Revenge is sweet for jubilant Cronje  ...   \n",
       "4                 Thuggery, Toxins and Ties  ...   \n",
       "\n",
       "                                                  15  \\\n",
       "0           Flintoff injury piles on woe for England   \n",
       "1                               On the critical list   \n",
       "2                        South Melbourne (Australia)   \n",
       "3  Putin admits Yeltsin quit to give him a head s...   \n",
       "4                             Most everywhere:  UDIs   \n",
       "\n",
       "                                                  16  \\\n",
       "0  Hunters threaten Jospin with new battle of the...   \n",
       "1                          The timing of their lives   \n",
       "2                                    Necaxa (Mexico)   \n",
       "3         BBC worst hit as digital TV begins to bite   \n",
       "4                       Most wanted:  Chloe lunettes   \n",
       "\n",
       "                                               17  \\\n",
       "0             Kohl's successor drawn into scandal   \n",
       "1                                     Dear doctor   \n",
       "2                             Real Madrid (Spain)   \n",
       "3                     How much can you pay for...   \n",
       "4  Return of the cane 'completely off the agenda'   \n",
       "\n",
       "                                                  18  \\\n",
       "0               The difference between men and women   \n",
       "1  Irish court halts IRA man's extradition to Nor...   \n",
       "2                          Raja Casablanca (Morocco)   \n",
       "3                                 Christmas glitches   \n",
       "4                   From Sleepy Hollow to Greeneland   \n",
       "\n",
       "                                                  19  \\\n",
       "0                Sara Denver, nurse turned solicitor   \n",
       "1  Burundi peace initiative fades after rebels re...   \n",
       "2                               Corinthians (Brazil)   \n",
       "3  Upending a table, Chopping a line and Scoring ...   \n",
       "4              Blunkett outlines vision for over 11s   \n",
       "\n",
       "                                                  20  \\\n",
       "0     Diana's landmine crusade put Tories in a panic   \n",
       "1               PE points the way forward to the ECB   \n",
       "2                                 Tony's pet project   \n",
       "3   Scientific evidence 'unreliable', defence claims   \n",
       "4  Embattled Dobson attacks 'play now, pay later'...   \n",
       "\n",
       "                                                  21  \\\n",
       "0  Yeltsin's resignation caught opposition flat-f...   \n",
       "1  Campaigners keep up pressure on Nazi war crime...   \n",
       "2                            Al Nassr (Saudi Arabia)   \n",
       "3     Fusco wins judicial review in extradition case   \n",
       "4                                  Doom and the Dome   \n",
       "\n",
       "                                22  \\\n",
       "0                 Russian roulette   \n",
       "1                   Jane Ratcliffe   \n",
       "2                Ideal Holmes show   \n",
       "3    Rebels thwart Russian advance   \n",
       "4  What is the north-south divide?   \n",
       "\n",
       "                                                  23  \\\n",
       "0                                           Sold out   \n",
       "1  Yet more things you wouldn't know without the ...   \n",
       "2               Pinochet leaves hospital after tests   \n",
       "3               Blair orders shake-up of failing NHS   \n",
       "4                          Aitken released from jail   \n",
       "\n",
       "                             24  \n",
       "0            Recovering a title  \n",
       "1  Millennium bug fails to bite  \n",
       "2                  Useful links  \n",
       "3   Lessons of law's hard heart  \n",
       "4                    Gone aloft  \n",
       "\n",
       "[5 rows x 25 columns]"
      ],
      "text/html": "<div>\n<style scoped>\n    .dataframe tbody tr th:only-of-type {\n        vertical-align: middle;\n    }\n\n    .dataframe tbody tr th {\n        vertical-align: top;\n    }\n\n    .dataframe thead th {\n        text-align: right;\n    }\n</style>\n<table border=\"1\" class=\"dataframe\">\n  <thead>\n    <tr style=\"text-align: right;\">\n      <th></th>\n      <th>0</th>\n      <th>1</th>\n      <th>2</th>\n      <th>3</th>\n      <th>4</th>\n      <th>5</th>\n      <th>6</th>\n      <th>7</th>\n      <th>8</th>\n      <th>9</th>\n      <th>...</th>\n      <th>15</th>\n      <th>16</th>\n      <th>17</th>\n      <th>18</th>\n      <th>19</th>\n      <th>20</th>\n      <th>21</th>\n      <th>22</th>\n      <th>23</th>\n      <th>24</th>\n    </tr>\n  </thead>\n  <tbody>\n    <tr>\n      <th>0</th>\n      <td>A 'hindrance to operations': extracts from the...</td>\n      <td>Scorecard</td>\n      <td>Hughes' instant hit buoys Blues</td>\n      <td>Jack gets his skates on at ice-cold Alex</td>\n      <td>Chaos as Maracana builds up for United</td>\n      <td>Depleted Leicester prevail as Elliott spoils E...</td>\n      <td>Hungry Spurs sense rich pickings</td>\n      <td>Gunners so wide of an easy target</td>\n      <td>Derby raise a glass to Strupar's debut double</td>\n      <td>Southgate strikes, Leeds pay the penalty</td>\n      <td>...</td>\n      <td>Flintoff injury piles on woe for England</td>\n      <td>Hunters threaten Jospin with new battle of the...</td>\n      <td>Kohl's successor drawn into scandal</td>\n      <td>The difference between men and women</td>\n      <td>Sara Denver, nurse turned solicitor</td>\n      <td>Diana's landmine crusade put Tories in a panic</td>\n      <td>Yeltsin's resignation caught opposition flat-f...</td>\n      <td>Russian roulette</td>\n      <td>Sold out</td>\n      <td>Recovering a title</td>\n    </tr>\n    <tr>\n      <th>1</th>\n      <td>Scorecard</td>\n      <td>The best lake scene</td>\n      <td>Leader: German sleaze inquiry</td>\n      <td>Cheerio, boyo</td>\n      <td>The main recommendations</td>\n      <td>Has Cubie killed fees?</td>\n      <td>Has Cubie killed fees?</td>\n      <td>Has Cubie killed fees?</td>\n      <td>Hopkins 'furious' at Foster's lack of Hannibal...</td>\n      <td>Has Cubie killed fees?</td>\n      <td>...</td>\n      <td>On the critical list</td>\n      <td>The timing of their lives</td>\n      <td>Dear doctor</td>\n      <td>Irish court halts IRA man's extradition to Nor...</td>\n      <td>Burundi peace initiative fades after rebels re...</td>\n      <td>PE points the way forward to the ECB</td>\n      <td>Campaigners keep up pressure on Nazi war crime...</td>\n      <td>Jane Ratcliffe</td>\n      <td>Yet more things you wouldn't know without the ...</td>\n      <td>Millennium bug fails to bite</td>\n    </tr>\n    <tr>\n      <th>2</th>\n      <td>Coventry caught on counter by Flo</td>\n      <td>United's rivals on the road to Rio</td>\n      <td>Thatcher issues defence before trial by video</td>\n      <td>Police help Smith lay down the law at Everton</td>\n      <td>Tale of Trautmann bears two more retellings</td>\n      <td>England on the rack</td>\n      <td>Pakistan retaliate with call for video of Walsh</td>\n      <td>Cullinan continues his Cape monopoly</td>\n      <td>McGrath puts India out of their misery</td>\n      <td>Blair Witch bandwagon rolls on</td>\n      <td>...</td>\n      <td>South Melbourne (Australia)</td>\n      <td>Necaxa (Mexico)</td>\n      <td>Real Madrid (Spain)</td>\n      <td>Raja Casablanca (Morocco)</td>\n      <td>Corinthians (Brazil)</td>\n      <td>Tony's pet project</td>\n      <td>Al Nassr (Saudi Arabia)</td>\n      <td>Ideal Holmes show</td>\n      <td>Pinochet leaves hospital after tests</td>\n      <td>Useful links</td>\n    </tr>\n    <tr>\n      <th>3</th>\n      <td>Pilgrim knows how to progress</td>\n      <td>Thatcher facing ban</td>\n      <td>McIlroy calls for Irish fighting spirit</td>\n      <td>Leicester bin stadium blueprint</td>\n      <td>United braced for Mexican wave</td>\n      <td>Auntie back in fashion, even if the dress look...</td>\n      <td>Shoaib appeal goes to the top</td>\n      <td>Hussain hurt by 'shambles' but lays blame on e...</td>\n      <td>England's decade of disasters</td>\n      <td>Revenge is sweet for jubilant Cronje</td>\n      <td>...</td>\n      <td>Putin admits Yeltsin quit to give him a head s...</td>\n      <td>BBC worst hit as digital TV begins to bite</td>\n      <td>How much can you pay for...</td>\n      <td>Christmas glitches</td>\n      <td>Upending a table, Chopping a line and Scoring ...</td>\n      <td>Scientific evidence 'unreliable', defence claims</td>\n      <td>Fusco wins judicial review in extradition case</td>\n      <td>Rebels thwart Russian advance</td>\n      <td>Blair orders shake-up of failing NHS</td>\n      <td>Lessons of law's hard heart</td>\n    </tr>\n    <tr>\n      <th>4</th>\n      <td>Hitches and Horlocks</td>\n      <td>Beckham off but United survive</td>\n      <td>Breast cancer screening</td>\n      <td>Alan Parker</td>\n      <td>Guardian readers: are you all whingers?</td>\n      <td>Hollywood Beyond</td>\n      <td>Ashes and diamonds</td>\n      <td>Whingers - a formidable minority</td>\n      <td>Alan Parker - part two</td>\n      <td>Thuggery, Toxins and Ties</td>\n      <td>...</td>\n      <td>Most everywhere:  UDIs</td>\n      <td>Most wanted:  Chloe lunettes</td>\n      <td>Return of the cane 'completely off the agenda'</td>\n      <td>From Sleepy Hollow to Greeneland</td>\n      <td>Blunkett outlines vision for over 11s</td>\n      <td>Embattled Dobson attacks 'play now, pay later'...</td>\n      <td>Doom and the Dome</td>\n      <td>What is the north-south divide?</td>\n      <td>Aitken released from jail</td>\n      <td>Gone aloft</td>\n    </tr>\n  </tbody>\n</table>\n<p>5 rows × 25 columns</p>\n</div>"
     },
     "metadata": {},
     "execution_count": 22
    }
   ],
   "source": [
    "data.columns=new_index\n",
    "data.head()"
   ]
  },
  {
   "cell_type": "code",
   "execution_count": 24,
   "metadata": {},
   "outputs": [
    {
     "output_type": "execute_result",
     "data": {
      "text/plain": [
       "Int64Index([   0,    1,    2,    3,    4,    5,    6,    7,    8,    9,\n",
       "            ...\n",
       "            3965, 3966, 3967, 3968, 3969, 3970, 3971, 3972, 3973, 3974],\n",
       "           dtype='int64', length=3975)"
      ]
     },
     "metadata": {},
     "execution_count": 24
    }
   ],
   "source": [
    "data.index"
   ]
  },
  {
   "cell_type": "code",
   "execution_count": 25,
   "metadata": {},
   "outputs": [
    {
     "output_type": "execute_result",
     "data": {
      "text/plain": [
       "                                                   0  \\\n",
       "0  a 'hindrance to operations': extracts from the...   \n",
       "1                                          scorecard   \n",
       "2                  coventry caught on counter by flo   \n",
       "3                      pilgrim knows how to progress   \n",
       "4                               hitches and horlocks   \n",
       "\n",
       "                                    1  \\\n",
       "0                           scorecard   \n",
       "1                 the best lake scene   \n",
       "2  united's rivals on the road to rio   \n",
       "3                 thatcher facing ban   \n",
       "4      beckham off but united survive   \n",
       "\n",
       "                                               2  \\\n",
       "0                hughes' instant hit buoys blues   \n",
       "1                  leader: german sleaze inquiry   \n",
       "2  thatcher issues defence before trial by video   \n",
       "3        mcilroy calls for irish fighting spirit   \n",
       "4                        breast cancer screening   \n",
       "\n",
       "                                               3  \\\n",
       "0       jack gets his skates on at ice-cold alex   \n",
       "1                                  cheerio, boyo   \n",
       "2  police help smith lay down the law at everton   \n",
       "3                leicester bin stadium blueprint   \n",
       "4                                    alan parker   \n",
       "\n",
       "                                             4  \\\n",
       "0       chaos as maracana builds up for united   \n",
       "1                     the main recommendations   \n",
       "2  tale of trautmann bears two more retellings   \n",
       "3               united braced for mexican wave   \n",
       "4      guardian readers: are you all whingers?   \n",
       "\n",
       "                                                   5  \\\n",
       "0  depleted leicester prevail as elliott spoils e...   \n",
       "1                             has cubie killed fees?   \n",
       "2                                england on the rack   \n",
       "3  auntie back in fashion, even if the dress look...   \n",
       "4                                   hollywood beyond   \n",
       "\n",
       "                                                 6  \\\n",
       "0                 hungry spurs sense rich pickings   \n",
       "1                           has cubie killed fees?   \n",
       "2  pakistan retaliate with call for video of walsh   \n",
       "3                    shoaib appeal goes to the top   \n",
       "4                               ashes and diamonds   \n",
       "\n",
       "                                                   7  \\\n",
       "0                  gunners so wide of an easy target   \n",
       "1                             has cubie killed fees?   \n",
       "2               cullinan continues his cape monopoly   \n",
       "3  hussain hurt by 'shambles' but lays blame on e...   \n",
       "4                   whingers - a formidable minority   \n",
       "\n",
       "                                                   8  \\\n",
       "0      derby raise a glass to strupar's debut double   \n",
       "1  hopkins 'furious' at foster's lack of hannibal...   \n",
       "2             mcgrath puts india out of their misery   \n",
       "3                      england's decade of disasters   \n",
       "4                             alan parker - part two   \n",
       "\n",
       "                                          9  ...  \\\n",
       "0  southgate strikes, leeds pay the penalty  ...   \n",
       "1                    has cubie killed fees?  ...   \n",
       "2            blair witch bandwagon rolls on  ...   \n",
       "3      revenge is sweet for jubilant cronje  ...   \n",
       "4                 thuggery, toxins and ties  ...   \n",
       "\n",
       "                                                  15  \\\n",
       "0           flintoff injury piles on woe for england   \n",
       "1                               on the critical list   \n",
       "2                        south melbourne (australia)   \n",
       "3  putin admits yeltsin quit to give him a head s...   \n",
       "4                             most everywhere:  udis   \n",
       "\n",
       "                                                  16  \\\n",
       "0  hunters threaten jospin with new battle of the...   \n",
       "1                          the timing of their lives   \n",
       "2                                    necaxa (mexico)   \n",
       "3         bbc worst hit as digital tv begins to bite   \n",
       "4                       most wanted:  chloe lunettes   \n",
       "\n",
       "                                               17  \\\n",
       "0             kohl's successor drawn into scandal   \n",
       "1                                     dear doctor   \n",
       "2                             real madrid (spain)   \n",
       "3                     how much can you pay for...   \n",
       "4  return of the cane 'completely off the agenda'   \n",
       "\n",
       "                                                  18  \\\n",
       "0               the difference between men and women   \n",
       "1  irish court halts ira man's extradition to nor...   \n",
       "2                          raja casablanca (morocco)   \n",
       "3                                 christmas glitches   \n",
       "4                   from sleepy hollow to greeneland   \n",
       "\n",
       "                                                  19  \\\n",
       "0                sara denver, nurse turned solicitor   \n",
       "1  burundi peace initiative fades after rebels re...   \n",
       "2                               corinthians (brazil)   \n",
       "3  upending a table, chopping a line and scoring ...   \n",
       "4              blunkett outlines vision for over 11s   \n",
       "\n",
       "                                                  20  \\\n",
       "0     diana's landmine crusade put tories in a panic   \n",
       "1               pe points the way forward to the ecb   \n",
       "2                                 tony's pet project   \n",
       "3   scientific evidence 'unreliable', defence claims   \n",
       "4  embattled dobson attacks 'play now, pay later'...   \n",
       "\n",
       "                                                  21  \\\n",
       "0  yeltsin's resignation caught opposition flat-f...   \n",
       "1  campaigners keep up pressure on nazi war crime...   \n",
       "2                            al nassr (saudi arabia)   \n",
       "3     fusco wins judicial review in extradition case   \n",
       "4                                  doom and the dome   \n",
       "\n",
       "                                22  \\\n",
       "0                 russian roulette   \n",
       "1                   jane ratcliffe   \n",
       "2                ideal holmes show   \n",
       "3    rebels thwart russian advance   \n",
       "4  what is the north-south divide?   \n",
       "\n",
       "                                                  23  \\\n",
       "0                                           sold out   \n",
       "1  yet more things you wouldn't know without the ...   \n",
       "2               pinochet leaves hospital after tests   \n",
       "3               blair orders shake-up of failing nhs   \n",
       "4                          aitken released from jail   \n",
       "\n",
       "                             24  \n",
       "0            recovering a title  \n",
       "1  millennium bug fails to bite  \n",
       "2                  useful links  \n",
       "3   lessons of law's hard heart  \n",
       "4                    gone aloft  \n",
       "\n",
       "[5 rows x 25 columns]"
      ],
      "text/html": "<div>\n<style scoped>\n    .dataframe tbody tr th:only-of-type {\n        vertical-align: middle;\n    }\n\n    .dataframe tbody tr th {\n        vertical-align: top;\n    }\n\n    .dataframe thead th {\n        text-align: right;\n    }\n</style>\n<table border=\"1\" class=\"dataframe\">\n  <thead>\n    <tr style=\"text-align: right;\">\n      <th></th>\n      <th>0</th>\n      <th>1</th>\n      <th>2</th>\n      <th>3</th>\n      <th>4</th>\n      <th>5</th>\n      <th>6</th>\n      <th>7</th>\n      <th>8</th>\n      <th>9</th>\n      <th>...</th>\n      <th>15</th>\n      <th>16</th>\n      <th>17</th>\n      <th>18</th>\n      <th>19</th>\n      <th>20</th>\n      <th>21</th>\n      <th>22</th>\n      <th>23</th>\n      <th>24</th>\n    </tr>\n  </thead>\n  <tbody>\n    <tr>\n      <th>0</th>\n      <td>a 'hindrance to operations': extracts from the...</td>\n      <td>scorecard</td>\n      <td>hughes' instant hit buoys blues</td>\n      <td>jack gets his skates on at ice-cold alex</td>\n      <td>chaos as maracana builds up for united</td>\n      <td>depleted leicester prevail as elliott spoils e...</td>\n      <td>hungry spurs sense rich pickings</td>\n      <td>gunners so wide of an easy target</td>\n      <td>derby raise a glass to strupar's debut double</td>\n      <td>southgate strikes, leeds pay the penalty</td>\n      <td>...</td>\n      <td>flintoff injury piles on woe for england</td>\n      <td>hunters threaten jospin with new battle of the...</td>\n      <td>kohl's successor drawn into scandal</td>\n      <td>the difference between men and women</td>\n      <td>sara denver, nurse turned solicitor</td>\n      <td>diana's landmine crusade put tories in a panic</td>\n      <td>yeltsin's resignation caught opposition flat-f...</td>\n      <td>russian roulette</td>\n      <td>sold out</td>\n      <td>recovering a title</td>\n    </tr>\n    <tr>\n      <th>1</th>\n      <td>scorecard</td>\n      <td>the best lake scene</td>\n      <td>leader: german sleaze inquiry</td>\n      <td>cheerio, boyo</td>\n      <td>the main recommendations</td>\n      <td>has cubie killed fees?</td>\n      <td>has cubie killed fees?</td>\n      <td>has cubie killed fees?</td>\n      <td>hopkins 'furious' at foster's lack of hannibal...</td>\n      <td>has cubie killed fees?</td>\n      <td>...</td>\n      <td>on the critical list</td>\n      <td>the timing of their lives</td>\n      <td>dear doctor</td>\n      <td>irish court halts ira man's extradition to nor...</td>\n      <td>burundi peace initiative fades after rebels re...</td>\n      <td>pe points the way forward to the ecb</td>\n      <td>campaigners keep up pressure on nazi war crime...</td>\n      <td>jane ratcliffe</td>\n      <td>yet more things you wouldn't know without the ...</td>\n      <td>millennium bug fails to bite</td>\n    </tr>\n    <tr>\n      <th>2</th>\n      <td>coventry caught on counter by flo</td>\n      <td>united's rivals on the road to rio</td>\n      <td>thatcher issues defence before trial by video</td>\n      <td>police help smith lay down the law at everton</td>\n      <td>tale of trautmann bears two more retellings</td>\n      <td>england on the rack</td>\n      <td>pakistan retaliate with call for video of walsh</td>\n      <td>cullinan continues his cape monopoly</td>\n      <td>mcgrath puts india out of their misery</td>\n      <td>blair witch bandwagon rolls on</td>\n      <td>...</td>\n      <td>south melbourne (australia)</td>\n      <td>necaxa (mexico)</td>\n      <td>real madrid (spain)</td>\n      <td>raja casablanca (morocco)</td>\n      <td>corinthians (brazil)</td>\n      <td>tony's pet project</td>\n      <td>al nassr (saudi arabia)</td>\n      <td>ideal holmes show</td>\n      <td>pinochet leaves hospital after tests</td>\n      <td>useful links</td>\n    </tr>\n    <tr>\n      <th>3</th>\n      <td>pilgrim knows how to progress</td>\n      <td>thatcher facing ban</td>\n      <td>mcilroy calls for irish fighting spirit</td>\n      <td>leicester bin stadium blueprint</td>\n      <td>united braced for mexican wave</td>\n      <td>auntie back in fashion, even if the dress look...</td>\n      <td>shoaib appeal goes to the top</td>\n      <td>hussain hurt by 'shambles' but lays blame on e...</td>\n      <td>england's decade of disasters</td>\n      <td>revenge is sweet for jubilant cronje</td>\n      <td>...</td>\n      <td>putin admits yeltsin quit to give him a head s...</td>\n      <td>bbc worst hit as digital tv begins to bite</td>\n      <td>how much can you pay for...</td>\n      <td>christmas glitches</td>\n      <td>upending a table, chopping a line and scoring ...</td>\n      <td>scientific evidence 'unreliable', defence claims</td>\n      <td>fusco wins judicial review in extradition case</td>\n      <td>rebels thwart russian advance</td>\n      <td>blair orders shake-up of failing nhs</td>\n      <td>lessons of law's hard heart</td>\n    </tr>\n    <tr>\n      <th>4</th>\n      <td>hitches and horlocks</td>\n      <td>beckham off but united survive</td>\n      <td>breast cancer screening</td>\n      <td>alan parker</td>\n      <td>guardian readers: are you all whingers?</td>\n      <td>hollywood beyond</td>\n      <td>ashes and diamonds</td>\n      <td>whingers - a formidable minority</td>\n      <td>alan parker - part two</td>\n      <td>thuggery, toxins and ties</td>\n      <td>...</td>\n      <td>most everywhere:  udis</td>\n      <td>most wanted:  chloe lunettes</td>\n      <td>return of the cane 'completely off the agenda'</td>\n      <td>from sleepy hollow to greeneland</td>\n      <td>blunkett outlines vision for over 11s</td>\n      <td>embattled dobson attacks 'play now, pay later'...</td>\n      <td>doom and the dome</td>\n      <td>what is the north-south divide?</td>\n      <td>aitken released from jail</td>\n      <td>gone aloft</td>\n    </tr>\n  </tbody>\n</table>\n<p>5 rows × 25 columns</p>\n</div>"
     },
     "metadata": {},
     "execution_count": 25
    }
   ],
   "source": [
    "for index in new_index:\n",
    "    data[index]=data[index].str.lower()\n",
    "data.head()"
   ]
  },
  {
   "cell_type": "code",
   "execution_count": 27,
   "metadata": {},
   "outputs": [
    {
     "output_type": "execute_result",
     "data": {
      "text/plain": [
       "0                   coventry caught on counter by flo\n",
       "1                  united's rivals on the road to rio\n",
       "2       thatcher issues defence before trial by video\n",
       "3       police help smith lay down the law at everton\n",
       "4         tale of trautmann bears two more retellings\n",
       "5                                 england on the rack\n",
       "6     pakistan retaliate with call for video of walsh\n",
       "7                cullinan continues his cape monopoly\n",
       "8              mcgrath puts india out of their misery\n",
       "9                      blair witch bandwagon rolls on\n",
       "10                     pele turns up heat on ferguson\n",
       "11         party divided over kohl slush fund scandal\n",
       "12                        manchester united (england)\n",
       "13                    women in record south pole walk\n",
       "14                             vasco da gama (brazil)\n",
       "15                        south melbourne (australia)\n",
       "16                                    necaxa (mexico)\n",
       "17                                real madrid (spain)\n",
       "18                          raja casablanca (morocco)\n",
       "19                               corinthians (brazil)\n",
       "20                                 tony's pet project\n",
       "21                            al nassr (saudi arabia)\n",
       "22                                  ideal holmes show\n",
       "23               pinochet leaves hospital after tests\n",
       "24                                       useful links\n",
       "Name: 2, dtype: object"
      ]
     },
     "metadata": {},
     "execution_count": 27
    }
   ],
   "source": [
    "data.iloc[2,0:25]"
   ]
  },
  {
   "cell_type": "code",
   "execution_count": 31,
   "metadata": {},
   "outputs": [],
   "source": [
    "headlines=[]\n",
    "for row in range(0,len(data)):\n",
    "    headlines.append(' '.join([str(i) for i in data.iloc[row,0:25]]))"
   ]
  },
  {
   "cell_type": "code",
   "execution_count": 32,
   "metadata": {},
   "outputs": [
    {
     "output_type": "execute_result",
     "data": {
      "text/plain": [
       "[\"a 'hindrance to operations': extracts from the leaked reports scorecard hughes' instant hit buoys blues jack gets his skates on at ice-cold alex chaos as maracana builds up for united depleted leicester prevail as elliott spoils everton's party hungry spurs sense rich pickings gunners so wide of an easy target derby raise a glass to strupar's debut double southgate strikes, leeds pay the penalty hammers hand robson a youthful lesson saints party like it's 1999 wear wolves have turned into lambs stump mike catches testy gough's taunt langer escapes to hit 167 flintoff injury piles on woe for england hunters threaten jospin with new battle of the somme kohl's successor drawn into scandal the difference between men and women sara denver, nurse turned solicitor diana's landmine crusade put tories in a panic yeltsin's resignation caught opposition flat-footed russian roulette sold out recovering a title\",\n",
       " \"scorecard the best lake scene leader: german sleaze inquiry cheerio, boyo the main recommendations has cubie killed fees? has cubie killed fees? has cubie killed fees? hopkins 'furious' at foster's lack of hannibal appetite has cubie killed fees? a tale of two tails i say what i like and i like what i say elbows, eyes and nipples task force to assess risk of asteroid collision how i found myself at last on the critical list the timing of their lives dear doctor irish court halts ira man's extradition to northern ireland burundi peace initiative fades after rebels reject mandela as mediator pe points the way forward to the ecb campaigners keep up pressure on nazi war crimes suspect jane ratcliffe yet more things you wouldn't know without the movies millennium bug fails to bite\",\n",
       " \"coventry caught on counter by flo united's rivals on the road to rio thatcher issues defence before trial by video police help smith lay down the law at everton tale of trautmann bears two more retellings england on the rack pakistan retaliate with call for video of walsh cullinan continues his cape monopoly mcgrath puts india out of their misery blair witch bandwagon rolls on pele turns up heat on ferguson party divided over kohl slush fund scandal manchester united (england) women in record south pole walk vasco da gama (brazil) south melbourne (australia) necaxa (mexico) real madrid (spain) raja casablanca (morocco) corinthians (brazil) tony's pet project al nassr (saudi arabia) ideal holmes show pinochet leaves hospital after tests useful links\",\n",
       " \"pilgrim knows how to progress thatcher facing ban mcilroy calls for irish fighting spirit leicester bin stadium blueprint united braced for mexican wave auntie back in fashion, even if the dress looks a bit tatty shoaib appeal goes to the top hussain hurt by 'shambles' but lays blame on earlier damage england's decade of disasters revenge is sweet for jubilant cronje our choice, not theirs profile of former us nazi party officer william pierce new evidence shows record of war crimes suspect was not investigated the rise of the supernerds written on the body putin admits yeltsin quit to give him a head start bbc worst hit as digital tv begins to bite how much can you pay for... christmas glitches upending a table, chopping a line and scoring a goal scientific evidence 'unreliable', defence claims fusco wins judicial review in extradition case rebels thwart russian advance blair orders shake-up of failing nhs lessons of law's hard heart\"]"
      ]
     },
     "metadata": {},
     "execution_count": 32
    }
   ],
   "source": [
    "headlines[0:4]"
   ]
  },
  {
   "cell_type": "code",
   "execution_count": 33,
   "metadata": {},
   "outputs": [],
   "source": [
    "from sklearn.feature_extraction.text import CountVectorizer\n",
    "from sklearn.ensemble import RandomForestClassifier"
   ]
  },
  {
   "cell_type": "code",
   "execution_count": 34,
   "metadata": {},
   "outputs": [],
   "source": [
    "cv=CountVectorizer(ngram_range=(2,2))\n",
    "traindata_x=cv.fit_transform(headlines)"
   ]
  },
  {
   "cell_type": "code",
   "execution_count": 35,
   "metadata": {},
   "outputs": [],
   "source": [
    "rfc=RandomForestClassifier(n_estimators=200,criterion='entropy')"
   ]
  },
  {
   "cell_type": "code",
   "execution_count": 37,
   "metadata": {},
   "outputs": [
    {
     "output_type": "execute_result",
     "data": {
      "text/plain": [
       "RandomForestClassifier(bootstrap=True, class_weight=None, criterion='entropy',\n",
       "            max_depth=None, max_features='auto', max_leaf_nodes=None,\n",
       "            min_impurity_decrease=0.0, min_impurity_split=None,\n",
       "            min_samples_leaf=1, min_samples_split=2,\n",
       "            min_weight_fraction_leaf=0.0, n_estimators=200, n_jobs=None,\n",
       "            oob_score=False, random_state=None, verbose=0,\n",
       "            warm_start=False)"
      ]
     },
     "metadata": {},
     "execution_count": 37
    }
   ],
   "source": [
    "rfc.fit(traindata_x,train['Label'])"
   ]
  },
  {
   "cell_type": "code",
   "execution_count": 38,
   "metadata": {},
   "outputs": [
    {
     "output_type": "execute_result",
     "data": {
      "text/plain": [
       "            Date  Label                                               Top1  \\\n",
       "3723  2015-01-02      1  Most cases of cancer are the result of sheer b...   \n",
       "3724  2015-01-05      0  Moscow-&gt;Beijing high speed train will reduc...   \n",
       "3725  2015-01-06      0                    US oil falls below $50 a barrel   \n",
       "3726  2015-01-07      1                'Shots fired' at French magazine HQ   \n",
       "3727  2015-01-08      1  New Charlie Hebdo issue to come out next week:...   \n",
       "\n",
       "                                                   Top2  \\\n",
       "3723  Iran dismissed United States efforts to fight ...   \n",
       "3724  Two ancient tombs were discovered in Egypt on ...   \n",
       "3725  Toyota gives away 5,680 fuel cell patents to b...   \n",
       "3726    90% of Bibi Netanyahus Campaign Funds From U.S.   \n",
       "3727  Ahmed Merabet, Cop Killed In Paris Attacks, Wa...   \n",
       "\n",
       "                                                   Top3  \\\n",
       "3723  Poll: One in 8 Germans would join anti-Muslim ...   \n",
       "3724  China complains to Pyongyang after N Korean so...   \n",
       "3725  Young Indian couple who had been granted polic...   \n",
       "3726  ISIS behead street magician for entertaining c...   \n",
       "3727  Youngest Suspect in Charlie Hebdo Attack Turns...   \n",
       "\n",
       "                                                   Top4  \\\n",
       "3723  UK royal family's Prince Andrew named in US la...   \n",
       "3724  Scotland Headed Towards Being Fossil Fuel-Free...   \n",
       "3725  A senior figure in Islamic States self-declare...   \n",
       "3726  Denmark sets new world record in renewable ene...   \n",
       "3727  Grenades thrown at a mosque in Le Mans, west o...   \n",
       "\n",
       "                                                   Top5  \\\n",
       "3723  Some 40 asylum-seekers refused to leave the bu...   \n",
       "3724  Prime Minister Shinzo Abe said Monday he will ...   \n",
       "3725  Fukushima rice passes radiation tests for 1st ...   \n",
       "3726  ISIS Closes Schools In Syria, Leaving 670000 C...   \n",
       "3727  Danish newspaper to print Charlie Hebdo cartoo...   \n",
       "\n",
       "                                                   Top6  \\\n",
       "3723  Pakistani boat blows self up after India navy ...   \n",
       "3724  Sex slave at centre of Prince Andrew scandal f...   \n",
       "3725  Nearly all Spanish parties guilty of financial...   \n",
       "3726  The European Union wants Turkey to explain how...   \n",
       "3727  Muslim politician from India offers $8M to Cha...   \n",
       "\n",
       "                                                   Top7  \\\n",
       "3723  Sweden hit by third mosque arson attack in a week   \n",
       "3724  Gay relative of Hamas founder faces deportatio...   \n",
       "3725             King Abdullah to abdicate Saudi Throne   \n",
       "3726  10 people have died in a shooting at the headq...   \n",
       "3727  Vladimir Putin has condemned a deadly terroris...   \n",
       "\n",
       "                                                   Top8  ...  \\\n",
       "3723         940 cars set alight during French New Year  ...   \n",
       "3724  The number of female drug addicts in Iran has ...  ...   \n",
       "3725    Taliban Commander Caught Networking On LinkedIn  ...   \n",
       "3726  Most Earth-like planet ever discovered could b...  ...   \n",
       "3727  Turkey is trying to hide any evidence that hol...  ...   \n",
       "\n",
       "                                                  Top16  \\\n",
       "3723  Ukrainian minister threatens TV channel with c...   \n",
       "3724  The Islamic State has approved a 2015 budget o...   \n",
       "3725  Thousands of Indians have fled from their home...   \n",
       "3726  Discovery of witnesss mutilated body feeds cla...   \n",
       "3727  Thousands in Europe hold up Pens in Solidarity...   \n",
       "\n",
       "                                                  Top17  \\\n",
       "3723  Palestinian President Mahmoud Abbas has entere...   \n",
       "3724  Iceland To Withdraw EU Application, Lift Capit...   \n",
       "3725  Turkey sacks judges who oversaw Erdogan corrup...   \n",
       "3726  Radical Islam a growing threat to sub-Saharan ...   \n",
       "3727  Journalists race to show solidarity with 'Char...   \n",
       "\n",
       "                                                  Top18  \\\n",
       "3723  Israeli security center publishes names of 50 ...   \n",
       "3724  Blackfield Capital Founder Goes Missing: The v...   \n",
       "3725  SpaceX Falcon 9 launch and recovery has been a...   \n",
       "3726  Tony Blair may 'face war crime charges' over I...   \n",
       "3727  Antibiotics: US discovery labelled 'game-chang...   \n",
       "\n",
       "                                                  Top19  \\\n",
       "3723  The year 2014 was the deadliest year yet in Sy...   \n",
       "3724  Rocket stage crashes back to Earth in rural Ch...   \n",
       "3725      CNN: Americans charged in botched Gambia coup   \n",
       "3726  Benjamin Netanyahu says settlements unlikely t...   \n",
       "3727  The Charlie Hebdo attack condemned by Saudi Ar...   \n",
       "\n",
       "                                                  Top20  \\\n",
       "3723  A Secret underground complex built by the Nazi...   \n",
       "3724  2 Dead as Aircraft Bombs Greek Tanker in Libya...   \n",
       "3725          Islamic State 'Police' Official Beheaded.   \n",
       "3726  Tasmania moves to allow corporations to sue pr...   \n",
       "3727  Brisbane man wearing \"I'm with stupid\" t-shirt...   \n",
       "\n",
       "                                                  Top21  \\\n",
       "3723  Restrictions on Web Freedom a Major Global Iss...   \n",
       "3724  Belgian murderer Frank Van Den Bleeken to die ...   \n",
       "3725  Libya bans Palestinians from country to preven...   \n",
       "3726  Indonesia search chief: Tail section of AirAsi...   \n",
       "3727  Fourth Russian General Commits Suicide in Less...   \n",
       "\n",
       "                                                  Top22  \\\n",
       "3723  Austrian journalist Erich Mchel delivered a pr...   \n",
       "3724  Czech President criticizes Ukrainian PM; says ...   \n",
       "3725  A judicial inquiry was opened in France on Mon...   \n",
       "3726  North Korean Defector: \"Bureau 121\" Hackers lo...   \n",
       "3727  Meteorite turns night into day over Bucharest,...   \n",
       "\n",
       "                                                  Top23  \\\n",
       "3723    Thousands of Ukraine nationalists march in Kiev   \n",
       "3724  3 Vietnamese jets join search for 16 missing F...   \n",
       "3725  Video has captured the moment a cameraman was ...   \n",
       "3726  Female suicide bomber attacks police station i...   \n",
       "3727  Israeli doctors implant Syrian man with titani...   \n",
       "\n",
       "                                                  Top24  \\\n",
       "3723  Chinas New Years Resolution: No More Harvestin...   \n",
       "3724  France seeks end to Russia sanctions over Ukraine   \n",
       "3725  Syria has complained to the United Nations tha...   \n",
       "3726  IS to turn Syria schools into religious indoct...   \n",
       "3727  Unusual Metal Recovered from Ancient Greek Shi...   \n",
       "\n",
       "                                                  Top25  \n",
       "3723  Authorities Pull Plug on Russia's Last Politic...  \n",
       "3724                      China scraps rare earths caps  \n",
       "3725  Tests over, India set to make the iris of bigg...  \n",
       "3726   Ebola vaccine trials in Halifax so far a success  \n",
       "3727  Young mother let terrorists into Charlie Hebdo...  \n",
       "\n",
       "[5 rows x 27 columns]"
      ],
      "text/html": "<div>\n<style scoped>\n    .dataframe tbody tr th:only-of-type {\n        vertical-align: middle;\n    }\n\n    .dataframe tbody tr th {\n        vertical-align: top;\n    }\n\n    .dataframe thead th {\n        text-align: right;\n    }\n</style>\n<table border=\"1\" class=\"dataframe\">\n  <thead>\n    <tr style=\"text-align: right;\">\n      <th></th>\n      <th>Date</th>\n      <th>Label</th>\n      <th>Top1</th>\n      <th>Top2</th>\n      <th>Top3</th>\n      <th>Top4</th>\n      <th>Top5</th>\n      <th>Top6</th>\n      <th>Top7</th>\n      <th>Top8</th>\n      <th>...</th>\n      <th>Top16</th>\n      <th>Top17</th>\n      <th>Top18</th>\n      <th>Top19</th>\n      <th>Top20</th>\n      <th>Top21</th>\n      <th>Top22</th>\n      <th>Top23</th>\n      <th>Top24</th>\n      <th>Top25</th>\n    </tr>\n  </thead>\n  <tbody>\n    <tr>\n      <th>3723</th>\n      <td>2015-01-02</td>\n      <td>1</td>\n      <td>Most cases of cancer are the result of sheer b...</td>\n      <td>Iran dismissed United States efforts to fight ...</td>\n      <td>Poll: One in 8 Germans would join anti-Muslim ...</td>\n      <td>UK royal family's Prince Andrew named in US la...</td>\n      <td>Some 40 asylum-seekers refused to leave the bu...</td>\n      <td>Pakistani boat blows self up after India navy ...</td>\n      <td>Sweden hit by third mosque arson attack in a week</td>\n      <td>940 cars set alight during French New Year</td>\n      <td>...</td>\n      <td>Ukrainian minister threatens TV channel with c...</td>\n      <td>Palestinian President Mahmoud Abbas has entere...</td>\n      <td>Israeli security center publishes names of 50 ...</td>\n      <td>The year 2014 was the deadliest year yet in Sy...</td>\n      <td>A Secret underground complex built by the Nazi...</td>\n      <td>Restrictions on Web Freedom a Major Global Iss...</td>\n      <td>Austrian journalist Erich Mchel delivered a pr...</td>\n      <td>Thousands of Ukraine nationalists march in Kiev</td>\n      <td>Chinas New Years Resolution: No More Harvestin...</td>\n      <td>Authorities Pull Plug on Russia's Last Politic...</td>\n    </tr>\n    <tr>\n      <th>3724</th>\n      <td>2015-01-05</td>\n      <td>0</td>\n      <td>Moscow-&amp;gt;Beijing high speed train will reduc...</td>\n      <td>Two ancient tombs were discovered in Egypt on ...</td>\n      <td>China complains to Pyongyang after N Korean so...</td>\n      <td>Scotland Headed Towards Being Fossil Fuel-Free...</td>\n      <td>Prime Minister Shinzo Abe said Monday he will ...</td>\n      <td>Sex slave at centre of Prince Andrew scandal f...</td>\n      <td>Gay relative of Hamas founder faces deportatio...</td>\n      <td>The number of female drug addicts in Iran has ...</td>\n      <td>...</td>\n      <td>The Islamic State has approved a 2015 budget o...</td>\n      <td>Iceland To Withdraw EU Application, Lift Capit...</td>\n      <td>Blackfield Capital Founder Goes Missing: The v...</td>\n      <td>Rocket stage crashes back to Earth in rural Ch...</td>\n      <td>2 Dead as Aircraft Bombs Greek Tanker in Libya...</td>\n      <td>Belgian murderer Frank Van Den Bleeken to die ...</td>\n      <td>Czech President criticizes Ukrainian PM; says ...</td>\n      <td>3 Vietnamese jets join search for 16 missing F...</td>\n      <td>France seeks end to Russia sanctions over Ukraine</td>\n      <td>China scraps rare earths caps</td>\n    </tr>\n    <tr>\n      <th>3725</th>\n      <td>2015-01-06</td>\n      <td>0</td>\n      <td>US oil falls below $50 a barrel</td>\n      <td>Toyota gives away 5,680 fuel cell patents to b...</td>\n      <td>Young Indian couple who had been granted polic...</td>\n      <td>A senior figure in Islamic States self-declare...</td>\n      <td>Fukushima rice passes radiation tests for 1st ...</td>\n      <td>Nearly all Spanish parties guilty of financial...</td>\n      <td>King Abdullah to abdicate Saudi Throne</td>\n      <td>Taliban Commander Caught Networking On LinkedIn</td>\n      <td>...</td>\n      <td>Thousands of Indians have fled from their home...</td>\n      <td>Turkey sacks judges who oversaw Erdogan corrup...</td>\n      <td>SpaceX Falcon 9 launch and recovery has been a...</td>\n      <td>CNN: Americans charged in botched Gambia coup</td>\n      <td>Islamic State 'Police' Official Beheaded.</td>\n      <td>Libya bans Palestinians from country to preven...</td>\n      <td>A judicial inquiry was opened in France on Mon...</td>\n      <td>Video has captured the moment a cameraman was ...</td>\n      <td>Syria has complained to the United Nations tha...</td>\n      <td>Tests over, India set to make the iris of bigg...</td>\n    </tr>\n    <tr>\n      <th>3726</th>\n      <td>2015-01-07</td>\n      <td>1</td>\n      <td>'Shots fired' at French magazine HQ</td>\n      <td>90% of Bibi Netanyahus Campaign Funds From U.S.</td>\n      <td>ISIS behead street magician for entertaining c...</td>\n      <td>Denmark sets new world record in renewable ene...</td>\n      <td>ISIS Closes Schools In Syria, Leaving 670000 C...</td>\n      <td>The European Union wants Turkey to explain how...</td>\n      <td>10 people have died in a shooting at the headq...</td>\n      <td>Most Earth-like planet ever discovered could b...</td>\n      <td>...</td>\n      <td>Discovery of witnesss mutilated body feeds cla...</td>\n      <td>Radical Islam a growing threat to sub-Saharan ...</td>\n      <td>Tony Blair may 'face war crime charges' over I...</td>\n      <td>Benjamin Netanyahu says settlements unlikely t...</td>\n      <td>Tasmania moves to allow corporations to sue pr...</td>\n      <td>Indonesia search chief: Tail section of AirAsi...</td>\n      <td>North Korean Defector: \"Bureau 121\" Hackers lo...</td>\n      <td>Female suicide bomber attacks police station i...</td>\n      <td>IS to turn Syria schools into religious indoct...</td>\n      <td>Ebola vaccine trials in Halifax so far a success</td>\n    </tr>\n    <tr>\n      <th>3727</th>\n      <td>2015-01-08</td>\n      <td>1</td>\n      <td>New Charlie Hebdo issue to come out next week:...</td>\n      <td>Ahmed Merabet, Cop Killed In Paris Attacks, Wa...</td>\n      <td>Youngest Suspect in Charlie Hebdo Attack Turns...</td>\n      <td>Grenades thrown at a mosque in Le Mans, west o...</td>\n      <td>Danish newspaper to print Charlie Hebdo cartoo...</td>\n      <td>Muslim politician from India offers $8M to Cha...</td>\n      <td>Vladimir Putin has condemned a deadly terroris...</td>\n      <td>Turkey is trying to hide any evidence that hol...</td>\n      <td>...</td>\n      <td>Thousands in Europe hold up Pens in Solidarity...</td>\n      <td>Journalists race to show solidarity with 'Char...</td>\n      <td>Antibiotics: US discovery labelled 'game-chang...</td>\n      <td>The Charlie Hebdo attack condemned by Saudi Ar...</td>\n      <td>Brisbane man wearing \"I'm with stupid\" t-shirt...</td>\n      <td>Fourth Russian General Commits Suicide in Less...</td>\n      <td>Meteorite turns night into day over Bucharest,...</td>\n      <td>Israeli doctors implant Syrian man with titani...</td>\n      <td>Unusual Metal Recovered from Ancient Greek Shi...</td>\n      <td>Young mother let terrorists into Charlie Hebdo...</td>\n    </tr>\n  </tbody>\n</table>\n<p>5 rows × 27 columns</p>\n</div>"
     },
     "metadata": {},
     "execution_count": 38
    }
   ],
   "source": [
    "test.head()"
   ]
  },
  {
   "cell_type": "code",
   "execution_count": 39,
   "metadata": {},
   "outputs": [],
   "source": [
    "test_t=[]\n",
    "for row in range(0,len(test)):\n",
    "    test_t.append(' '.join([str(i) for i in test.iloc[row,2:27]]))"
   ]
  },
  {
   "cell_type": "code",
   "execution_count": 40,
   "metadata": {},
   "outputs": [],
   "source": [
    "test_data=cv.transform(test_t)"
   ]
  },
  {
   "cell_type": "code",
   "execution_count": 42,
   "metadata": {},
   "outputs": [
    {
     "output_type": "execute_result",
     "data": {
      "text/plain": [
       "array([1, 0, 0, 1, 1, 0, 0, 0, 0, 0, 1, 1, 1, 1, 0, 1, 0, 0, 1, 0, 1, 1,\n",
       "       1, 1, 0, 0, 1, 0, 1, 1, 1, 0, 0, 1, 0, 1, 1, 0, 0, 1, 0, 0, 1, 0,\n",
       "       1, 0, 0, 1, 0, 1, 0, 1, 0, 1, 0, 0, 0, 0, 1, 1, 0, 0, 1, 1, 0, 1,\n",
       "       1, 1, 0, 1, 1, 0, 0, 1, 0, 1, 1, 1, 0, 1, 0, 0, 1, 1, 0, 0, 1, 1,\n",
       "       0, 0, 0, 1, 1, 1, 1, 0, 1, 0, 0, 1, 0, 0, 1, 0, 1, 0, 0, 0, 0, 1,\n",
       "       1, 0, 0, 1, 1, 1, 0, 1, 1, 0, 0, 1, 0, 1, 1, 0, 0, 1, 0, 1, 1, 1,\n",
       "       1, 0, 1, 0, 1, 0, 0, 0, 0, 0, 1, 1, 0, 0, 0, 0, 0, 0, 0, 1, 0, 0,\n",
       "       1, 1, 1, 0, 0, 0, 0, 0, 0, 1, 1, 0, 0, 0, 1, 1, 0, 1, 0, 1, 1, 0,\n",
       "       1, 1, 0, 0, 1, 0, 0, 0, 1, 0, 1, 1, 0, 1, 1, 1, 1, 1, 1, 1, 0, 0,\n",
       "       1, 1, 1, 0, 0, 1, 1, 0, 0, 1, 0, 0, 1, 1, 0, 0, 1, 0, 1, 0, 0, 0,\n",
       "       1, 1, 1, 0, 1, 0, 1, 1, 0, 0, 1, 0, 0, 1, 0, 0, 0, 1, 0, 1, 1, 1,\n",
       "       0, 0, 1, 1, 1, 0, 0, 1, 0, 0, 1, 1, 1, 1, 1, 1, 1, 1, 1, 1, 0, 0,\n",
       "       1, 1, 1, 1, 1, 1, 1, 1, 1, 1, 1, 1, 0, 1, 1, 1, 1, 1, 1, 1, 1, 1,\n",
       "       1, 1, 1, 1, 1, 1, 1, 1, 1, 1, 1, 1, 1, 1, 1, 0, 1, 0, 0, 1, 1, 1,\n",
       "       1, 1, 1, 1, 0, 1, 1, 0, 1, 1, 1, 1, 1, 1, 1, 1, 1, 1, 1, 1, 1, 1,\n",
       "       1, 1, 1, 1, 0, 1, 0, 1, 1, 1, 1, 1, 1, 1, 1, 1, 1, 1, 1, 1, 1, 0,\n",
       "       1, 1, 1, 1, 1, 1, 1, 1, 0, 1, 1, 0, 1, 1, 1, 1, 0, 1, 1, 1, 0, 1,\n",
       "       1, 1, 1, 1], dtype=int64)"
      ]
     },
     "metadata": {},
     "execution_count": 42
    }
   ],
   "source": [
    "predict=rfc.predict(test_data)\n",
    "predict"
   ]
  },
  {
   "cell_type": "code",
   "execution_count": 43,
   "metadata": {},
   "outputs": [],
   "source": [
    "from sklearn.metrics import confusion_matrix"
   ]
  },
  {
   "cell_type": "code",
   "execution_count": 46,
   "metadata": {},
   "outputs": [
    {
     "output_type": "execute_result",
     "data": {
      "text/plain": [
       "array([[137,  49],\n",
       "       [  8, 184]], dtype=int64)"
      ]
     },
     "metadata": {},
     "execution_count": 46
    }
   ],
   "source": [
    "cm=confusion_matrix(test['Label'],predict)\n",
    "cm"
   ]
  },
  {
   "cell_type": "code",
   "execution_count": 51,
   "metadata": {},
   "outputs": [
    {
     "output_type": "execute_result",
     "data": {
      "text/plain": [
       "Text(49.65000000000006, 0.5, 'Predicted Labels')"
      ]
     },
     "metadata": {},
     "execution_count": 51
    },
    {
     "output_type": "display_data",
     "data": {
      "text/plain": "<Figure size 432x288 with 2 Axes>",
      "image/svg+xml": "<?xml version=\"1.0\" encoding=\"utf-8\" standalone=\"no\"?>\r\n<!DOCTYPE svg PUBLIC \"-//W3C//DTD SVG 1.1//EN\"\r\n  \"http://www.w3.org/Graphics/SVG/1.1/DTD/svg11.dtd\">\r\n<!-- Created with matplotlib (https://matplotlib.org/) -->\r\n<svg height=\"293.274375pt\" version=\"1.1\" viewBox=\"0 0 370.475625 293.274375\" width=\"370.475625pt\" xmlns=\"http://www.w3.org/2000/svg\" xmlns:xlink=\"http://www.w3.org/1999/xlink\">\r\n <defs>\r\n  <style type=\"text/css\">\r\n*{stroke-linecap:butt;stroke-linejoin:round;}\r\n  </style>\r\n </defs>\r\n <g id=\"figure_1\">\r\n  <g id=\"patch_1\">\r\n   <path d=\"M 0 293.274375 \r\nL 370.475625 293.274375 \r\nL 370.475625 0 \r\nL 0 0 \r\nz\r\n\" style=\"fill:none;\"/>\r\n  </g>\r\n  <g id=\"axes_1\">\r\n   <g id=\"patch_2\">\r\n    <path d=\"M 71.615625 255.718125 \r\nL 305.015625 255.718125 \r\nL 305.015625 22.318125 \r\nL 71.615625 22.318125 \r\nz\r\n\" style=\"fill:#ffffff;\"/>\r\n   </g>\r\n   <g clip-path=\"url(#p729ed2062c)\">\r\n    <image height=\"234\" id=\"image47e6552347\" transform=\"scale(1 -1)translate(0 -234)\" width=\"234\" x=\"71.615625\" xlink:href=\"data:image/png;base64,\r\niVBORw0KGgoAAAANSUhEUgAAAOoAAADqCAYAAACslNlOAAAABHNCSVQICAgIfAhkiAAAAuRJREFUeJzt1TENAkEARFEOB4hAAgWOKGjPER6QRkGxSLhmk80n7ymY5me2z3eME3/lcnuunsBk59UDgGNChQChQoBQIUCoECBUCBAqBAgVAoQKAUKFAKFCgFAhQKgQIFQIECoECBUChAoBQoUAoUKAUCFAqBAgVAgQKgQIFQKECgFChQChQoBQIUCoECBUCBAqBAgVAoQKAUKFAKFCgFAhQKgQIFQIECoECBUChAoBQoUAoUKAUCFAqBAgVAgQKgQIFQKECgFChQChQoBQIUCoECBUCBAqBAgVAoQKAUKFAKFCgFAhQKgQIFQIECoECBUChAoBQoUAoUKAUCFAqBAgVAgQKgQIFQKECgFChQChQoBQIUCoECBUCBAqBAgVAoQKAUKFAKFCgFAhQKgQIFQIECoECBUChAoBQoUAoUKAUCFAqBAgVAgQKgQIFQKECgFChQChQoBQIUCoECBUCBAqBAgVAoQKAUKFAKFCgFAhQKgQIFQIECoECBUChAoBQoUAoUKAUCFgu+7vsXoEc70e99UTmMyjQoBQIUCoECBUCBAqBAgVAoQKAUKFAKFCgFAhQKgQIFQIECoECBUChAoBQoUAoUKAUCFAqBAgVAgQKgQIFQKECgFChQChQoBQIUCoECBUCBAqBAgVAoQKAUKFAKFCgFAhQKgQIFQIECoECBUChAoBQoUAoUKAUCFAqBAgVAgQKgQIFQKECgFChQChQoBQIUCoECBUCBAqBAgVAoQKAUKFAKFCgFAhQKgQIFQIECoECBUChAoBQoUAoUKAUCFAqBAgVAgQKgQIFQKECgFChQChQoBQIUCoECBUCBAqBAgVAoQKAUKFAKFCgFAhQKgQIFQIECoECBUChAoBQoUAoUKAUCFAqBAgVAgQKgQIFQKECgFChQChQoBQIUCoECBUCBAqBAgVAoQKAUKFAKFCgFAhQKgQIFQIECoECBUChAoBQoUAoUKAUCFAqBAgVAj4ASsqCgpE3ib/AAAAAElFTkSuQmCC\" y=\"-21.718125\"/>\r\n   </g>\r\n   <g id=\"matplotlib.axis_1\">\r\n    <g id=\"xtick_1\">\r\n     <g id=\"line2d_1\">\r\n      <defs>\r\n       <path d=\"M 0 0 \r\nL 0 3.5 \r\n\" id=\"m0eb4367ac0\" style=\"stroke:#000000;stroke-width:0.8;\"/>\r\n      </defs>\r\n      <g>\r\n       <use style=\"stroke:#000000;stroke-width:0.8;\" x=\"129.965625\" xlink:href=\"#m0eb4367ac0\" y=\"255.718125\"/>\r\n      </g>\r\n     </g>\r\n     <g id=\"text_1\">\r\n      <!-- positive -->\r\n      <defs>\r\n       <path d=\"M 18.109375 8.203125 \r\nL 18.109375 -20.796875 \r\nL 9.078125 -20.796875 \r\nL 9.078125 54.6875 \r\nL 18.109375 54.6875 \r\nL 18.109375 46.390625 \r\nQ 20.953125 51.265625 25.265625 53.625 \r\nQ 29.59375 56 35.59375 56 \r\nQ 45.5625 56 51.78125 48.09375 \r\nQ 58.015625 40.1875 58.015625 27.296875 \r\nQ 58.015625 14.40625 51.78125 6.484375 \r\nQ 45.5625 -1.421875 35.59375 -1.421875 \r\nQ 29.59375 -1.421875 25.265625 0.953125 \r\nQ 20.953125 3.328125 18.109375 8.203125 \r\nz\r\nM 48.6875 27.296875 \r\nQ 48.6875 37.203125 44.609375 42.84375 \r\nQ 40.53125 48.484375 33.40625 48.484375 \r\nQ 26.265625 48.484375 22.1875 42.84375 \r\nQ 18.109375 37.203125 18.109375 27.296875 \r\nQ 18.109375 17.390625 22.1875 11.75 \r\nQ 26.265625 6.109375 33.40625 6.109375 \r\nQ 40.53125 6.109375 44.609375 11.75 \r\nQ 48.6875 17.390625 48.6875 27.296875 \r\nz\r\n\" id=\"DejaVuSans-112\"/>\r\n       <path d=\"M 30.609375 48.390625 \r\nQ 23.390625 48.390625 19.1875 42.75 \r\nQ 14.984375 37.109375 14.984375 27.296875 \r\nQ 14.984375 17.484375 19.15625 11.84375 \r\nQ 23.34375 6.203125 30.609375 6.203125 \r\nQ 37.796875 6.203125 41.984375 11.859375 \r\nQ 46.1875 17.53125 46.1875 27.296875 \r\nQ 46.1875 37.015625 41.984375 42.703125 \r\nQ 37.796875 48.390625 30.609375 48.390625 \r\nz\r\nM 30.609375 56 \r\nQ 42.328125 56 49.015625 48.375 \r\nQ 55.71875 40.765625 55.71875 27.296875 \r\nQ 55.71875 13.875 49.015625 6.21875 \r\nQ 42.328125 -1.421875 30.609375 -1.421875 \r\nQ 18.84375 -1.421875 12.171875 6.21875 \r\nQ 5.515625 13.875 5.515625 27.296875 \r\nQ 5.515625 40.765625 12.171875 48.375 \r\nQ 18.84375 56 30.609375 56 \r\nz\r\n\" id=\"DejaVuSans-111\"/>\r\n       <path d=\"M 44.28125 53.078125 \r\nL 44.28125 44.578125 \r\nQ 40.484375 46.53125 36.375 47.5 \r\nQ 32.28125 48.484375 27.875 48.484375 \r\nQ 21.1875 48.484375 17.84375 46.4375 \r\nQ 14.5 44.390625 14.5 40.28125 \r\nQ 14.5 37.15625 16.890625 35.375 \r\nQ 19.28125 33.59375 26.515625 31.984375 \r\nL 29.59375 31.296875 \r\nQ 39.15625 29.25 43.1875 25.515625 \r\nQ 47.21875 21.78125 47.21875 15.09375 \r\nQ 47.21875 7.46875 41.1875 3.015625 \r\nQ 35.15625 -1.421875 24.609375 -1.421875 \r\nQ 20.21875 -1.421875 15.453125 -0.5625 \r\nQ 10.6875 0.296875 5.421875 2 \r\nL 5.421875 11.28125 \r\nQ 10.40625 8.6875 15.234375 7.390625 \r\nQ 20.0625 6.109375 24.8125 6.109375 \r\nQ 31.15625 6.109375 34.5625 8.28125 \r\nQ 37.984375 10.453125 37.984375 14.40625 \r\nQ 37.984375 18.0625 35.515625 20.015625 \r\nQ 33.0625 21.96875 24.703125 23.78125 \r\nL 21.578125 24.515625 \r\nQ 13.234375 26.265625 9.515625 29.90625 \r\nQ 5.8125 33.546875 5.8125 39.890625 \r\nQ 5.8125 47.609375 11.28125 51.796875 \r\nQ 16.75 56 26.8125 56 \r\nQ 31.78125 56 36.171875 55.265625 \r\nQ 40.578125 54.546875 44.28125 53.078125 \r\nz\r\n\" id=\"DejaVuSans-115\"/>\r\n       <path d=\"M 9.421875 54.6875 \r\nL 18.40625 54.6875 \r\nL 18.40625 0 \r\nL 9.421875 0 \r\nz\r\nM 9.421875 75.984375 \r\nL 18.40625 75.984375 \r\nL 18.40625 64.59375 \r\nL 9.421875 64.59375 \r\nz\r\n\" id=\"DejaVuSans-105\"/>\r\n       <path d=\"M 18.3125 70.21875 \r\nL 18.3125 54.6875 \r\nL 36.8125 54.6875 \r\nL 36.8125 47.703125 \r\nL 18.3125 47.703125 \r\nL 18.3125 18.015625 \r\nQ 18.3125 11.328125 20.140625 9.421875 \r\nQ 21.96875 7.515625 27.59375 7.515625 \r\nL 36.8125 7.515625 \r\nL 36.8125 0 \r\nL 27.59375 0 \r\nQ 17.1875 0 13.234375 3.875 \r\nQ 9.28125 7.765625 9.28125 18.015625 \r\nL 9.28125 47.703125 \r\nL 2.6875 47.703125 \r\nL 2.6875 54.6875 \r\nL 9.28125 54.6875 \r\nL 9.28125 70.21875 \r\nz\r\n\" id=\"DejaVuSans-116\"/>\r\n       <path d=\"M 2.984375 54.6875 \r\nL 12.5 54.6875 \r\nL 29.59375 8.796875 \r\nL 46.6875 54.6875 \r\nL 56.203125 54.6875 \r\nL 35.6875 0 \r\nL 23.484375 0 \r\nz\r\n\" id=\"DejaVuSans-118\"/>\r\n       <path d=\"M 56.203125 29.59375 \r\nL 56.203125 25.203125 \r\nL 14.890625 25.203125 \r\nQ 15.484375 15.921875 20.484375 11.0625 \r\nQ 25.484375 6.203125 34.421875 6.203125 \r\nQ 39.59375 6.203125 44.453125 7.46875 \r\nQ 49.3125 8.734375 54.109375 11.28125 \r\nL 54.109375 2.78125 \r\nQ 49.265625 0.734375 44.1875 -0.34375 \r\nQ 39.109375 -1.421875 33.890625 -1.421875 \r\nQ 20.796875 -1.421875 13.15625 6.1875 \r\nQ 5.515625 13.8125 5.515625 26.8125 \r\nQ 5.515625 40.234375 12.765625 48.109375 \r\nQ 20.015625 56 32.328125 56 \r\nQ 43.359375 56 49.78125 48.890625 \r\nQ 56.203125 41.796875 56.203125 29.59375 \r\nz\r\nM 47.21875 32.234375 \r\nQ 47.125 39.59375 43.09375 43.984375 \r\nQ 39.0625 48.390625 32.421875 48.390625 \r\nQ 24.90625 48.390625 20.390625 44.140625 \r\nQ 15.875 39.890625 15.1875 32.171875 \r\nz\r\n\" id=\"DejaVuSans-101\"/>\r\n      </defs>\r\n      <g transform=\"translate(110.353125 270.316563)scale(0.1 -0.1)\">\r\n       <use xlink:href=\"#DejaVuSans-112\"/>\r\n       <use x=\"63.476562\" xlink:href=\"#DejaVuSans-111\"/>\r\n       <use x=\"124.658203\" xlink:href=\"#DejaVuSans-115\"/>\r\n       <use x=\"176.757812\" xlink:href=\"#DejaVuSans-105\"/>\r\n       <use x=\"204.541016\" xlink:href=\"#DejaVuSans-116\"/>\r\n       <use x=\"243.75\" xlink:href=\"#DejaVuSans-105\"/>\r\n       <use x=\"271.533203\" xlink:href=\"#DejaVuSans-118\"/>\r\n       <use x=\"330.712891\" xlink:href=\"#DejaVuSans-101\"/>\r\n      </g>\r\n     </g>\r\n    </g>\r\n    <g id=\"xtick_2\">\r\n     <g id=\"line2d_2\">\r\n      <g>\r\n       <use style=\"stroke:#000000;stroke-width:0.8;\" x=\"246.665625\" xlink:href=\"#m0eb4367ac0\" y=\"255.718125\"/>\r\n      </g>\r\n     </g>\r\n     <g id=\"text_2\">\r\n      <!-- negative -->\r\n      <defs>\r\n       <path d=\"M 54.890625 33.015625 \r\nL 54.890625 0 \r\nL 45.90625 0 \r\nL 45.90625 32.71875 \r\nQ 45.90625 40.484375 42.875 44.328125 \r\nQ 39.84375 48.1875 33.796875 48.1875 \r\nQ 26.515625 48.1875 22.3125 43.546875 \r\nQ 18.109375 38.921875 18.109375 30.90625 \r\nL 18.109375 0 \r\nL 9.078125 0 \r\nL 9.078125 54.6875 \r\nL 18.109375 54.6875 \r\nL 18.109375 46.1875 \r\nQ 21.34375 51.125 25.703125 53.5625 \r\nQ 30.078125 56 35.796875 56 \r\nQ 45.21875 56 50.046875 50.171875 \r\nQ 54.890625 44.34375 54.890625 33.015625 \r\nz\r\n\" id=\"DejaVuSans-110\"/>\r\n       <path d=\"M 45.40625 27.984375 \r\nQ 45.40625 37.75 41.375 43.109375 \r\nQ 37.359375 48.484375 30.078125 48.484375 \r\nQ 22.859375 48.484375 18.828125 43.109375 \r\nQ 14.796875 37.75 14.796875 27.984375 \r\nQ 14.796875 18.265625 18.828125 12.890625 \r\nQ 22.859375 7.515625 30.078125 7.515625 \r\nQ 37.359375 7.515625 41.375 12.890625 \r\nQ 45.40625 18.265625 45.40625 27.984375 \r\nz\r\nM 54.390625 6.78125 \r\nQ 54.390625 -7.171875 48.1875 -13.984375 \r\nQ 42 -20.796875 29.203125 -20.796875 \r\nQ 24.46875 -20.796875 20.265625 -20.09375 \r\nQ 16.0625 -19.390625 12.109375 -17.921875 \r\nL 12.109375 -9.1875 \r\nQ 16.0625 -11.328125 19.921875 -12.34375 \r\nQ 23.78125 -13.375 27.78125 -13.375 \r\nQ 36.625 -13.375 41.015625 -8.765625 \r\nQ 45.40625 -4.15625 45.40625 5.171875 \r\nL 45.40625 9.625 \r\nQ 42.625 4.78125 38.28125 2.390625 \r\nQ 33.9375 0 27.875 0 \r\nQ 17.828125 0 11.671875 7.65625 \r\nQ 5.515625 15.328125 5.515625 27.984375 \r\nQ 5.515625 40.671875 11.671875 48.328125 \r\nQ 17.828125 56 27.875 56 \r\nQ 33.9375 56 38.28125 53.609375 \r\nQ 42.625 51.21875 45.40625 46.390625 \r\nL 45.40625 54.6875 \r\nL 54.390625 54.6875 \r\nz\r\n\" id=\"DejaVuSans-103\"/>\r\n       <path d=\"M 34.28125 27.484375 \r\nQ 23.390625 27.484375 19.1875 25 \r\nQ 14.984375 22.515625 14.984375 16.5 \r\nQ 14.984375 11.71875 18.140625 8.90625 \r\nQ 21.296875 6.109375 26.703125 6.109375 \r\nQ 34.1875 6.109375 38.703125 11.40625 \r\nQ 43.21875 16.703125 43.21875 25.484375 \r\nL 43.21875 27.484375 \r\nz\r\nM 52.203125 31.203125 \r\nL 52.203125 0 \r\nL 43.21875 0 \r\nL 43.21875 8.296875 \r\nQ 40.140625 3.328125 35.546875 0.953125 \r\nQ 30.953125 -1.421875 24.3125 -1.421875 \r\nQ 15.921875 -1.421875 10.953125 3.296875 \r\nQ 6 8.015625 6 15.921875 \r\nQ 6 25.140625 12.171875 29.828125 \r\nQ 18.359375 34.515625 30.609375 34.515625 \r\nL 43.21875 34.515625 \r\nL 43.21875 35.40625 \r\nQ 43.21875 41.609375 39.140625 45 \r\nQ 35.0625 48.390625 27.6875 48.390625 \r\nQ 23 48.390625 18.546875 47.265625 \r\nQ 14.109375 46.140625 10.015625 43.890625 \r\nL 10.015625 52.203125 \r\nQ 14.9375 54.109375 19.578125 55.046875 \r\nQ 24.21875 56 28.609375 56 \r\nQ 40.484375 56 46.34375 49.84375 \r\nQ 52.203125 43.703125 52.203125 31.203125 \r\nz\r\n\" id=\"DejaVuSans-97\"/>\r\n      </defs>\r\n      <g transform=\"translate(224.796875 270.316563)scale(0.1 -0.1)\">\r\n       <use xlink:href=\"#DejaVuSans-110\"/>\r\n       <use x=\"63.378906\" xlink:href=\"#DejaVuSans-101\"/>\r\n       <use x=\"124.902344\" xlink:href=\"#DejaVuSans-103\"/>\r\n       <use x=\"188.378906\" xlink:href=\"#DejaVuSans-97\"/>\r\n       <use x=\"249.658203\" xlink:href=\"#DejaVuSans-116\"/>\r\n       <use x=\"288.867188\" xlink:href=\"#DejaVuSans-105\"/>\r\n       <use x=\"316.650391\" xlink:href=\"#DejaVuSans-118\"/>\r\n       <use x=\"375.830078\" xlink:href=\"#DejaVuSans-101\"/>\r\n      </g>\r\n     </g>\r\n    </g>\r\n    <g id=\"text_3\">\r\n     <!-- True Labels -->\r\n     <defs>\r\n      <path d=\"M -0.296875 72.90625 \r\nL 61.375 72.90625 \r\nL 61.375 64.59375 \r\nL 35.5 64.59375 \r\nL 35.5 0 \r\nL 25.59375 0 \r\nL 25.59375 64.59375 \r\nL -0.296875 64.59375 \r\nz\r\n\" id=\"DejaVuSans-84\"/>\r\n      <path d=\"M 41.109375 46.296875 \r\nQ 39.59375 47.171875 37.8125 47.578125 \r\nQ 36.03125 48 33.890625 48 \r\nQ 26.265625 48 22.1875 43.046875 \r\nQ 18.109375 38.09375 18.109375 28.8125 \r\nL 18.109375 0 \r\nL 9.078125 0 \r\nL 9.078125 54.6875 \r\nL 18.109375 54.6875 \r\nL 18.109375 46.1875 \r\nQ 20.953125 51.171875 25.484375 53.578125 \r\nQ 30.03125 56 36.53125 56 \r\nQ 37.453125 56 38.578125 55.875 \r\nQ 39.703125 55.765625 41.0625 55.515625 \r\nz\r\n\" id=\"DejaVuSans-114\"/>\r\n      <path d=\"M 8.5 21.578125 \r\nL 8.5 54.6875 \r\nL 17.484375 54.6875 \r\nL 17.484375 21.921875 \r\nQ 17.484375 14.15625 20.5 10.265625 \r\nQ 23.53125 6.390625 29.59375 6.390625 \r\nQ 36.859375 6.390625 41.078125 11.03125 \r\nQ 45.3125 15.671875 45.3125 23.6875 \r\nL 45.3125 54.6875 \r\nL 54.296875 54.6875 \r\nL 54.296875 0 \r\nL 45.3125 0 \r\nL 45.3125 8.40625 \r\nQ 42.046875 3.421875 37.71875 1 \r\nQ 33.40625 -1.421875 27.6875 -1.421875 \r\nQ 18.265625 -1.421875 13.375 4.4375 \r\nQ 8.5 10.296875 8.5 21.578125 \r\nz\r\nM 31.109375 56 \r\nz\r\n\" id=\"DejaVuSans-117\"/>\r\n      <path id=\"DejaVuSans-32\"/>\r\n      <path d=\"M 9.8125 72.90625 \r\nL 19.671875 72.90625 \r\nL 19.671875 8.296875 \r\nL 55.171875 8.296875 \r\nL 55.171875 0 \r\nL 9.8125 0 \r\nz\r\n\" id=\"DejaVuSans-76\"/>\r\n      <path d=\"M 48.6875 27.296875 \r\nQ 48.6875 37.203125 44.609375 42.84375 \r\nQ 40.53125 48.484375 33.40625 48.484375 \r\nQ 26.265625 48.484375 22.1875 42.84375 \r\nQ 18.109375 37.203125 18.109375 27.296875 \r\nQ 18.109375 17.390625 22.1875 11.75 \r\nQ 26.265625 6.109375 33.40625 6.109375 \r\nQ 40.53125 6.109375 44.609375 11.75 \r\nQ 48.6875 17.390625 48.6875 27.296875 \r\nz\r\nM 18.109375 46.390625 \r\nQ 20.953125 51.265625 25.265625 53.625 \r\nQ 29.59375 56 35.59375 56 \r\nQ 45.5625 56 51.78125 48.09375 \r\nQ 58.015625 40.1875 58.015625 27.296875 \r\nQ 58.015625 14.40625 51.78125 6.484375 \r\nQ 45.5625 -1.421875 35.59375 -1.421875 \r\nQ 29.59375 -1.421875 25.265625 0.953125 \r\nQ 20.953125 3.328125 18.109375 8.203125 \r\nL 18.109375 0 \r\nL 9.078125 0 \r\nL 9.078125 75.984375 \r\nL 18.109375 75.984375 \r\nz\r\n\" id=\"DejaVuSans-98\"/>\r\n      <path d=\"M 9.421875 75.984375 \r\nL 18.40625 75.984375 \r\nL 18.40625 0 \r\nL 9.421875 0 \r\nz\r\n\" id=\"DejaVuSans-108\"/>\r\n     </defs>\r\n     <g transform=\"translate(159.288281 283.994688)scale(0.1 -0.1)\">\r\n      <use xlink:href=\"#DejaVuSans-84\"/>\r\n      <use x=\"60.865234\" xlink:href=\"#DejaVuSans-114\"/>\r\n      <use x=\"101.978516\" xlink:href=\"#DejaVuSans-117\"/>\r\n      <use x=\"165.357422\" xlink:href=\"#DejaVuSans-101\"/>\r\n      <use x=\"226.880859\" xlink:href=\"#DejaVuSans-32\"/>\r\n      <use x=\"258.667969\" xlink:href=\"#DejaVuSans-76\"/>\r\n      <use x=\"314.380859\" xlink:href=\"#DejaVuSans-97\"/>\r\n      <use x=\"375.660156\" xlink:href=\"#DejaVuSans-98\"/>\r\n      <use x=\"439.136719\" xlink:href=\"#DejaVuSans-101\"/>\r\n      <use x=\"500.660156\" xlink:href=\"#DejaVuSans-108\"/>\r\n      <use x=\"528.443359\" xlink:href=\"#DejaVuSans-115\"/>\r\n     </g>\r\n    </g>\r\n   </g>\r\n   <g id=\"matplotlib.axis_2\">\r\n    <g id=\"ytick_1\">\r\n     <g id=\"line2d_3\">\r\n      <defs>\r\n       <path d=\"M 0 0 \r\nL -3.5 0 \r\n\" id=\"m880646fbf8\" style=\"stroke:#000000;stroke-width:0.8;\"/>\r\n      </defs>\r\n      <g>\r\n       <use style=\"stroke:#000000;stroke-width:0.8;\" x=\"71.615625\" xlink:href=\"#m880646fbf8\" y=\"80.668125\"/>\r\n      </g>\r\n     </g>\r\n     <g id=\"text_4\">\r\n      <!-- positive -->\r\n      <g transform=\"translate(25.390625 84.467344)scale(0.1 -0.1)\">\r\n       <use xlink:href=\"#DejaVuSans-112\"/>\r\n       <use x=\"63.476562\" xlink:href=\"#DejaVuSans-111\"/>\r\n       <use x=\"124.658203\" xlink:href=\"#DejaVuSans-115\"/>\r\n       <use x=\"176.757812\" xlink:href=\"#DejaVuSans-105\"/>\r\n       <use x=\"204.541016\" xlink:href=\"#DejaVuSans-116\"/>\r\n       <use x=\"243.75\" xlink:href=\"#DejaVuSans-105\"/>\r\n       <use x=\"271.533203\" xlink:href=\"#DejaVuSans-118\"/>\r\n       <use x=\"330.712891\" xlink:href=\"#DejaVuSans-101\"/>\r\n      </g>\r\n     </g>\r\n    </g>\r\n    <g id=\"ytick_2\">\r\n     <g id=\"line2d_4\">\r\n      <g>\r\n       <use style=\"stroke:#000000;stroke-width:0.8;\" x=\"71.615625\" xlink:href=\"#m880646fbf8\" y=\"197.368125\"/>\r\n      </g>\r\n     </g>\r\n     <g id=\"text_5\">\r\n      <!-- negative -->\r\n      <g transform=\"translate(20.878125 201.167344)scale(0.1 -0.1)\">\r\n       <use xlink:href=\"#DejaVuSans-110\"/>\r\n       <use x=\"63.378906\" xlink:href=\"#DejaVuSans-101\"/>\r\n       <use x=\"124.902344\" xlink:href=\"#DejaVuSans-103\"/>\r\n       <use x=\"188.378906\" xlink:href=\"#DejaVuSans-97\"/>\r\n       <use x=\"249.658203\" xlink:href=\"#DejaVuSans-116\"/>\r\n       <use x=\"288.867188\" xlink:href=\"#DejaVuSans-105\"/>\r\n       <use x=\"316.650391\" xlink:href=\"#DejaVuSans-118\"/>\r\n       <use x=\"375.830078\" xlink:href=\"#DejaVuSans-101\"/>\r\n      </g>\r\n     </g>\r\n    </g>\r\n    <g id=\"text_6\">\r\n     <!-- Predicted Labels -->\r\n     <defs>\r\n      <path d=\"M 19.671875 64.796875 \r\nL 19.671875 37.40625 \r\nL 32.078125 37.40625 \r\nQ 38.96875 37.40625 42.71875 40.96875 \r\nQ 46.484375 44.53125 46.484375 51.125 \r\nQ 46.484375 57.671875 42.71875 61.234375 \r\nQ 38.96875 64.796875 32.078125 64.796875 \r\nz\r\nM 9.8125 72.90625 \r\nL 32.078125 72.90625 \r\nQ 44.34375 72.90625 50.609375 67.359375 \r\nQ 56.890625 61.8125 56.890625 51.125 \r\nQ 56.890625 40.328125 50.609375 34.8125 \r\nQ 44.34375 29.296875 32.078125 29.296875 \r\nL 19.671875 29.296875 \r\nL 19.671875 0 \r\nL 9.8125 0 \r\nz\r\n\" id=\"DejaVuSans-80\"/>\r\n      <path d=\"M 45.40625 46.390625 \r\nL 45.40625 75.984375 \r\nL 54.390625 75.984375 \r\nL 54.390625 0 \r\nL 45.40625 0 \r\nL 45.40625 8.203125 \r\nQ 42.578125 3.328125 38.25 0.953125 \r\nQ 33.9375 -1.421875 27.875 -1.421875 \r\nQ 17.96875 -1.421875 11.734375 6.484375 \r\nQ 5.515625 14.40625 5.515625 27.296875 \r\nQ 5.515625 40.1875 11.734375 48.09375 \r\nQ 17.96875 56 27.875 56 \r\nQ 33.9375 56 38.25 53.625 \r\nQ 42.578125 51.265625 45.40625 46.390625 \r\nz\r\nM 14.796875 27.296875 \r\nQ 14.796875 17.390625 18.875 11.75 \r\nQ 22.953125 6.109375 30.078125 6.109375 \r\nQ 37.203125 6.109375 41.296875 11.75 \r\nQ 45.40625 17.390625 45.40625 27.296875 \r\nQ 45.40625 37.203125 41.296875 42.84375 \r\nQ 37.203125 48.484375 30.078125 48.484375 \r\nQ 22.953125 48.484375 18.875 42.84375 \r\nQ 14.796875 37.203125 14.796875 27.296875 \r\nz\r\n\" id=\"DejaVuSans-100\"/>\r\n      <path d=\"M 48.78125 52.59375 \r\nL 48.78125 44.1875 \r\nQ 44.96875 46.296875 41.140625 47.34375 \r\nQ 37.3125 48.390625 33.40625 48.390625 \r\nQ 24.65625 48.390625 19.8125 42.84375 \r\nQ 14.984375 37.3125 14.984375 27.296875 \r\nQ 14.984375 17.28125 19.8125 11.734375 \r\nQ 24.65625 6.203125 33.40625 6.203125 \r\nQ 37.3125 6.203125 41.140625 7.25 \r\nQ 44.96875 8.296875 48.78125 10.40625 \r\nL 48.78125 2.09375 \r\nQ 45.015625 0.34375 40.984375 -0.53125 \r\nQ 36.96875 -1.421875 32.421875 -1.421875 \r\nQ 20.0625 -1.421875 12.78125 6.34375 \r\nQ 5.515625 14.109375 5.515625 27.296875 \r\nQ 5.515625 40.671875 12.859375 48.328125 \r\nQ 20.21875 56 33.015625 56 \r\nQ 37.15625 56 41.109375 55.140625 \r\nQ 45.0625 54.296875 48.78125 52.59375 \r\nz\r\n\" id=\"DejaVuSans-99\"/>\r\n     </defs>\r\n     <g transform=\"translate(14.798437 180.369688)rotate(-90)scale(0.1 -0.1)\">\r\n      <use xlink:href=\"#DejaVuSans-80\"/>\r\n      <use x=\"60.287109\" xlink:href=\"#DejaVuSans-114\"/>\r\n      <use x=\"101.369141\" xlink:href=\"#DejaVuSans-101\"/>\r\n      <use x=\"162.892578\" xlink:href=\"#DejaVuSans-100\"/>\r\n      <use x=\"226.369141\" xlink:href=\"#DejaVuSans-105\"/>\r\n      <use x=\"254.152344\" xlink:href=\"#DejaVuSans-99\"/>\r\n      <use x=\"309.132812\" xlink:href=\"#DejaVuSans-116\"/>\r\n      <use x=\"348.341797\" xlink:href=\"#DejaVuSans-101\"/>\r\n      <use x=\"409.865234\" xlink:href=\"#DejaVuSans-100\"/>\r\n      <use x=\"473.341797\" xlink:href=\"#DejaVuSans-32\"/>\r\n      <use x=\"505.128906\" xlink:href=\"#DejaVuSans-76\"/>\r\n      <use x=\"560.841797\" xlink:href=\"#DejaVuSans-97\"/>\r\n      <use x=\"622.121094\" xlink:href=\"#DejaVuSans-98\"/>\r\n      <use x=\"685.597656\" xlink:href=\"#DejaVuSans-101\"/>\r\n      <use x=\"747.121094\" xlink:href=\"#DejaVuSans-108\"/>\r\n      <use x=\"774.904297\" xlink:href=\"#DejaVuSans-115\"/>\r\n     </g>\r\n    </g>\r\n   </g>\r\n   <g id=\"patch_3\">\r\n    <path d=\"M 71.615625 255.718125 \r\nL 71.615625 22.318125 \r\n\" style=\"fill:none;stroke:#000000;stroke-linecap:square;stroke-linejoin:miter;stroke-width:0.8;\"/>\r\n   </g>\r\n   <g id=\"patch_4\">\r\n    <path d=\"M 305.015625 255.718125 \r\nL 305.015625 22.318125 \r\n\" style=\"fill:none;stroke:#000000;stroke-linecap:square;stroke-linejoin:miter;stroke-width:0.8;\"/>\r\n   </g>\r\n   <g id=\"patch_5\">\r\n    <path d=\"M 71.615625 255.718125 \r\nL 305.015625 255.718125 \r\n\" style=\"fill:none;stroke:#000000;stroke-linecap:square;stroke-linejoin:miter;stroke-width:0.8;\"/>\r\n   </g>\r\n   <g id=\"patch_6\">\r\n    <path d=\"M 71.615625 22.318125 \r\nL 305.015625 22.318125 \r\n\" style=\"fill:none;stroke:#000000;stroke-linecap:square;stroke-linejoin:miter;stroke-width:0.8;\"/>\r\n   </g>\r\n   <g id=\"text_7\">\r\n    <!-- Confusion Matrix -->\r\n    <defs>\r\n     <path d=\"M 64.40625 67.28125 \r\nL 64.40625 56.890625 \r\nQ 59.421875 61.53125 53.78125 63.8125 \r\nQ 48.140625 66.109375 41.796875 66.109375 \r\nQ 29.296875 66.109375 22.65625 58.46875 \r\nQ 16.015625 50.828125 16.015625 36.375 \r\nQ 16.015625 21.96875 22.65625 14.328125 \r\nQ 29.296875 6.6875 41.796875 6.6875 \r\nQ 48.140625 6.6875 53.78125 8.984375 \r\nQ 59.421875 11.28125 64.40625 15.921875 \r\nL 64.40625 5.609375 \r\nQ 59.234375 2.09375 53.4375 0.328125 \r\nQ 47.65625 -1.421875 41.21875 -1.421875 \r\nQ 24.65625 -1.421875 15.125 8.703125 \r\nQ 5.609375 18.84375 5.609375 36.375 \r\nQ 5.609375 53.953125 15.125 64.078125 \r\nQ 24.65625 74.21875 41.21875 74.21875 \r\nQ 47.75 74.21875 53.53125 72.484375 \r\nQ 59.328125 70.75 64.40625 67.28125 \r\nz\r\n\" id=\"DejaVuSans-67\"/>\r\n     <path d=\"M 37.109375 75.984375 \r\nL 37.109375 68.5 \r\nL 28.515625 68.5 \r\nQ 23.6875 68.5 21.796875 66.546875 \r\nQ 19.921875 64.59375 19.921875 59.515625 \r\nL 19.921875 54.6875 \r\nL 34.71875 54.6875 \r\nL 34.71875 47.703125 \r\nL 19.921875 47.703125 \r\nL 19.921875 0 \r\nL 10.890625 0 \r\nL 10.890625 47.703125 \r\nL 2.296875 47.703125 \r\nL 2.296875 54.6875 \r\nL 10.890625 54.6875 \r\nL 10.890625 58.5 \r\nQ 10.890625 67.625 15.140625 71.796875 \r\nQ 19.390625 75.984375 28.609375 75.984375 \r\nz\r\n\" id=\"DejaVuSans-102\"/>\r\n     <path d=\"M 9.8125 72.90625 \r\nL 24.515625 72.90625 \r\nL 43.109375 23.296875 \r\nL 61.8125 72.90625 \r\nL 76.515625 72.90625 \r\nL 76.515625 0 \r\nL 66.890625 0 \r\nL 66.890625 64.015625 \r\nL 48.09375 14.015625 \r\nL 38.1875 14.015625 \r\nL 19.390625 64.015625 \r\nL 19.390625 0 \r\nL 9.8125 0 \r\nz\r\n\" id=\"DejaVuSans-77\"/>\r\n     <path d=\"M 54.890625 54.6875 \r\nL 35.109375 28.078125 \r\nL 55.90625 0 \r\nL 45.3125 0 \r\nL 29.390625 21.484375 \r\nL 13.484375 0 \r\nL 2.875 0 \r\nL 24.125 28.609375 \r\nL 4.6875 54.6875 \r\nL 15.28125 54.6875 \r\nL 29.78125 35.203125 \r\nL 44.28125 54.6875 \r\nz\r\n\" id=\"DejaVuSans-120\"/>\r\n    </defs>\r\n    <g transform=\"translate(137.67375 16.318125)scale(0.12 -0.12)\">\r\n     <use xlink:href=\"#DejaVuSans-67\"/>\r\n     <use x=\"69.824219\" xlink:href=\"#DejaVuSans-111\"/>\r\n     <use x=\"131.005859\" xlink:href=\"#DejaVuSans-110\"/>\r\n     <use x=\"194.384766\" xlink:href=\"#DejaVuSans-102\"/>\r\n     <use x=\"229.589844\" xlink:href=\"#DejaVuSans-117\"/>\r\n     <use x=\"292.96875\" xlink:href=\"#DejaVuSans-115\"/>\r\n     <use x=\"345.068359\" xlink:href=\"#DejaVuSans-105\"/>\r\n     <use x=\"372.851562\" xlink:href=\"#DejaVuSans-111\"/>\r\n     <use x=\"434.033203\" xlink:href=\"#DejaVuSans-110\"/>\r\n     <use x=\"497.412109\" xlink:href=\"#DejaVuSans-32\"/>\r\n     <use x=\"529.199219\" xlink:href=\"#DejaVuSans-77\"/>\r\n     <use x=\"615.478516\" xlink:href=\"#DejaVuSans-97\"/>\r\n     <use x=\"676.757812\" xlink:href=\"#DejaVuSans-116\"/>\r\n     <use x=\"715.966797\" xlink:href=\"#DejaVuSans-114\"/>\r\n     <use x=\"757.080078\" xlink:href=\"#DejaVuSans-105\"/>\r\n     <use x=\"784.863281\" xlink:href=\"#DejaVuSans-120\"/>\r\n    </g>\r\n   </g>\r\n  </g>\r\n  <g id=\"axes_2\">\r\n   <g id=\"patch_7\">\r\n    <path clip-path=\"url(#p4c10d266d8)\" d=\"M 325.518125 255.718125 \r\nL 325.518125 254.806406 \r\nL 325.518125 23.229844 \r\nL 325.518125 22.318125 \r\nL 337.188125 22.318125 \r\nL 337.188125 23.229844 \r\nL 337.188125 254.806406 \r\nL 337.188125 255.718125 \r\nz\r\n\" style=\"fill:#ffffff;stroke:#ffffff;stroke-linejoin:miter;stroke-width:0.01;\"/>\r\n   </g>\r\n   <image height=\"233\" id=\"imagec4a7fd32d9\" transform=\"scale(1 -1)translate(0 -233)\" width=\"11\" x=\"326\" xlink:href=\"data:image/png;base64,\r\niVBORw0KGgoAAAANSUhEUgAAAAsAAADpCAYAAADyIM2vAAAABHNCSVQICAgIfAhkiAAAARdJREFUaIHtmEEKwzAMBNXi/z+3h0LiHpOjpzCwCs55WSZaSXby+nznrMVnzFrW1gDaGkBbY524akygNjFI6Yjze10aw0zrHIEB+zmCGTmXxnxqpUtZMpv5Jt5x38UdmeEJa2F0LF0Ks3btORteqLyNFMLMQkHOGdWIYSZiEsohjhXpOs3Zq7O5kVCCwFkcWBS3dtB7MxiyGA/AQZmBWDwHO3Zdy4EFYrbMQzDWjenKJTMo3p+9Rlo3NntDPOi9uNcpzOlOaaSUJYOY+/VzSChi3GzlRjBv57+de8YdggGcYZ0955DSaX9cxUbSxGKCu86XOOUFM+J+fp0bJlhMvP7l3dRZwziPCIzHO5NJEXuDxd2wztv5en48n/5RooIUWgAAAABJRU5ErkJggg==\" y=\"-22\"/>\r\n   <g id=\"matplotlib.axis_3\"/>\r\n   <g id=\"matplotlib.axis_4\">\r\n    <g id=\"ytick_3\">\r\n     <g id=\"line2d_5\">\r\n      <defs>\r\n       <path d=\"M 0 0 \r\nL 3.5 0 \r\n\" id=\"mc796116256\" style=\"stroke:#000000;stroke-width:0.8;\"/>\r\n      </defs>\r\n      <g>\r\n       <use style=\"stroke:#000000;stroke-width:0.8;\" x=\"337.188125\" xlink:href=\"#mc796116256\" y=\"239.804489\"/>\r\n      </g>\r\n     </g>\r\n     <g id=\"text_8\">\r\n      <!-- 20 -->\r\n      <defs>\r\n       <path d=\"M 19.1875 8.296875 \r\nL 53.609375 8.296875 \r\nL 53.609375 0 \r\nL 7.328125 0 \r\nL 7.328125 8.296875 \r\nQ 12.9375 14.109375 22.625 23.890625 \r\nQ 32.328125 33.6875 34.8125 36.53125 \r\nQ 39.546875 41.84375 41.421875 45.53125 \r\nQ 43.3125 49.21875 43.3125 52.78125 \r\nQ 43.3125 58.59375 39.234375 62.25 \r\nQ 35.15625 65.921875 28.609375 65.921875 \r\nQ 23.96875 65.921875 18.8125 64.3125 \r\nQ 13.671875 62.703125 7.8125 59.421875 \r\nL 7.8125 69.390625 \r\nQ 13.765625 71.78125 18.9375 73 \r\nQ 24.125 74.21875 28.421875 74.21875 \r\nQ 39.75 74.21875 46.484375 68.546875 \r\nQ 53.21875 62.890625 53.21875 53.421875 \r\nQ 53.21875 48.921875 51.53125 44.890625 \r\nQ 49.859375 40.875 45.40625 35.40625 \r\nQ 44.1875 33.984375 37.640625 27.21875 \r\nQ 31.109375 20.453125 19.1875 8.296875 \r\nz\r\n\" id=\"DejaVuSans-50\"/>\r\n       <path d=\"M 31.78125 66.40625 \r\nQ 24.171875 66.40625 20.328125 58.90625 \r\nQ 16.5 51.421875 16.5 36.375 \r\nQ 16.5 21.390625 20.328125 13.890625 \r\nQ 24.171875 6.390625 31.78125 6.390625 \r\nQ 39.453125 6.390625 43.28125 13.890625 \r\nQ 47.125 21.390625 47.125 36.375 \r\nQ 47.125 51.421875 43.28125 58.90625 \r\nQ 39.453125 66.40625 31.78125 66.40625 \r\nz\r\nM 31.78125 74.21875 \r\nQ 44.046875 74.21875 50.515625 64.515625 \r\nQ 56.984375 54.828125 56.984375 36.375 \r\nQ 56.984375 17.96875 50.515625 8.265625 \r\nQ 44.046875 -1.421875 31.78125 -1.421875 \r\nQ 19.53125 -1.421875 13.0625 8.265625 \r\nQ 6.59375 17.96875 6.59375 36.375 \r\nQ 6.59375 54.828125 13.0625 64.515625 \r\nQ 19.53125 74.21875 31.78125 74.21875 \r\nz\r\n\" id=\"DejaVuSans-48\"/>\r\n      </defs>\r\n      <g transform=\"translate(344.188125 243.603707)scale(0.1 -0.1)\">\r\n       <use xlink:href=\"#DejaVuSans-50\"/>\r\n       <use x=\"63.623047\" xlink:href=\"#DejaVuSans-48\"/>\r\n      </g>\r\n     </g>\r\n    </g>\r\n    <g id=\"ytick_4\">\r\n     <g id=\"line2d_6\">\r\n      <g>\r\n       <use style=\"stroke:#000000;stroke-width:0.8;\" x=\"337.188125\" xlink:href=\"#mc796116256\" y=\"213.281761\"/>\r\n      </g>\r\n     </g>\r\n     <g id=\"text_9\">\r\n      <!-- 40 -->\r\n      <defs>\r\n       <path d=\"M 37.796875 64.3125 \r\nL 12.890625 25.390625 \r\nL 37.796875 25.390625 \r\nz\r\nM 35.203125 72.90625 \r\nL 47.609375 72.90625 \r\nL 47.609375 25.390625 \r\nL 58.015625 25.390625 \r\nL 58.015625 17.1875 \r\nL 47.609375 17.1875 \r\nL 47.609375 0 \r\nL 37.796875 0 \r\nL 37.796875 17.1875 \r\nL 4.890625 17.1875 \r\nL 4.890625 26.703125 \r\nz\r\n\" id=\"DejaVuSans-52\"/>\r\n      </defs>\r\n      <g transform=\"translate(344.188125 217.08098)scale(0.1 -0.1)\">\r\n       <use xlink:href=\"#DejaVuSans-52\"/>\r\n       <use x=\"63.623047\" xlink:href=\"#DejaVuSans-48\"/>\r\n      </g>\r\n     </g>\r\n    </g>\r\n    <g id=\"ytick_5\">\r\n     <g id=\"line2d_7\">\r\n      <g>\r\n       <use style=\"stroke:#000000;stroke-width:0.8;\" x=\"337.188125\" xlink:href=\"#mc796116256\" y=\"186.759034\"/>\r\n      </g>\r\n     </g>\r\n     <g id=\"text_10\">\r\n      <!-- 60 -->\r\n      <defs>\r\n       <path d=\"M 33.015625 40.375 \r\nQ 26.375 40.375 22.484375 35.828125 \r\nQ 18.609375 31.296875 18.609375 23.390625 \r\nQ 18.609375 15.53125 22.484375 10.953125 \r\nQ 26.375 6.390625 33.015625 6.390625 \r\nQ 39.65625 6.390625 43.53125 10.953125 \r\nQ 47.40625 15.53125 47.40625 23.390625 \r\nQ 47.40625 31.296875 43.53125 35.828125 \r\nQ 39.65625 40.375 33.015625 40.375 \r\nz\r\nM 52.59375 71.296875 \r\nL 52.59375 62.3125 \r\nQ 48.875 64.0625 45.09375 64.984375 \r\nQ 41.3125 65.921875 37.59375 65.921875 \r\nQ 27.828125 65.921875 22.671875 59.328125 \r\nQ 17.53125 52.734375 16.796875 39.40625 \r\nQ 19.671875 43.65625 24.015625 45.921875 \r\nQ 28.375 48.1875 33.59375 48.1875 \r\nQ 44.578125 48.1875 50.953125 41.515625 \r\nQ 57.328125 34.859375 57.328125 23.390625 \r\nQ 57.328125 12.15625 50.6875 5.359375 \r\nQ 44.046875 -1.421875 33.015625 -1.421875 \r\nQ 20.359375 -1.421875 13.671875 8.265625 \r\nQ 6.984375 17.96875 6.984375 36.375 \r\nQ 6.984375 53.65625 15.1875 63.9375 \r\nQ 23.390625 74.21875 37.203125 74.21875 \r\nQ 40.921875 74.21875 44.703125 73.484375 \r\nQ 48.484375 72.75 52.59375 71.296875 \r\nz\r\n\" id=\"DejaVuSans-54\"/>\r\n      </defs>\r\n      <g transform=\"translate(344.188125 190.558253)scale(0.1 -0.1)\">\r\n       <use xlink:href=\"#DejaVuSans-54\"/>\r\n       <use x=\"63.623047\" xlink:href=\"#DejaVuSans-48\"/>\r\n      </g>\r\n     </g>\r\n    </g>\r\n    <g id=\"ytick_6\">\r\n     <g id=\"line2d_8\">\r\n      <g>\r\n       <use style=\"stroke:#000000;stroke-width:0.8;\" x=\"337.188125\" xlink:href=\"#mc796116256\" y=\"160.236307\"/>\r\n      </g>\r\n     </g>\r\n     <g id=\"text_11\">\r\n      <!-- 80 -->\r\n      <defs>\r\n       <path d=\"M 31.78125 34.625 \r\nQ 24.75 34.625 20.71875 30.859375 \r\nQ 16.703125 27.09375 16.703125 20.515625 \r\nQ 16.703125 13.921875 20.71875 10.15625 \r\nQ 24.75 6.390625 31.78125 6.390625 \r\nQ 38.8125 6.390625 42.859375 10.171875 \r\nQ 46.921875 13.96875 46.921875 20.515625 \r\nQ 46.921875 27.09375 42.890625 30.859375 \r\nQ 38.875 34.625 31.78125 34.625 \r\nz\r\nM 21.921875 38.8125 \r\nQ 15.578125 40.375 12.03125 44.71875 \r\nQ 8.5 49.078125 8.5 55.328125 \r\nQ 8.5 64.0625 14.71875 69.140625 \r\nQ 20.953125 74.21875 31.78125 74.21875 \r\nQ 42.671875 74.21875 48.875 69.140625 \r\nQ 55.078125 64.0625 55.078125 55.328125 \r\nQ 55.078125 49.078125 51.53125 44.71875 \r\nQ 48 40.375 41.703125 38.8125 \r\nQ 48.828125 37.15625 52.796875 32.3125 \r\nQ 56.78125 27.484375 56.78125 20.515625 \r\nQ 56.78125 9.90625 50.3125 4.234375 \r\nQ 43.84375 -1.421875 31.78125 -1.421875 \r\nQ 19.734375 -1.421875 13.25 4.234375 \r\nQ 6.78125 9.90625 6.78125 20.515625 \r\nQ 6.78125 27.484375 10.78125 32.3125 \r\nQ 14.796875 37.15625 21.921875 38.8125 \r\nz\r\nM 18.3125 54.390625 \r\nQ 18.3125 48.734375 21.84375 45.5625 \r\nQ 25.390625 42.390625 31.78125 42.390625 \r\nQ 38.140625 42.390625 41.71875 45.5625 \r\nQ 45.3125 48.734375 45.3125 54.390625 \r\nQ 45.3125 60.0625 41.71875 63.234375 \r\nQ 38.140625 66.40625 31.78125 66.40625 \r\nQ 25.390625 66.40625 21.84375 63.234375 \r\nQ 18.3125 60.0625 18.3125 54.390625 \r\nz\r\n\" id=\"DejaVuSans-56\"/>\r\n      </defs>\r\n      <g transform=\"translate(344.188125 164.035526)scale(0.1 -0.1)\">\r\n       <use xlink:href=\"#DejaVuSans-56\"/>\r\n       <use x=\"63.623047\" xlink:href=\"#DejaVuSans-48\"/>\r\n      </g>\r\n     </g>\r\n    </g>\r\n    <g id=\"ytick_7\">\r\n     <g id=\"line2d_9\">\r\n      <g>\r\n       <use style=\"stroke:#000000;stroke-width:0.8;\" x=\"337.188125\" xlink:href=\"#mc796116256\" y=\"133.71358\"/>\r\n      </g>\r\n     </g>\r\n     <g id=\"text_12\">\r\n      <!-- 100 -->\r\n      <defs>\r\n       <path d=\"M 12.40625 8.296875 \r\nL 28.515625 8.296875 \r\nL 28.515625 63.921875 \r\nL 10.984375 60.40625 \r\nL 10.984375 69.390625 \r\nL 28.421875 72.90625 \r\nL 38.28125 72.90625 \r\nL 38.28125 8.296875 \r\nL 54.390625 8.296875 \r\nL 54.390625 0 \r\nL 12.40625 0 \r\nz\r\n\" id=\"DejaVuSans-49\"/>\r\n      </defs>\r\n      <g transform=\"translate(344.188125 137.512798)scale(0.1 -0.1)\">\r\n       <use xlink:href=\"#DejaVuSans-49\"/>\r\n       <use x=\"63.623047\" xlink:href=\"#DejaVuSans-48\"/>\r\n       <use x=\"127.246094\" xlink:href=\"#DejaVuSans-48\"/>\r\n      </g>\r\n     </g>\r\n    </g>\r\n    <g id=\"ytick_8\">\r\n     <g id=\"line2d_10\">\r\n      <g>\r\n       <use style=\"stroke:#000000;stroke-width:0.8;\" x=\"337.188125\" xlink:href=\"#mc796116256\" y=\"107.190852\"/>\r\n      </g>\r\n     </g>\r\n     <g id=\"text_13\">\r\n      <!-- 120 -->\r\n      <g transform=\"translate(344.188125 110.990071)scale(0.1 -0.1)\">\r\n       <use xlink:href=\"#DejaVuSans-49\"/>\r\n       <use x=\"63.623047\" xlink:href=\"#DejaVuSans-50\"/>\r\n       <use x=\"127.246094\" xlink:href=\"#DejaVuSans-48\"/>\r\n      </g>\r\n     </g>\r\n    </g>\r\n    <g id=\"ytick_9\">\r\n     <g id=\"line2d_11\">\r\n      <g>\r\n       <use style=\"stroke:#000000;stroke-width:0.8;\" x=\"337.188125\" xlink:href=\"#mc796116256\" y=\"80.668125\"/>\r\n      </g>\r\n     </g>\r\n     <g id=\"text_14\">\r\n      <!-- 140 -->\r\n      <g transform=\"translate(344.188125 84.467344)scale(0.1 -0.1)\">\r\n       <use xlink:href=\"#DejaVuSans-49\"/>\r\n       <use x=\"63.623047\" xlink:href=\"#DejaVuSans-52\"/>\r\n       <use x=\"127.246094\" xlink:href=\"#DejaVuSans-48\"/>\r\n      </g>\r\n     </g>\r\n    </g>\r\n    <g id=\"ytick_10\">\r\n     <g id=\"line2d_12\">\r\n      <g>\r\n       <use style=\"stroke:#000000;stroke-width:0.8;\" x=\"337.188125\" xlink:href=\"#mc796116256\" y=\"54.145398\"/>\r\n      </g>\r\n     </g>\r\n     <g id=\"text_15\">\r\n      <!-- 160 -->\r\n      <g transform=\"translate(344.188125 57.944616)scale(0.1 -0.1)\">\r\n       <use xlink:href=\"#DejaVuSans-49\"/>\r\n       <use x=\"63.623047\" xlink:href=\"#DejaVuSans-54\"/>\r\n       <use x=\"127.246094\" xlink:href=\"#DejaVuSans-48\"/>\r\n      </g>\r\n     </g>\r\n    </g>\r\n    <g id=\"ytick_11\">\r\n     <g id=\"line2d_13\">\r\n      <g>\r\n       <use style=\"stroke:#000000;stroke-width:0.8;\" x=\"337.188125\" xlink:href=\"#mc796116256\" y=\"27.62267\"/>\r\n      </g>\r\n     </g>\r\n     <g id=\"text_16\">\r\n      <!-- 180 -->\r\n      <g transform=\"translate(344.188125 31.421889)scale(0.1 -0.1)\">\r\n       <use xlink:href=\"#DejaVuSans-49\"/>\r\n       <use x=\"63.623047\" xlink:href=\"#DejaVuSans-56\"/>\r\n       <use x=\"127.246094\" xlink:href=\"#DejaVuSans-48\"/>\r\n      </g>\r\n     </g>\r\n    </g>\r\n   </g>\r\n   <g id=\"patch_8\">\r\n    <path d=\"M 325.518125 255.718125 \r\nL 325.518125 254.806406 \r\nL 325.518125 23.229844 \r\nL 325.518125 22.318125 \r\nL 337.188125 22.318125 \r\nL 337.188125 23.229844 \r\nL 337.188125 254.806406 \r\nL 337.188125 255.718125 \r\nz\r\n\" style=\"fill:none;stroke:#000000;stroke-linejoin:miter;stroke-width:0.8;\"/>\r\n   </g>\r\n  </g>\r\n </g>\r\n <defs>\r\n  <clipPath id=\"p729ed2062c\">\r\n   <rect height=\"233.4\" width=\"233.4\" x=\"71.615625\" y=\"22.318125\"/>\r\n  </clipPath>\r\n  <clipPath id=\"p4c10d266d8\">\r\n   <rect height=\"233.4\" width=\"11.67\" x=\"325.518125\" y=\"22.318125\"/>\r\n  </clipPath>\r\n </defs>\r\n</svg>\r\n",
      "image/png": "[encoded data removed]"
     },
     "metadata": {
      "needs_background": "light"
     }
    }
   ],
   "source": [
    "plt.imshow(cm,cmap=plt.cm.Blues)\n",
    "plt.title('Confusion Matrix')\n",
    "plt.colorbar()\n",
    "labels=['positive','negative']\n",
    "tick_marks=np.arange(len(labels))\n",
    "plt.xticks(tick_marks,labels)\n",
    "plt.yticks(tick_marks,labels)\n",
    "plt.tight_layout()\n",
    "plt.xlabel('True Labels')\n",
    "plt.ylabel('Predicted Labels')"
   ]
  },
  {
   "cell_type": "code",
   "execution_count": 52,
   "metadata": {},
   "outputs": [],
   "source": [
    "from sklearn.metrics import classification_report,accuracy_score"
   ]
  },
  {
   "cell_type": "code",
   "execution_count": 53,
   "metadata": {},
   "outputs": [
    {
     "output_type": "execute_result",
     "data": {
      "text/plain": [
       "0.8492063492063492"
      ]
     },
     "metadata": {},
     "execution_count": 53
    }
   ],
   "source": [
    "accuracy_score(test['Label'],predict)"
   ]
  },
  {
   "cell_type": "code",
   "execution_count": 54,
   "metadata": {},
   "outputs": [
    {
     "output_type": "stream",
     "name": "stdout",
     "text": [
      "              precision    recall  f1-score   support\n\n           0       0.94      0.74      0.83       186\n           1       0.79      0.96      0.87       192\n\n   micro avg       0.85      0.85      0.85       378\n   macro avg       0.87      0.85      0.85       378\nweighted avg       0.87      0.85      0.85       378\n\n"
     ]
    }
   ],
   "source": [
    "report=classification_report(test['Label'],predict)\n",
    "print(report)"
   ]
  },
  {
   "cell_type": "code",
   "execution_count": 55,
   "metadata": {},
   "outputs": [],
   "source": [
    "from sklearn.naive_bayes import MultinomialNB"
   ]
  },
  {
   "cell_type": "code",
   "execution_count": 56,
   "metadata": {},
   "outputs": [],
   "source": [
    "nb=MultinomialNB()"
   ]
  },
  {
   "cell_type": "code",
   "execution_count": 57,
   "metadata": {},
   "outputs": [
    {
     "output_type": "execute_result",
     "data": {
      "text/plain": [
       "MultinomialNB(alpha=1.0, class_prior=None, fit_prior=True)"
      ]
     },
     "metadata": {},
     "execution_count": 57
    }
   ],
   "source": [
    "nb.fit(traindata_x,train['Label'])"
   ]
  },
  {
   "cell_type": "code",
   "execution_count": 58,
   "metadata": {},
   "outputs": [
    {
     "output_type": "execute_result",
     "data": {
      "text/plain": [
       "array([1, 0, 0, 1, 1, 0, 0, 0, 0, 0, 1, 1, 1, 1, 0, 1, 0, 0, 1, 0, 1, 1,\n",
       "       1, 1, 0, 0, 1, 0, 1, 1, 1, 0, 0, 1, 0, 1, 1, 0, 0, 1, 0, 0, 1, 0,\n",
       "       1, 0, 0, 1, 0, 1, 0, 1, 0, 1, 0, 0, 0, 0, 1, 1, 0, 0, 1, 1, 0, 1,\n",
       "       1, 1, 0, 1, 1, 0, 0, 1, 0, 1, 1, 1, 0, 1, 0, 0, 1, 1, 0, 0, 1, 1,\n",
       "       0, 0, 0, 1, 1, 1, 1, 0, 1, 0, 0, 1, 0, 0, 1, 0, 1, 0, 0, 0, 0, 1,\n",
       "       1, 0, 0, 1, 1, 1, 0, 1, 1, 0, 0, 1, 0, 1, 1, 0, 0, 1, 0, 1, 1, 1,\n",
       "       1, 0, 1, 0, 1, 0, 0, 0, 0, 0, 1, 1, 0, 0, 0, 0, 0, 0, 0, 1, 0, 0,\n",
       "       1, 1, 1, 0, 0, 0, 0, 0, 0, 1, 1, 0, 0, 0, 1, 1, 0, 1, 0, 1, 1, 0,\n",
       "       1, 1, 0, 0, 1, 0, 0, 0, 1, 0, 1, 1, 0, 1, 1, 1, 1, 1, 1, 1, 0, 0,\n",
       "       1, 1, 1, 0, 0, 1, 1, 0, 0, 1, 0, 0, 1, 1, 0, 0, 1, 0, 1, 0, 0, 0,\n",
       "       1, 1, 1, 0, 1, 0, 1, 1, 0, 0, 1, 0, 0, 1, 0, 0, 0, 1, 0, 1, 1, 1,\n",
       "       0, 0, 1, 1, 1, 0, 0, 1, 0, 0, 1, 1, 1, 1, 1, 1, 1, 1, 1, 1, 0, 1,\n",
       "       1, 1, 0, 1, 1, 1, 1, 1, 1, 1, 1, 1, 1, 0, 1, 1, 1, 1, 1, 1, 1, 1,\n",
       "       1, 1, 1, 1, 1, 1, 1, 1, 1, 1, 1, 1, 1, 1, 1, 1, 1, 0, 1, 1, 1, 1,\n",
       "       1, 1, 1, 1, 1, 0, 1, 1, 1, 0, 1, 0, 1, 0, 1, 1, 1, 0, 1, 1, 1, 1,\n",
       "       1, 1, 1, 1, 0, 1, 1, 1, 1, 0, 1, 1, 1, 1, 1, 0, 1, 1, 1, 0, 1, 1,\n",
       "       1, 1, 1, 1, 0, 1, 1, 1, 1, 1, 1, 1, 1, 1, 0, 1, 1, 1, 1, 0, 1, 1,\n",
       "       1, 1, 1, 1], dtype=int64)"
      ]
     },
     "metadata": {},
     "execution_count": 58
    }
   ],
   "source": [
    "predict=nb.predict(test_data)\n",
    "predict"
   ]
  },
  {
   "cell_type": "code",
   "execution_count": 60,
   "metadata": {},
   "outputs": [
    {
     "output_type": "execute_result",
     "data": {
      "text/plain": [
       "array([[137,  49],\n",
       "       [  9, 183]], dtype=int64)"
      ]
     },
     "metadata": {},
     "execution_count": 60
    }
   ],
   "source": [
    "cm2=confusion_matrix(test['Label'],predict)\n",
    "cm2"
   ]
  },
  {
   "cell_type": "code",
   "execution_count": 61,
   "metadata": {},
   "outputs": [],
   "source": [
    "def plot_confusionmatrix(cm,title='Confusion Matrix'):\n",
    "    plt.imshow(cm,cmap=plt.cm.Blues)\n",
    "    plt.title(title)\n",
    "    plt.colorbar()\n",
    "    labels=['positive','negative']\n",
    "    tick_marks=np.arange(len(labels))\n",
    "    plt.xticks(tick_marks,labels)\n",
    "    plt.yticks(tick_marks,labels)\n",
    "    plt.tight_layout()\n",
    "    plt.xlabel('True Labels')\n",
    "    plt.ylabel('Predicted Labels')"
   ]
  },
  {
   "cell_type": "code",
   "execution_count": 62,
   "metadata": {},
   "outputs": [
    {
     "output_type": "display_data",
     "data": {
      "text/plain": "<Figure size 432x288 with 2 Axes>",
      "image/svg+xml": "<?xml version=\"1.0\" encoding=\"utf-8\" standalone=\"no\"?>\r\n<!DOCTYPE svg PUBLIC \"-//W3C//DTD SVG 1.1//EN\"\r\n  \"http://www.w3.org/Graphics/SVG/1.1/DTD/svg11.dtd\">\r\n<!-- Created with matplotlib (https://matplotlib.org/) -->\r\n<svg height=\"293.274375pt\" version=\"1.1\" viewBox=\"0 0 370.475625 293.274375\" width=\"370.475625pt\" xmlns=\"http://www.w3.org/2000/svg\" xmlns:xlink=\"http://www.w3.org/1999/xlink\">\r\n <defs>\r\n  <style type=\"text/css\">\r\n*{stroke-linecap:butt;stroke-linejoin:round;}\r\n  </style>\r\n </defs>\r\n <g id=\"figure_1\">\r\n  <g id=\"patch_1\">\r\n   <path d=\"M 0 293.274375 \r\nL 370.475625 293.274375 \r\nL 370.475625 0 \r\nL 0 0 \r\nz\r\n\" style=\"fill:none;\"/>\r\n  </g>\r\n  <g id=\"axes_1\">\r\n   <g id=\"patch_2\">\r\n    <path d=\"M 71.615625 255.718125 \r\nL 305.015625 255.718125 \r\nL 305.015625 22.318125 \r\nL 71.615625 22.318125 \r\nz\r\n\" style=\"fill:#ffffff;\"/>\r\n   </g>\r\n   <g clip-path=\"url(#p8aca87d503)\">\r\n    <image height=\"234\" id=\"image3ed6aad0f2\" transform=\"scale(1 -1)translate(0 -234)\" width=\"234\" x=\"71.615625\" xlink:href=\"data:image/png;base64,\r\niVBORw0KGgoAAAANSUhEUgAAAOoAAADqCAYAAACslNlOAAAABHNCSVQICAgIfAhkiAAAAuRJREFUeJzt1TENAkEARFEOB3jAAg2OSChPExKwRkGxSLhmk80n7ymY5me2z3eME3/lcnuunsBk59UDgGNChQChQoBQIUCoECBUCBAqBAgVAoQKAUKFAKFCgFAhQKgQIFQIECoECBUChAoBQoUAoUKAUCFAqBAgVAgQKgQIFQKECgFChQChQoBQIUCoECBUCBAqBAgVAoQKAUKFAKFCgFAhQKgQIFQIECoECBUChAoBQoUAoUKAUCFAqBAgVAgQKgQIFQKECgFChQChQoBQIUCoECBUCBAqBAgVAoQKAUKFAKFCgFAhQKgQIFQIECoECBUChAoBQoUAoUKAUCFAqBAgVAgQKgQIFQKECgFChQChQoBQIUCoECBUCBAqBAgVAoQKAUKFAKFCgFAhQKgQIFQIECoECBUChAoBQoUAoUKAUCFAqBAgVAgQKgQIFQKECgFChQChQoBQIUCoECBUCBAqBAgVAoQKAUKFAKFCgFAhQKgQIFQIECoECBUChAoBQoUAoUKAUCFgu+7vsXoEc70e99UTmMyjQoBQIUCoECBUCBAqBAgVAoQKAUKFAKFCgFAhQKgQIFQIECoECBUChAoBQoUAoUKAUCFAqBAgVAgQKgQIFQKECgFChQChQoBQIUCoECBUCBAqBAgVAoQKAUKFAKFCgFAhQKgQIFQIECoECBUChAoBQoUAoUKAUCFAqBAgVAgQKgQIFQKECgFChQChQoBQIUCoECBUCBAqBAgVAoQKAUKFAKFCgFAhQKgQIFQIECoECBUChAoBQoUAoUKAUCFAqBAgVAgQKgQIFQKECgFChQChQoBQIUCoECBUCBAqBAgVAoQKAUKFAKFCgFAhQKgQIFQIECoECBUChAoBQoUAoUKAUCFAqBAgVAgQKgQIFQKECgFChQChQoBQIUCoECBUCBAqBAgVAoQKAUKFAKFCgFAhQKgQIFQIECoECBUChAoBQoUAoUKAUCFAqBAgVAj4AdAlCgt6qyMIAAAAAElFTkSuQmCC\" y=\"-21.718125\"/>\r\n   </g>\r\n   <g id=\"matplotlib.axis_1\">\r\n    <g id=\"xtick_1\">\r\n     <g id=\"line2d_1\">\r\n      <defs>\r\n       <path d=\"M 0 0 \r\nL 0 3.5 \r\n\" id=\"md230d64b02\" style=\"stroke:#000000;stroke-width:0.8;\"/>\r\n      </defs>\r\n      <g>\r\n       <use style=\"stroke:#000000;stroke-width:0.8;\" x=\"129.965625\" xlink:href=\"#md230d64b02\" y=\"255.718125\"/>\r\n      </g>\r\n     </g>\r\n     <g id=\"text_1\">\r\n      <!-- positive -->\r\n      <defs>\r\n       <path d=\"M 18.109375 8.203125 \r\nL 18.109375 -20.796875 \r\nL 9.078125 -20.796875 \r\nL 9.078125 54.6875 \r\nL 18.109375 54.6875 \r\nL 18.109375 46.390625 \r\nQ 20.953125 51.265625 25.265625 53.625 \r\nQ 29.59375 56 35.59375 56 \r\nQ 45.5625 56 51.78125 48.09375 \r\nQ 58.015625 40.1875 58.015625 27.296875 \r\nQ 58.015625 14.40625 51.78125 6.484375 \r\nQ 45.5625 -1.421875 35.59375 -1.421875 \r\nQ 29.59375 -1.421875 25.265625 0.953125 \r\nQ 20.953125 3.328125 18.109375 8.203125 \r\nz\r\nM 48.6875 27.296875 \r\nQ 48.6875 37.203125 44.609375 42.84375 \r\nQ 40.53125 48.484375 33.40625 48.484375 \r\nQ 26.265625 48.484375 22.1875 42.84375 \r\nQ 18.109375 37.203125 18.109375 27.296875 \r\nQ 18.109375 17.390625 22.1875 11.75 \r\nQ 26.265625 6.109375 33.40625 6.109375 \r\nQ 40.53125 6.109375 44.609375 11.75 \r\nQ 48.6875 17.390625 48.6875 27.296875 \r\nz\r\n\" id=\"DejaVuSans-112\"/>\r\n       <path d=\"M 30.609375 48.390625 \r\nQ 23.390625 48.390625 19.1875 42.75 \r\nQ 14.984375 37.109375 14.984375 27.296875 \r\nQ 14.984375 17.484375 19.15625 11.84375 \r\nQ 23.34375 6.203125 30.609375 6.203125 \r\nQ 37.796875 6.203125 41.984375 11.859375 \r\nQ 46.1875 17.53125 46.1875 27.296875 \r\nQ 46.1875 37.015625 41.984375 42.703125 \r\nQ 37.796875 48.390625 30.609375 48.390625 \r\nz\r\nM 30.609375 56 \r\nQ 42.328125 56 49.015625 48.375 \r\nQ 55.71875 40.765625 55.71875 27.296875 \r\nQ 55.71875 13.875 49.015625 6.21875 \r\nQ 42.328125 -1.421875 30.609375 -1.421875 \r\nQ 18.84375 -1.421875 12.171875 6.21875 \r\nQ 5.515625 13.875 5.515625 27.296875 \r\nQ 5.515625 40.765625 12.171875 48.375 \r\nQ 18.84375 56 30.609375 56 \r\nz\r\n\" id=\"DejaVuSans-111\"/>\r\n       <path d=\"M 44.28125 53.078125 \r\nL 44.28125 44.578125 \r\nQ 40.484375 46.53125 36.375 47.5 \r\nQ 32.28125 48.484375 27.875 48.484375 \r\nQ 21.1875 48.484375 17.84375 46.4375 \r\nQ 14.5 44.390625 14.5 40.28125 \r\nQ 14.5 37.15625 16.890625 35.375 \r\nQ 19.28125 33.59375 26.515625 31.984375 \r\nL 29.59375 31.296875 \r\nQ 39.15625 29.25 43.1875 25.515625 \r\nQ 47.21875 21.78125 47.21875 15.09375 \r\nQ 47.21875 7.46875 41.1875 3.015625 \r\nQ 35.15625 -1.421875 24.609375 -1.421875 \r\nQ 20.21875 -1.421875 15.453125 -0.5625 \r\nQ 10.6875 0.296875 5.421875 2 \r\nL 5.421875 11.28125 \r\nQ 10.40625 8.6875 15.234375 7.390625 \r\nQ 20.0625 6.109375 24.8125 6.109375 \r\nQ 31.15625 6.109375 34.5625 8.28125 \r\nQ 37.984375 10.453125 37.984375 14.40625 \r\nQ 37.984375 18.0625 35.515625 20.015625 \r\nQ 33.0625 21.96875 24.703125 23.78125 \r\nL 21.578125 24.515625 \r\nQ 13.234375 26.265625 9.515625 29.90625 \r\nQ 5.8125 33.546875 5.8125 39.890625 \r\nQ 5.8125 47.609375 11.28125 51.796875 \r\nQ 16.75 56 26.8125 56 \r\nQ 31.78125 56 36.171875 55.265625 \r\nQ 40.578125 54.546875 44.28125 53.078125 \r\nz\r\n\" id=\"DejaVuSans-115\"/>\r\n       <path d=\"M 9.421875 54.6875 \r\nL 18.40625 54.6875 \r\nL 18.40625 0 \r\nL 9.421875 0 \r\nz\r\nM 9.421875 75.984375 \r\nL 18.40625 75.984375 \r\nL 18.40625 64.59375 \r\nL 9.421875 64.59375 \r\nz\r\n\" id=\"DejaVuSans-105\"/>\r\n       <path d=\"M 18.3125 70.21875 \r\nL 18.3125 54.6875 \r\nL 36.8125 54.6875 \r\nL 36.8125 47.703125 \r\nL 18.3125 47.703125 \r\nL 18.3125 18.015625 \r\nQ 18.3125 11.328125 20.140625 9.421875 \r\nQ 21.96875 7.515625 27.59375 7.515625 \r\nL 36.8125 7.515625 \r\nL 36.8125 0 \r\nL 27.59375 0 \r\nQ 17.1875 0 13.234375 3.875 \r\nQ 9.28125 7.765625 9.28125 18.015625 \r\nL 9.28125 47.703125 \r\nL 2.6875 47.703125 \r\nL 2.6875 54.6875 \r\nL 9.28125 54.6875 \r\nL 9.28125 70.21875 \r\nz\r\n\" id=\"DejaVuSans-116\"/>\r\n       <path d=\"M 2.984375 54.6875 \r\nL 12.5 54.6875 \r\nL 29.59375 8.796875 \r\nL 46.6875 54.6875 \r\nL 56.203125 54.6875 \r\nL 35.6875 0 \r\nL 23.484375 0 \r\nz\r\n\" id=\"DejaVuSans-118\"/>\r\n       <path d=\"M 56.203125 29.59375 \r\nL 56.203125 25.203125 \r\nL 14.890625 25.203125 \r\nQ 15.484375 15.921875 20.484375 11.0625 \r\nQ 25.484375 6.203125 34.421875 6.203125 \r\nQ 39.59375 6.203125 44.453125 7.46875 \r\nQ 49.3125 8.734375 54.109375 11.28125 \r\nL 54.109375 2.78125 \r\nQ 49.265625 0.734375 44.1875 -0.34375 \r\nQ 39.109375 -1.421875 33.890625 -1.421875 \r\nQ 20.796875 -1.421875 13.15625 6.1875 \r\nQ 5.515625 13.8125 5.515625 26.8125 \r\nQ 5.515625 40.234375 12.765625 48.109375 \r\nQ 20.015625 56 32.328125 56 \r\nQ 43.359375 56 49.78125 48.890625 \r\nQ 56.203125 41.796875 56.203125 29.59375 \r\nz\r\nM 47.21875 32.234375 \r\nQ 47.125 39.59375 43.09375 43.984375 \r\nQ 39.0625 48.390625 32.421875 48.390625 \r\nQ 24.90625 48.390625 20.390625 44.140625 \r\nQ 15.875 39.890625 15.1875 32.171875 \r\nz\r\n\" id=\"DejaVuSans-101\"/>\r\n      </defs>\r\n      <g transform=\"translate(110.353125 270.316563)scale(0.1 -0.1)\">\r\n       <use xlink:href=\"#DejaVuSans-112\"/>\r\n       <use x=\"63.476562\" xlink:href=\"#DejaVuSans-111\"/>\r\n       <use x=\"124.658203\" xlink:href=\"#DejaVuSans-115\"/>\r\n       <use x=\"176.757812\" xlink:href=\"#DejaVuSans-105\"/>\r\n       <use x=\"204.541016\" xlink:href=\"#DejaVuSans-116\"/>\r\n       <use x=\"243.75\" xlink:href=\"#DejaVuSans-105\"/>\r\n       <use x=\"271.533203\" xlink:href=\"#DejaVuSans-118\"/>\r\n       <use x=\"330.712891\" xlink:href=\"#DejaVuSans-101\"/>\r\n      </g>\r\n     </g>\r\n    </g>\r\n    <g id=\"xtick_2\">\r\n     <g id=\"line2d_2\">\r\n      <g>\r\n       <use style=\"stroke:#000000;stroke-width:0.8;\" x=\"246.665625\" xlink:href=\"#md230d64b02\" y=\"255.718125\"/>\r\n      </g>\r\n     </g>\r\n     <g id=\"text_2\">\r\n      <!-- negative -->\r\n      <defs>\r\n       <path d=\"M 54.890625 33.015625 \r\nL 54.890625 0 \r\nL 45.90625 0 \r\nL 45.90625 32.71875 \r\nQ 45.90625 40.484375 42.875 44.328125 \r\nQ 39.84375 48.1875 33.796875 48.1875 \r\nQ 26.515625 48.1875 22.3125 43.546875 \r\nQ 18.109375 38.921875 18.109375 30.90625 \r\nL 18.109375 0 \r\nL 9.078125 0 \r\nL 9.078125 54.6875 \r\nL 18.109375 54.6875 \r\nL 18.109375 46.1875 \r\nQ 21.34375 51.125 25.703125 53.5625 \r\nQ 30.078125 56 35.796875 56 \r\nQ 45.21875 56 50.046875 50.171875 \r\nQ 54.890625 44.34375 54.890625 33.015625 \r\nz\r\n\" id=\"DejaVuSans-110\"/>\r\n       <path d=\"M 45.40625 27.984375 \r\nQ 45.40625 37.75 41.375 43.109375 \r\nQ 37.359375 48.484375 30.078125 48.484375 \r\nQ 22.859375 48.484375 18.828125 43.109375 \r\nQ 14.796875 37.75 14.796875 27.984375 \r\nQ 14.796875 18.265625 18.828125 12.890625 \r\nQ 22.859375 7.515625 30.078125 7.515625 \r\nQ 37.359375 7.515625 41.375 12.890625 \r\nQ 45.40625 18.265625 45.40625 27.984375 \r\nz\r\nM 54.390625 6.78125 \r\nQ 54.390625 -7.171875 48.1875 -13.984375 \r\nQ 42 -20.796875 29.203125 -20.796875 \r\nQ 24.46875 -20.796875 20.265625 -20.09375 \r\nQ 16.0625 -19.390625 12.109375 -17.921875 \r\nL 12.109375 -9.1875 \r\nQ 16.0625 -11.328125 19.921875 -12.34375 \r\nQ 23.78125 -13.375 27.78125 -13.375 \r\nQ 36.625 -13.375 41.015625 -8.765625 \r\nQ 45.40625 -4.15625 45.40625 5.171875 \r\nL 45.40625 9.625 \r\nQ 42.625 4.78125 38.28125 2.390625 \r\nQ 33.9375 0 27.875 0 \r\nQ 17.828125 0 11.671875 7.65625 \r\nQ 5.515625 15.328125 5.515625 27.984375 \r\nQ 5.515625 40.671875 11.671875 48.328125 \r\nQ 17.828125 56 27.875 56 \r\nQ 33.9375 56 38.28125 53.609375 \r\nQ 42.625 51.21875 45.40625 46.390625 \r\nL 45.40625 54.6875 \r\nL 54.390625 54.6875 \r\nz\r\n\" id=\"DejaVuSans-103\"/>\r\n       <path d=\"M 34.28125 27.484375 \r\nQ 23.390625 27.484375 19.1875 25 \r\nQ 14.984375 22.515625 14.984375 16.5 \r\nQ 14.984375 11.71875 18.140625 8.90625 \r\nQ 21.296875 6.109375 26.703125 6.109375 \r\nQ 34.1875 6.109375 38.703125 11.40625 \r\nQ 43.21875 16.703125 43.21875 25.484375 \r\nL 43.21875 27.484375 \r\nz\r\nM 52.203125 31.203125 \r\nL 52.203125 0 \r\nL 43.21875 0 \r\nL 43.21875 8.296875 \r\nQ 40.140625 3.328125 35.546875 0.953125 \r\nQ 30.953125 -1.421875 24.3125 -1.421875 \r\nQ 15.921875 -1.421875 10.953125 3.296875 \r\nQ 6 8.015625 6 15.921875 \r\nQ 6 25.140625 12.171875 29.828125 \r\nQ 18.359375 34.515625 30.609375 34.515625 \r\nL 43.21875 34.515625 \r\nL 43.21875 35.40625 \r\nQ 43.21875 41.609375 39.140625 45 \r\nQ 35.0625 48.390625 27.6875 48.390625 \r\nQ 23 48.390625 18.546875 47.265625 \r\nQ 14.109375 46.140625 10.015625 43.890625 \r\nL 10.015625 52.203125 \r\nQ 14.9375 54.109375 19.578125 55.046875 \r\nQ 24.21875 56 28.609375 56 \r\nQ 40.484375 56 46.34375 49.84375 \r\nQ 52.203125 43.703125 52.203125 31.203125 \r\nz\r\n\" id=\"DejaVuSans-97\"/>\r\n      </defs>\r\n      <g transform=\"translate(224.796875 270.316563)scale(0.1 -0.1)\">\r\n       <use xlink:href=\"#DejaVuSans-110\"/>\r\n       <use x=\"63.378906\" xlink:href=\"#DejaVuSans-101\"/>\r\n       <use x=\"124.902344\" xlink:href=\"#DejaVuSans-103\"/>\r\n       <use x=\"188.378906\" xlink:href=\"#DejaVuSans-97\"/>\r\n       <use x=\"249.658203\" xlink:href=\"#DejaVuSans-116\"/>\r\n       <use x=\"288.867188\" xlink:href=\"#DejaVuSans-105\"/>\r\n       <use x=\"316.650391\" xlink:href=\"#DejaVuSans-118\"/>\r\n       <use x=\"375.830078\" xlink:href=\"#DejaVuSans-101\"/>\r\n      </g>\r\n     </g>\r\n    </g>\r\n    <g id=\"text_3\">\r\n     <!-- True Labels -->\r\n     <defs>\r\n      <path d=\"M -0.296875 72.90625 \r\nL 61.375 72.90625 \r\nL 61.375 64.59375 \r\nL 35.5 64.59375 \r\nL 35.5 0 \r\nL 25.59375 0 \r\nL 25.59375 64.59375 \r\nL -0.296875 64.59375 \r\nz\r\n\" id=\"DejaVuSans-84\"/>\r\n      <path d=\"M 41.109375 46.296875 \r\nQ 39.59375 47.171875 37.8125 47.578125 \r\nQ 36.03125 48 33.890625 48 \r\nQ 26.265625 48 22.1875 43.046875 \r\nQ 18.109375 38.09375 18.109375 28.8125 \r\nL 18.109375 0 \r\nL 9.078125 0 \r\nL 9.078125 54.6875 \r\nL 18.109375 54.6875 \r\nL 18.109375 46.1875 \r\nQ 20.953125 51.171875 25.484375 53.578125 \r\nQ 30.03125 56 36.53125 56 \r\nQ 37.453125 56 38.578125 55.875 \r\nQ 39.703125 55.765625 41.0625 55.515625 \r\nz\r\n\" id=\"DejaVuSans-114\"/>\r\n      <path d=\"M 8.5 21.578125 \r\nL 8.5 54.6875 \r\nL 17.484375 54.6875 \r\nL 17.484375 21.921875 \r\nQ 17.484375 14.15625 20.5 10.265625 \r\nQ 23.53125 6.390625 29.59375 6.390625 \r\nQ 36.859375 6.390625 41.078125 11.03125 \r\nQ 45.3125 15.671875 45.3125 23.6875 \r\nL 45.3125 54.6875 \r\nL 54.296875 54.6875 \r\nL 54.296875 0 \r\nL 45.3125 0 \r\nL 45.3125 8.40625 \r\nQ 42.046875 3.421875 37.71875 1 \r\nQ 33.40625 -1.421875 27.6875 -1.421875 \r\nQ 18.265625 -1.421875 13.375 4.4375 \r\nQ 8.5 10.296875 8.5 21.578125 \r\nz\r\nM 31.109375 56 \r\nz\r\n\" id=\"DejaVuSans-117\"/>\r\n      <path id=\"DejaVuSans-32\"/>\r\n      <path d=\"M 9.8125 72.90625 \r\nL 19.671875 72.90625 \r\nL 19.671875 8.296875 \r\nL 55.171875 8.296875 \r\nL 55.171875 0 \r\nL 9.8125 0 \r\nz\r\n\" id=\"DejaVuSans-76\"/>\r\n      <path d=\"M 48.6875 27.296875 \r\nQ 48.6875 37.203125 44.609375 42.84375 \r\nQ 40.53125 48.484375 33.40625 48.484375 \r\nQ 26.265625 48.484375 22.1875 42.84375 \r\nQ 18.109375 37.203125 18.109375 27.296875 \r\nQ 18.109375 17.390625 22.1875 11.75 \r\nQ 26.265625 6.109375 33.40625 6.109375 \r\nQ 40.53125 6.109375 44.609375 11.75 \r\nQ 48.6875 17.390625 48.6875 27.296875 \r\nz\r\nM 18.109375 46.390625 \r\nQ 20.953125 51.265625 25.265625 53.625 \r\nQ 29.59375 56 35.59375 56 \r\nQ 45.5625 56 51.78125 48.09375 \r\nQ 58.015625 40.1875 58.015625 27.296875 \r\nQ 58.015625 14.40625 51.78125 6.484375 \r\nQ 45.5625 -1.421875 35.59375 -1.421875 \r\nQ 29.59375 -1.421875 25.265625 0.953125 \r\nQ 20.953125 3.328125 18.109375 8.203125 \r\nL 18.109375 0 \r\nL 9.078125 0 \r\nL 9.078125 75.984375 \r\nL 18.109375 75.984375 \r\nz\r\n\" id=\"DejaVuSans-98\"/>\r\n      <path d=\"M 9.421875 75.984375 \r\nL 18.40625 75.984375 \r\nL 18.40625 0 \r\nL 9.421875 0 \r\nz\r\n\" id=\"DejaVuSans-108\"/>\r\n     </defs>\r\n     <g transform=\"translate(159.288281 283.994688)scale(0.1 -0.1)\">\r\n      <use xlink:href=\"#DejaVuSans-84\"/>\r\n      <use x=\"60.865234\" xlink:href=\"#DejaVuSans-114\"/>\r\n      <use x=\"101.978516\" xlink:href=\"#DejaVuSans-117\"/>\r\n      <use x=\"165.357422\" xlink:href=\"#DejaVuSans-101\"/>\r\n      <use x=\"226.880859\" xlink:href=\"#DejaVuSans-32\"/>\r\n      <use x=\"258.667969\" xlink:href=\"#DejaVuSans-76\"/>\r\n      <use x=\"314.380859\" xlink:href=\"#DejaVuSans-97\"/>\r\n      <use x=\"375.660156\" xlink:href=\"#DejaVuSans-98\"/>\r\n      <use x=\"439.136719\" xlink:href=\"#DejaVuSans-101\"/>\r\n      <use x=\"500.660156\" xlink:href=\"#DejaVuSans-108\"/>\r\n      <use x=\"528.443359\" xlink:href=\"#DejaVuSans-115\"/>\r\n     </g>\r\n    </g>\r\n   </g>\r\n   <g id=\"matplotlib.axis_2\">\r\n    <g id=\"ytick_1\">\r\n     <g id=\"line2d_3\">\r\n      <defs>\r\n       <path d=\"M 0 0 \r\nL -3.5 0 \r\n\" id=\"m4090b9f591\" style=\"stroke:#000000;stroke-width:0.8;\"/>\r\n      </defs>\r\n      <g>\r\n       <use style=\"stroke:#000000;stroke-width:0.8;\" x=\"71.615625\" xlink:href=\"#m4090b9f591\" y=\"80.668125\"/>\r\n      </g>\r\n     </g>\r\n     <g id=\"text_4\">\r\n      <!-- positive -->\r\n      <g transform=\"translate(25.390625 84.467344)scale(0.1 -0.1)\">\r\n       <use xlink:href=\"#DejaVuSans-112\"/>\r\n       <use x=\"63.476562\" xlink:href=\"#DejaVuSans-111\"/>\r\n       <use x=\"124.658203\" xlink:href=\"#DejaVuSans-115\"/>\r\n       <use x=\"176.757812\" xlink:href=\"#DejaVuSans-105\"/>\r\n       <use x=\"204.541016\" xlink:href=\"#DejaVuSans-116\"/>\r\n       <use x=\"243.75\" xlink:href=\"#DejaVuSans-105\"/>\r\n       <use x=\"271.533203\" xlink:href=\"#DejaVuSans-118\"/>\r\n       <use x=\"330.712891\" xlink:href=\"#DejaVuSans-101\"/>\r\n      </g>\r\n     </g>\r\n    </g>\r\n    <g id=\"ytick_2\">\r\n     <g id=\"line2d_4\">\r\n      <g>\r\n       <use style=\"stroke:#000000;stroke-width:0.8;\" x=\"71.615625\" xlink:href=\"#m4090b9f591\" y=\"197.368125\"/>\r\n      </g>\r\n     </g>\r\n     <g id=\"text_5\">\r\n      <!-- negative -->\r\n      <g transform=\"translate(20.878125 201.167344)scale(0.1 -0.1)\">\r\n       <use xlink:href=\"#DejaVuSans-110\"/>\r\n       <use x=\"63.378906\" xlink:href=\"#DejaVuSans-101\"/>\r\n       <use x=\"124.902344\" xlink:href=\"#DejaVuSans-103\"/>\r\n       <use x=\"188.378906\" xlink:href=\"#DejaVuSans-97\"/>\r\n       <use x=\"249.658203\" xlink:href=\"#DejaVuSans-116\"/>\r\n       <use x=\"288.867188\" xlink:href=\"#DejaVuSans-105\"/>\r\n       <use x=\"316.650391\" xlink:href=\"#DejaVuSans-118\"/>\r\n       <use x=\"375.830078\" xlink:href=\"#DejaVuSans-101\"/>\r\n      </g>\r\n     </g>\r\n    </g>\r\n    <g id=\"text_6\">\r\n     <!-- Predicted Labels -->\r\n     <defs>\r\n      <path d=\"M 19.671875 64.796875 \r\nL 19.671875 37.40625 \r\nL 32.078125 37.40625 \r\nQ 38.96875 37.40625 42.71875 40.96875 \r\nQ 46.484375 44.53125 46.484375 51.125 \r\nQ 46.484375 57.671875 42.71875 61.234375 \r\nQ 38.96875 64.796875 32.078125 64.796875 \r\nz\r\nM 9.8125 72.90625 \r\nL 32.078125 72.90625 \r\nQ 44.34375 72.90625 50.609375 67.359375 \r\nQ 56.890625 61.8125 56.890625 51.125 \r\nQ 56.890625 40.328125 50.609375 34.8125 \r\nQ 44.34375 29.296875 32.078125 29.296875 \r\nL 19.671875 29.296875 \r\nL 19.671875 0 \r\nL 9.8125 0 \r\nz\r\n\" id=\"DejaVuSans-80\"/>\r\n      <path d=\"M 45.40625 46.390625 \r\nL 45.40625 75.984375 \r\nL 54.390625 75.984375 \r\nL 54.390625 0 \r\nL 45.40625 0 \r\nL 45.40625 8.203125 \r\nQ 42.578125 3.328125 38.25 0.953125 \r\nQ 33.9375 -1.421875 27.875 -1.421875 \r\nQ 17.96875 -1.421875 11.734375 6.484375 \r\nQ 5.515625 14.40625 5.515625 27.296875 \r\nQ 5.515625 40.1875 11.734375 48.09375 \r\nQ 17.96875 56 27.875 56 \r\nQ 33.9375 56 38.25 53.625 \r\nQ 42.578125 51.265625 45.40625 46.390625 \r\nz\r\nM 14.796875 27.296875 \r\nQ 14.796875 17.390625 18.875 11.75 \r\nQ 22.953125 6.109375 30.078125 6.109375 \r\nQ 37.203125 6.109375 41.296875 11.75 \r\nQ 45.40625 17.390625 45.40625 27.296875 \r\nQ 45.40625 37.203125 41.296875 42.84375 \r\nQ 37.203125 48.484375 30.078125 48.484375 \r\nQ 22.953125 48.484375 18.875 42.84375 \r\nQ 14.796875 37.203125 14.796875 27.296875 \r\nz\r\n\" id=\"DejaVuSans-100\"/>\r\n      <path d=\"M 48.78125 52.59375 \r\nL 48.78125 44.1875 \r\nQ 44.96875 46.296875 41.140625 47.34375 \r\nQ 37.3125 48.390625 33.40625 48.390625 \r\nQ 24.65625 48.390625 19.8125 42.84375 \r\nQ 14.984375 37.3125 14.984375 27.296875 \r\nQ 14.984375 17.28125 19.8125 11.734375 \r\nQ 24.65625 6.203125 33.40625 6.203125 \r\nQ 37.3125 6.203125 41.140625 7.25 \r\nQ 44.96875 8.296875 48.78125 10.40625 \r\nL 48.78125 2.09375 \r\nQ 45.015625 0.34375 40.984375 -0.53125 \r\nQ 36.96875 -1.421875 32.421875 -1.421875 \r\nQ 20.0625 -1.421875 12.78125 6.34375 \r\nQ 5.515625 14.109375 5.515625 27.296875 \r\nQ 5.515625 40.671875 12.859375 48.328125 \r\nQ 20.21875 56 33.015625 56 \r\nQ 37.15625 56 41.109375 55.140625 \r\nQ 45.0625 54.296875 48.78125 52.59375 \r\nz\r\n\" id=\"DejaVuSans-99\"/>\r\n     </defs>\r\n     <g transform=\"translate(14.798437 180.369688)rotate(-90)scale(0.1 -0.1)\">\r\n      <use xlink:href=\"#DejaVuSans-80\"/>\r\n      <use x=\"60.287109\" xlink:href=\"#DejaVuSans-114\"/>\r\n      <use x=\"101.369141\" xlink:href=\"#DejaVuSans-101\"/>\r\n      <use x=\"162.892578\" xlink:href=\"#DejaVuSans-100\"/>\r\n      <use x=\"226.369141\" xlink:href=\"#DejaVuSans-105\"/>\r\n      <use x=\"254.152344\" xlink:href=\"#DejaVuSans-99\"/>\r\n      <use x=\"309.132812\" xlink:href=\"#DejaVuSans-116\"/>\r\n      <use x=\"348.341797\" xlink:href=\"#DejaVuSans-101\"/>\r\n      <use x=\"409.865234\" xlink:href=\"#DejaVuSans-100\"/>\r\n      <use x=\"473.341797\" xlink:href=\"#DejaVuSans-32\"/>\r\n      <use x=\"505.128906\" xlink:href=\"#DejaVuSans-76\"/>\r\n      <use x=\"560.841797\" xlink:href=\"#DejaVuSans-97\"/>\r\n      <use x=\"622.121094\" xlink:href=\"#DejaVuSans-98\"/>\r\n      <use x=\"685.597656\" xlink:href=\"#DejaVuSans-101\"/>\r\n      <use x=\"747.121094\" xlink:href=\"#DejaVuSans-108\"/>\r\n      <use x=\"774.904297\" xlink:href=\"#DejaVuSans-115\"/>\r\n     </g>\r\n    </g>\r\n   </g>\r\n   <g id=\"patch_3\">\r\n    <path d=\"M 71.615625 255.718125 \r\nL 71.615625 22.318125 \r\n\" style=\"fill:none;stroke:#000000;stroke-linecap:square;stroke-linejoin:miter;stroke-width:0.8;\"/>\r\n   </g>\r\n   <g id=\"patch_4\">\r\n    <path d=\"M 305.015625 255.718125 \r\nL 305.015625 22.318125 \r\n\" style=\"fill:none;stroke:#000000;stroke-linecap:square;stroke-linejoin:miter;stroke-width:0.8;\"/>\r\n   </g>\r\n   <g id=\"patch_5\">\r\n    <path d=\"M 71.615625 255.718125 \r\nL 305.015625 255.718125 \r\n\" style=\"fill:none;stroke:#000000;stroke-linecap:square;stroke-linejoin:miter;stroke-width:0.8;\"/>\r\n   </g>\r\n   <g id=\"patch_6\">\r\n    <path d=\"M 71.615625 22.318125 \r\nL 305.015625 22.318125 \r\n\" style=\"fill:none;stroke:#000000;stroke-linecap:square;stroke-linejoin:miter;stroke-width:0.8;\"/>\r\n   </g>\r\n   <g id=\"text_7\">\r\n    <!-- Confusion Matrix -->\r\n    <defs>\r\n     <path d=\"M 64.40625 67.28125 \r\nL 64.40625 56.890625 \r\nQ 59.421875 61.53125 53.78125 63.8125 \r\nQ 48.140625 66.109375 41.796875 66.109375 \r\nQ 29.296875 66.109375 22.65625 58.46875 \r\nQ 16.015625 50.828125 16.015625 36.375 \r\nQ 16.015625 21.96875 22.65625 14.328125 \r\nQ 29.296875 6.6875 41.796875 6.6875 \r\nQ 48.140625 6.6875 53.78125 8.984375 \r\nQ 59.421875 11.28125 64.40625 15.921875 \r\nL 64.40625 5.609375 \r\nQ 59.234375 2.09375 53.4375 0.328125 \r\nQ 47.65625 -1.421875 41.21875 -1.421875 \r\nQ 24.65625 -1.421875 15.125 8.703125 \r\nQ 5.609375 18.84375 5.609375 36.375 \r\nQ 5.609375 53.953125 15.125 64.078125 \r\nQ 24.65625 74.21875 41.21875 74.21875 \r\nQ 47.75 74.21875 53.53125 72.484375 \r\nQ 59.328125 70.75 64.40625 67.28125 \r\nz\r\n\" id=\"DejaVuSans-67\"/>\r\n     <path d=\"M 37.109375 75.984375 \r\nL 37.109375 68.5 \r\nL 28.515625 68.5 \r\nQ 23.6875 68.5 21.796875 66.546875 \r\nQ 19.921875 64.59375 19.921875 59.515625 \r\nL 19.921875 54.6875 \r\nL 34.71875 54.6875 \r\nL 34.71875 47.703125 \r\nL 19.921875 47.703125 \r\nL 19.921875 0 \r\nL 10.890625 0 \r\nL 10.890625 47.703125 \r\nL 2.296875 47.703125 \r\nL 2.296875 54.6875 \r\nL 10.890625 54.6875 \r\nL 10.890625 58.5 \r\nQ 10.890625 67.625 15.140625 71.796875 \r\nQ 19.390625 75.984375 28.609375 75.984375 \r\nz\r\n\" id=\"DejaVuSans-102\"/>\r\n     <path d=\"M 9.8125 72.90625 \r\nL 24.515625 72.90625 \r\nL 43.109375 23.296875 \r\nL 61.8125 72.90625 \r\nL 76.515625 72.90625 \r\nL 76.515625 0 \r\nL 66.890625 0 \r\nL 66.890625 64.015625 \r\nL 48.09375 14.015625 \r\nL 38.1875 14.015625 \r\nL 19.390625 64.015625 \r\nL 19.390625 0 \r\nL 9.8125 0 \r\nz\r\n\" id=\"DejaVuSans-77\"/>\r\n     <path d=\"M 54.890625 54.6875 \r\nL 35.109375 28.078125 \r\nL 55.90625 0 \r\nL 45.3125 0 \r\nL 29.390625 21.484375 \r\nL 13.484375 0 \r\nL 2.875 0 \r\nL 24.125 28.609375 \r\nL 4.6875 54.6875 \r\nL 15.28125 54.6875 \r\nL 29.78125 35.203125 \r\nL 44.28125 54.6875 \r\nz\r\n\" id=\"DejaVuSans-120\"/>\r\n    </defs>\r\n    <g transform=\"translate(137.67375 16.318125)scale(0.12 -0.12)\">\r\n     <use xlink:href=\"#DejaVuSans-67\"/>\r\n     <use x=\"69.824219\" xlink:href=\"#DejaVuSans-111\"/>\r\n     <use x=\"131.005859\" xlink:href=\"#DejaVuSans-110\"/>\r\n     <use x=\"194.384766\" xlink:href=\"#DejaVuSans-102\"/>\r\n     <use x=\"229.589844\" xlink:href=\"#DejaVuSans-117\"/>\r\n     <use x=\"292.96875\" xlink:href=\"#DejaVuSans-115\"/>\r\n     <use x=\"345.068359\" xlink:href=\"#DejaVuSans-105\"/>\r\n     <use x=\"372.851562\" xlink:href=\"#DejaVuSans-111\"/>\r\n     <use x=\"434.033203\" xlink:href=\"#DejaVuSans-110\"/>\r\n     <use x=\"497.412109\" xlink:href=\"#DejaVuSans-32\"/>\r\n     <use x=\"529.199219\" xlink:href=\"#DejaVuSans-77\"/>\r\n     <use x=\"615.478516\" xlink:href=\"#DejaVuSans-97\"/>\r\n     <use x=\"676.757812\" xlink:href=\"#DejaVuSans-116\"/>\r\n     <use x=\"715.966797\" xlink:href=\"#DejaVuSans-114\"/>\r\n     <use x=\"757.080078\" xlink:href=\"#DejaVuSans-105\"/>\r\n     <use x=\"784.863281\" xlink:href=\"#DejaVuSans-120\"/>\r\n    </g>\r\n   </g>\r\n  </g>\r\n  <g id=\"axes_2\">\r\n   <g id=\"patch_7\">\r\n    <path clip-path=\"url(#p80e106bf81)\" d=\"M 325.518125 255.718125 \r\nL 325.518125 254.806406 \r\nL 325.518125 23.229844 \r\nL 325.518125 22.318125 \r\nL 337.188125 22.318125 \r\nL 337.188125 23.229844 \r\nL 337.188125 254.806406 \r\nL 337.188125 255.718125 \r\nz\r\n\" style=\"fill:#ffffff;stroke:#ffffff;stroke-linejoin:miter;stroke-width:0.01;\"/>\r\n   </g>\r\n   <image height=\"233\" id=\"imagee347653404\" transform=\"scale(1 -1)translate(0 -233)\" width=\"11\" x=\"326\" xlink:href=\"data:image/png;base64,\r\niVBORw0KGgoAAAANSUhEUgAAAAsAAADpCAYAAADyIM2vAAAABHNCSVQICAgIfAhkiAAAARdJREFUaIHtmEEKwzAMBNXi/z+3h0LiHpOjpzCwCs55WSZaSXby+nznrMVnzFrW1gDaGkBbY524akygNjFI6Yjze10aw0zrHIEB+zmCGTmXxnxqpUtZMpv5Jt5x38UdmeEJa2F0LF0Ks3btORteqLyNFMLMQkHOGdWIYSZiEsohjhXpOs3Zq7O5kVCCwFkcWBS3dtB7MxiyGA/AQZmBWDwHO3Zdy4EFYrbMQzDWjenKJTMo3p+9Rlo3NntDPOi9uNcpzOlOaaSUJYOY+/VzSChi3GzlRjBv57+de8YdggGcYZ0955DSaX9cxUbSxGKCu86XOOUFM+J+fp0bJlhMvP7l3dRZwziPCIzHO5NJEXuDxd2wztv5en48n/5RooIUWgAAAABJRU5ErkJggg==\" y=\"-22\"/>\r\n   <g id=\"matplotlib.axis_3\"/>\r\n   <g id=\"matplotlib.axis_4\">\r\n    <g id=\"ytick_3\">\r\n     <g id=\"line2d_5\">\r\n      <defs>\r\n       <path d=\"M 0 0 \r\nL 3.5 0 \r\n\" id=\"m5ac2006155\" style=\"stroke:#000000;stroke-width:0.8;\"/>\r\n      </defs>\r\n      <g>\r\n       <use style=\"stroke:#000000;stroke-width:0.8;\" x=\"337.188125\" xlink:href=\"#m5ac2006155\" y=\"240.962953\"/>\r\n      </g>\r\n     </g>\r\n     <g id=\"text_8\">\r\n      <!-- 20 -->\r\n      <defs>\r\n       <path d=\"M 19.1875 8.296875 \r\nL 53.609375 8.296875 \r\nL 53.609375 0 \r\nL 7.328125 0 \r\nL 7.328125 8.296875 \r\nQ 12.9375 14.109375 22.625 23.890625 \r\nQ 32.328125 33.6875 34.8125 36.53125 \r\nQ 39.546875 41.84375 41.421875 45.53125 \r\nQ 43.3125 49.21875 43.3125 52.78125 \r\nQ 43.3125 58.59375 39.234375 62.25 \r\nQ 35.15625 65.921875 28.609375 65.921875 \r\nQ 23.96875 65.921875 18.8125 64.3125 \r\nQ 13.671875 62.703125 7.8125 59.421875 \r\nL 7.8125 69.390625 \r\nQ 13.765625 71.78125 18.9375 73 \r\nQ 24.125 74.21875 28.421875 74.21875 \r\nQ 39.75 74.21875 46.484375 68.546875 \r\nQ 53.21875 62.890625 53.21875 53.421875 \r\nQ 53.21875 48.921875 51.53125 44.890625 \r\nQ 49.859375 40.875 45.40625 35.40625 \r\nQ 44.1875 33.984375 37.640625 27.21875 \r\nQ 31.109375 20.453125 19.1875 8.296875 \r\nz\r\n\" id=\"DejaVuSans-50\"/>\r\n       <path d=\"M 31.78125 66.40625 \r\nQ 24.171875 66.40625 20.328125 58.90625 \r\nQ 16.5 51.421875 16.5 36.375 \r\nQ 16.5 21.390625 20.328125 13.890625 \r\nQ 24.171875 6.390625 31.78125 6.390625 \r\nQ 39.453125 6.390625 43.28125 13.890625 \r\nQ 47.125 21.390625 47.125 36.375 \r\nQ 47.125 51.421875 43.28125 58.90625 \r\nQ 39.453125 66.40625 31.78125 66.40625 \r\nz\r\nM 31.78125 74.21875 \r\nQ 44.046875 74.21875 50.515625 64.515625 \r\nQ 56.984375 54.828125 56.984375 36.375 \r\nQ 56.984375 17.96875 50.515625 8.265625 \r\nQ 44.046875 -1.421875 31.78125 -1.421875 \r\nQ 19.53125 -1.421875 13.0625 8.265625 \r\nQ 6.59375 17.96875 6.59375 36.375 \r\nQ 6.59375 54.828125 13.0625 64.515625 \r\nQ 19.53125 74.21875 31.78125 74.21875 \r\nz\r\n\" id=\"DejaVuSans-48\"/>\r\n      </defs>\r\n      <g transform=\"translate(344.188125 244.762171)scale(0.1 -0.1)\">\r\n       <use xlink:href=\"#DejaVuSans-50\"/>\r\n       <use x=\"63.623047\" xlink:href=\"#DejaVuSans-48\"/>\r\n      </g>\r\n     </g>\r\n    </g>\r\n    <g id=\"ytick_4\">\r\n     <g id=\"line2d_6\">\r\n      <g>\r\n       <use style=\"stroke:#000000;stroke-width:0.8;\" x=\"337.188125\" xlink:href=\"#m5ac2006155\" y=\"214.135366\"/>\r\n      </g>\r\n     </g>\r\n     <g id=\"text_9\">\r\n      <!-- 40 -->\r\n      <defs>\r\n       <path d=\"M 37.796875 64.3125 \r\nL 12.890625 25.390625 \r\nL 37.796875 25.390625 \r\nz\r\nM 35.203125 72.90625 \r\nL 47.609375 72.90625 \r\nL 47.609375 25.390625 \r\nL 58.015625 25.390625 \r\nL 58.015625 17.1875 \r\nL 47.609375 17.1875 \r\nL 47.609375 0 \r\nL 37.796875 0 \r\nL 37.796875 17.1875 \r\nL 4.890625 17.1875 \r\nL 4.890625 26.703125 \r\nz\r\n\" id=\"DejaVuSans-52\"/>\r\n      </defs>\r\n      <g transform=\"translate(344.188125 217.934585)scale(0.1 -0.1)\">\r\n       <use xlink:href=\"#DejaVuSans-52\"/>\r\n       <use x=\"63.623047\" xlink:href=\"#DejaVuSans-48\"/>\r\n      </g>\r\n     </g>\r\n    </g>\r\n    <g id=\"ytick_5\">\r\n     <g id=\"line2d_7\">\r\n      <g>\r\n       <use style=\"stroke:#000000;stroke-width:0.8;\" x=\"337.188125\" xlink:href=\"#m5ac2006155\" y=\"187.30778\"/>\r\n      </g>\r\n     </g>\r\n     <g id=\"text_10\">\r\n      <!-- 60 -->\r\n      <defs>\r\n       <path d=\"M 33.015625 40.375 \r\nQ 26.375 40.375 22.484375 35.828125 \r\nQ 18.609375 31.296875 18.609375 23.390625 \r\nQ 18.609375 15.53125 22.484375 10.953125 \r\nQ 26.375 6.390625 33.015625 6.390625 \r\nQ 39.65625 6.390625 43.53125 10.953125 \r\nQ 47.40625 15.53125 47.40625 23.390625 \r\nQ 47.40625 31.296875 43.53125 35.828125 \r\nQ 39.65625 40.375 33.015625 40.375 \r\nz\r\nM 52.59375 71.296875 \r\nL 52.59375 62.3125 \r\nQ 48.875 64.0625 45.09375 64.984375 \r\nQ 41.3125 65.921875 37.59375 65.921875 \r\nQ 27.828125 65.921875 22.671875 59.328125 \r\nQ 17.53125 52.734375 16.796875 39.40625 \r\nQ 19.671875 43.65625 24.015625 45.921875 \r\nQ 28.375 48.1875 33.59375 48.1875 \r\nQ 44.578125 48.1875 50.953125 41.515625 \r\nQ 57.328125 34.859375 57.328125 23.390625 \r\nQ 57.328125 12.15625 50.6875 5.359375 \r\nQ 44.046875 -1.421875 33.015625 -1.421875 \r\nQ 20.359375 -1.421875 13.671875 8.265625 \r\nQ 6.984375 17.96875 6.984375 36.375 \r\nQ 6.984375 53.65625 15.1875 63.9375 \r\nQ 23.390625 74.21875 37.203125 74.21875 \r\nQ 40.921875 74.21875 44.703125 73.484375 \r\nQ 48.484375 72.75 52.59375 71.296875 \r\nz\r\n\" id=\"DejaVuSans-54\"/>\r\n      </defs>\r\n      <g transform=\"translate(344.188125 191.106999)scale(0.1 -0.1)\">\r\n       <use xlink:href=\"#DejaVuSans-54\"/>\r\n       <use x=\"63.623047\" xlink:href=\"#DejaVuSans-48\"/>\r\n      </g>\r\n     </g>\r\n    </g>\r\n    <g id=\"ytick_6\">\r\n     <g id=\"line2d_8\">\r\n      <g>\r\n       <use style=\"stroke:#000000;stroke-width:0.8;\" x=\"337.188125\" xlink:href=\"#m5ac2006155\" y=\"160.480194\"/>\r\n      </g>\r\n     </g>\r\n     <g id=\"text_11\">\r\n      <!-- 80 -->\r\n      <defs>\r\n       <path d=\"M 31.78125 34.625 \r\nQ 24.75 34.625 20.71875 30.859375 \r\nQ 16.703125 27.09375 16.703125 20.515625 \r\nQ 16.703125 13.921875 20.71875 10.15625 \r\nQ 24.75 6.390625 31.78125 6.390625 \r\nQ 38.8125 6.390625 42.859375 10.171875 \r\nQ 46.921875 13.96875 46.921875 20.515625 \r\nQ 46.921875 27.09375 42.890625 30.859375 \r\nQ 38.875 34.625 31.78125 34.625 \r\nz\r\nM 21.921875 38.8125 \r\nQ 15.578125 40.375 12.03125 44.71875 \r\nQ 8.5 49.078125 8.5 55.328125 \r\nQ 8.5 64.0625 14.71875 69.140625 \r\nQ 20.953125 74.21875 31.78125 74.21875 \r\nQ 42.671875 74.21875 48.875 69.140625 \r\nQ 55.078125 64.0625 55.078125 55.328125 \r\nQ 55.078125 49.078125 51.53125 44.71875 \r\nQ 48 40.375 41.703125 38.8125 \r\nQ 48.828125 37.15625 52.796875 32.3125 \r\nQ 56.78125 27.484375 56.78125 20.515625 \r\nQ 56.78125 9.90625 50.3125 4.234375 \r\nQ 43.84375 -1.421875 31.78125 -1.421875 \r\nQ 19.734375 -1.421875 13.25 4.234375 \r\nQ 6.78125 9.90625 6.78125 20.515625 \r\nQ 6.78125 27.484375 10.78125 32.3125 \r\nQ 14.796875 37.15625 21.921875 38.8125 \r\nz\r\nM 18.3125 54.390625 \r\nQ 18.3125 48.734375 21.84375 45.5625 \r\nQ 25.390625 42.390625 31.78125 42.390625 \r\nQ 38.140625 42.390625 41.71875 45.5625 \r\nQ 45.3125 48.734375 45.3125 54.390625 \r\nQ 45.3125 60.0625 41.71875 63.234375 \r\nQ 38.140625 66.40625 31.78125 66.40625 \r\nQ 25.390625 66.40625 21.84375 63.234375 \r\nQ 18.3125 60.0625 18.3125 54.390625 \r\nz\r\n\" id=\"DejaVuSans-56\"/>\r\n      </defs>\r\n      <g transform=\"translate(344.188125 164.279413)scale(0.1 -0.1)\">\r\n       <use xlink:href=\"#DejaVuSans-56\"/>\r\n       <use x=\"63.623047\" xlink:href=\"#DejaVuSans-48\"/>\r\n      </g>\r\n     </g>\r\n    </g>\r\n    <g id=\"ytick_7\">\r\n     <g id=\"line2d_9\">\r\n      <g>\r\n       <use style=\"stroke:#000000;stroke-width:0.8;\" x=\"337.188125\" xlink:href=\"#m5ac2006155\" y=\"133.652608\"/>\r\n      </g>\r\n     </g>\r\n     <g id=\"text_12\">\r\n      <!-- 100 -->\r\n      <defs>\r\n       <path d=\"M 12.40625 8.296875 \r\nL 28.515625 8.296875 \r\nL 28.515625 63.921875 \r\nL 10.984375 60.40625 \r\nL 10.984375 69.390625 \r\nL 28.421875 72.90625 \r\nL 38.28125 72.90625 \r\nL 38.28125 8.296875 \r\nL 54.390625 8.296875 \r\nL 54.390625 0 \r\nL 12.40625 0 \r\nz\r\n\" id=\"DejaVuSans-49\"/>\r\n      </defs>\r\n      <g transform=\"translate(344.188125 137.451827)scale(0.1 -0.1)\">\r\n       <use xlink:href=\"#DejaVuSans-49\"/>\r\n       <use x=\"63.623047\" xlink:href=\"#DejaVuSans-48\"/>\r\n       <use x=\"127.246094\" xlink:href=\"#DejaVuSans-48\"/>\r\n      </g>\r\n     </g>\r\n    </g>\r\n    <g id=\"ytick_8\">\r\n     <g id=\"line2d_10\">\r\n      <g>\r\n       <use style=\"stroke:#000000;stroke-width:0.8;\" x=\"337.188125\" xlink:href=\"#m5ac2006155\" y=\"106.825022\"/>\r\n      </g>\r\n     </g>\r\n     <g id=\"text_13\">\r\n      <!-- 120 -->\r\n      <g transform=\"translate(344.188125 110.62424)scale(0.1 -0.1)\">\r\n       <use xlink:href=\"#DejaVuSans-49\"/>\r\n       <use x=\"63.623047\" xlink:href=\"#DejaVuSans-50\"/>\r\n       <use x=\"127.246094\" xlink:href=\"#DejaVuSans-48\"/>\r\n      </g>\r\n     </g>\r\n    </g>\r\n    <g id=\"ytick_9\">\r\n     <g id=\"line2d_11\">\r\n      <g>\r\n       <use style=\"stroke:#000000;stroke-width:0.8;\" x=\"337.188125\" xlink:href=\"#m5ac2006155\" y=\"79.997435\"/>\r\n      </g>\r\n     </g>\r\n     <g id=\"text_14\">\r\n      <!-- 140 -->\r\n      <g transform=\"translate(344.188125 83.796654)scale(0.1 -0.1)\">\r\n       <use xlink:href=\"#DejaVuSans-49\"/>\r\n       <use x=\"63.623047\" xlink:href=\"#DejaVuSans-52\"/>\r\n       <use x=\"127.246094\" xlink:href=\"#DejaVuSans-48\"/>\r\n      </g>\r\n     </g>\r\n    </g>\r\n    <g id=\"ytick_10\">\r\n     <g id=\"line2d_12\">\r\n      <g>\r\n       <use style=\"stroke:#000000;stroke-width:0.8;\" x=\"337.188125\" xlink:href=\"#m5ac2006155\" y=\"53.169849\"/>\r\n      </g>\r\n     </g>\r\n     <g id=\"text_15\">\r\n      <!-- 160 -->\r\n      <g transform=\"translate(344.188125 56.969068)scale(0.1 -0.1)\">\r\n       <use xlink:href=\"#DejaVuSans-49\"/>\r\n       <use x=\"63.623047\" xlink:href=\"#DejaVuSans-54\"/>\r\n       <use x=\"127.246094\" xlink:href=\"#DejaVuSans-48\"/>\r\n      </g>\r\n     </g>\r\n    </g>\r\n    <g id=\"ytick_11\">\r\n     <g id=\"line2d_13\">\r\n      <g>\r\n       <use style=\"stroke:#000000;stroke-width:0.8;\" x=\"337.188125\" xlink:href=\"#m5ac2006155\" y=\"26.342263\"/>\r\n      </g>\r\n     </g>\r\n     <g id=\"text_16\">\r\n      <!-- 180 -->\r\n      <g transform=\"translate(344.188125 30.141482)scale(0.1 -0.1)\">\r\n       <use xlink:href=\"#DejaVuSans-49\"/>\r\n       <use x=\"63.623047\" xlink:href=\"#DejaVuSans-56\"/>\r\n       <use x=\"127.246094\" xlink:href=\"#DejaVuSans-48\"/>\r\n      </g>\r\n     </g>\r\n    </g>\r\n   </g>\r\n   <g id=\"patch_8\">\r\n    <path d=\"M 325.518125 255.718125 \r\nL 325.518125 254.806406 \r\nL 325.518125 23.229844 \r\nL 325.518125 22.318125 \r\nL 337.188125 22.318125 \r\nL 337.188125 23.229844 \r\nL 337.188125 254.806406 \r\nL 337.188125 255.718125 \r\nz\r\n\" style=\"fill:none;stroke:#000000;stroke-linejoin:miter;stroke-width:0.8;\"/>\r\n   </g>\r\n  </g>\r\n </g>\r\n <defs>\r\n  <clipPath id=\"p8aca87d503\">\r\n   <rect height=\"233.4\" width=\"233.4\" x=\"71.615625\" y=\"22.318125\"/>\r\n  </clipPath>\r\n  <clipPath id=\"p80e106bf81\">\r\n   <rect height=\"233.4\" width=\"11.67\" x=\"325.518125\" y=\"22.318125\"/>\r\n  </clipPath>\r\n </defs>\r\n</svg>\r\n",
      "image/png": "[encoded data removed]"
     },
     "metadata": {
      "needs_background": "light"
     }
    }
   ],
   "source": [
    "plot_confusionmatrix(cm2)"
   ]
  },
  {
   "cell_type": "code",
   "execution_count": 63,
   "metadata": {},
   "outputs": [
    {
     "output_type": "stream",
     "name": "stdout",
     "text": [
      "              precision    recall  f1-score   support\n\n           0       0.94      0.74      0.83       186\n           1       0.79      0.95      0.86       192\n\n   micro avg       0.85      0.85      0.85       378\n   macro avg       0.86      0.84      0.84       378\nweighted avg       0.86      0.85      0.84       378\n\n"
     ]
    }
   ],
   "source": [
    "report=classification_report(test['Label'],predict)\n",
    "print(report)"
   ]
  },
  {
   "cell_type": "code",
   "execution_count": 64,
   "metadata": {},
   "outputs": [
    {
     "output_type": "execute_result",
     "data": {
      "text/plain": [
       "0.8465608465608465"
      ]
     },
     "metadata": {},
     "execution_count": 64
    }
   ],
   "source": [
    "accuracy_score(test['Label'],predict)"
   ]
  }
 ]
}